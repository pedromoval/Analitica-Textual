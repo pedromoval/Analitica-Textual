{
  "nbformat": 4,
  "nbformat_minor": 0,
  "metadata": {
    "colab": {
      "name": "Modelamiento_Topicos.ipynb",
      "provenance": [],
      "collapsed_sections": []
    },
    "kernelspec": {
      "name": "python3",
      "display_name": "Python 3"
    },
    "language_info": {
      "name": "python"
    }
  },
  "cells": [
    {
      "cell_type": "markdown",
      "source": [
        "Primero, necesitamos instalar algunos paquetes, importar bibliotecas y utilitarios:"
      ],
      "metadata": {
        "id": "Jj91UIasTBCK"
      }
    },
    {
      "cell_type": "code",
      "source": [
        "!python -m spacy download es_core_news_md\n",
        "!pip install pyLDAvis && python -m spacy download es_core_news_md\n",
        "!pip install gensim\n",
        "\n",
        "from pathlib import Path\n",
        "from typing import List\n",
        "from tqdm import tqdm\n",
        "import matplotlib.pyplot as plt\n",
        "import seaborn as sns\n",
        "import numpy as np\n",
        "import os\n",
        "import es_core_news_md\n",
        "import nltk\n",
        "import chardet\n",
        "\n",
        "nltk.download('stopwords')"
      ],
      "metadata": {
        "id": "Vy3DIZRWVkFQ"
      },
      "execution_count": null,
      "outputs": []
    },
    {
      "cell_type": "code",
      "source": [
        "from IPython.display import display\n",
        "import gensim\n",
        "from gensim import corpora\n",
        "from gensim.models.coherencemodel import CoherenceModel\n",
        "import pyLDAvis\n",
        "#import pyLDAvis.gensim\n",
        "\n",
        "#import es_core_news_sm\n",
        "import os\n",
        "import regex\n",
        "# from spacy.lang.es.stop_words import STOP_WORDS\n",
        "from string import punctuation\n",
        "import matplotlib.pyplot as plt\n",
        "import warnings\n",
        "warnings.filterwarnings('ignore')"
      ],
      "metadata": {
        "id": "rlOwi2YV6sue"
      },
      "execution_count": null,
      "outputs": []
    },
    {
      "cell_type": "code",
      "source": [
        "import nltk\n",
        "nltk.download('stopwords')\n",
        "\n",
        "from nltk.corpus import stopwords\n",
        "STOPWORDS = stopwords.words(\"spanish\")"
      ],
      "metadata": {
        "id": "A_4F2LKr6wCW"
      },
      "execution_count": null,
      "outputs": []
    },
    {
      "cell_type": "markdown",
      "source": [
        "Luego montamos nuestro *Drive* donde se encuentra la carpeta DiscursosOriginales con los discursos presidenciales que serviran como base para el análisis:"
      ],
      "metadata": {
        "id": "lgAjZrZRW22j"
      }
    },
    {
      "cell_type": "code",
      "execution_count": null,
      "metadata": {
        "colab": {
          "base_uri": "https://localhost:8080/"
        },
        "id": "iuqnBgfF8Vzk",
        "outputId": "0c9da539-586e-4f4a-f9ea-ca1ed975f791"
      },
      "outputs": [
        {
          "output_type": "stream",
          "name": "stdout",
          "text": [
            "Drive already mounted at /content/drive; to attempt to forcibly remount, call drive.mount(\"/content/drive\", force_remount=True).\n"
          ]
        }
      ],
      "source": [
        "from google.colab import drive\n",
        "\n",
        "\n",
        "# Montar disco desde google drive\n",
        "drive.mount('/content/drive')"
      ]
    },
    {
      "cell_type": "markdown",
      "source": [
        "Ajustamos la  variable que especifica el directorio de documentos e inicializamos el método NLP (Natural Language Modeling)."
      ],
      "metadata": {
        "id": "mHewcvEmSSzn"
      }
    },
    {
      "cell_type": "code",
      "source": [
        "PATH = \"/content/drive/MyDrive/DiscursosOriginales/\"\n",
        "\n",
        "nlp = es_core_news_md.load(disable=[\"paser\", \"ner\"])\n"
      ],
      "metadata": {
        "id": "i5qyy-9z66I1"
      },
      "execution_count": null,
      "outputs": []
    },
    {
      "cell_type": "markdown",
      "source": [
        "Re-utiizamos algunas funciones utilitarias vistas en clases que nos servirán para hacer la limpieza y el pre-procesamiento de los Discursos Presidenciales, las cuales definimos a continuación:\n",
        "\n",
        "\n"
      ],
      "metadata": {
        "id": "zkTaNXLXSra_"
      }
    },
    {
      "cell_type": "code",
      "source": [
        "def EliminaNumeroYPuntuacion(oracion):\n",
        "    string_numeros = regex.sub(r'[\\”\\“\\¿\\°\\d+]','', oracion)\n",
        "    return ''.join(c for c in string_numeros if c not in punctuation)\n",
        "\n",
        "def Lematizar(oracion):\n",
        "   doc = nlp(oracion)\n",
        "   lemas = [token.lemma_.lower() for token in doc]\n",
        "   return(\" \".join(lemas))  \n",
        "\n",
        "def EliminarStopwords(oracion):\n",
        "    Tokens = Tokenizar(oracion)\n",
        "    oracion_filtrada = [word for word in Tokens if word not in STOPWORDS]\n",
        "    return(\" \".join(oracion_filtrada))\n",
        "\n",
        "def Tokenizar(oracion):\n",
        "    doc = nlp(oracion)\n",
        "    tokens = [palabra.text for palabra in doc]\n",
        "    return(tokens)\n",
        "\n",
        "def Etiquetar(texto):\n",
        "   doc = nlp(texto)\n",
        "   Etiquetado = ''.join(t.text+\"/\"+t.pos_+\" \" for t in doc)\n",
        "   return(Etiquetado.rstrip())\n",
        "\n",
        "def CrearCorpus(path):\n",
        "  directorio = os.listdir(path)\n",
        "  corpus = []\n",
        "  for filename  in directorio:\n",
        "     texto = open(path+filename,'r',encoding=\"utf-8\").read()\n",
        "     texto = ConvertirAcentos(texto)\n",
        "     corpus.append(texto)\n",
        "  return(corpus)\n",
        "\n",
        "def ConvertirAcentos(texto):\n",
        "    texto=texto.replace(\"\\xc3\\xa1\",\"á\")\n",
        "    texto=texto.replace(\"\\xc3\\xa9\",\"é\")   \n",
        "    texto=texto.replace(\"\\xc3\\xad\",\"í\")\n",
        "    texto=texto.replace(\"\\xc3\\xb3\",\"ó\")\n",
        "    texto=texto.replace(\"\\xc3\\xba\",\"ú\")\n",
        "    texto=texto.replace(\"\\xc3\\x81\",\"Á\")\n",
        "    texto=texto.replace(\"\\xc3\\x89\",\"É\")\n",
        "    texto=texto.replace(\"\\xc3\\x8d\",\"Í\")\n",
        "    texto=texto.replace(\"\\xc3\\x93\",\"Ó\")\n",
        "    texto=texto.replace(\"\\xc3\\x9a\",\"Ú\")\n",
        "    texto=texto.replace(\"\\xc3±\",\"ñ\")\n",
        "    return(texto)"
      ],
      "metadata": {
        "id": "Iyz3OUK_6yX1"
      },
      "execution_count": null,
      "outputs": []
    },
    {
      "cell_type": "markdown",
      "source": [
        "Utilizamos la función **PreProcesar(textos)**, que permite preprocesar y limpiar un texto de entrada (i.e., eliminar stopwords y puntuaciones, lematizar), la cual ajustamos para que sólo tome en cuenta nombres propios (*PROPN*) o comunes (*NOUN*), por lo que etiquetamos el texto, y extraemos dichos términos utilizando expresiones regulares."
      ],
      "metadata": {
        "id": "wPBw3XRxUpNZ"
      }
    },
    {
      "cell_type": "code",
      "source": [
        "def PreProcesar(textos):\n",
        "    texto_limpio = []\n",
        "    patron = r'(\\w+)/(PROPN|NOUN)'\n",
        "    for texto in textos:  \n",
        "        texto = \" \".join(ExtraerNombres(patron,texto))\n",
        "        texto = EliminarStopwords(texto)    \n",
        "        texto = Lematizar(texto)     \n",
        "        texto = EliminaNumeroYPuntuacion(texto)      \n",
        "        if len(texto)!=0:\n",
        "          texto = regex.sub(' +', ' ', texto)\n",
        "          tokens = Tokenizar(texto)\n",
        "          texto_limpio.append(tokens)\n",
        "    return(texto_limpio)\n",
        "\n",
        "def ExtraerNombres(patron,linea):\n",
        "      texto      = linea.rstrip()\n",
        "      etiquetado = Etiquetar(texto)    \n",
        "      ListaPalabras   = [w for (w,t) in regex.findall(patron,etiquetado)]\n",
        "      return(ListaPalabras)"
      ],
      "metadata": {
        "id": "wMQx9PEo60Uo"
      },
      "execution_count": null,
      "outputs": []
    },
    {
      "cell_type": "markdown",
      "source": [
        "Aplicamos las funciones definidas anteriormente a los discursos."
      ],
      "metadata": {
        "id": "zH1BN8OKVtss"
      }
    },
    {
      "cell_type": "code",
      "source": [
        "texts = CrearCorpus(PATH)\n",
        "texts  = PreProcesar(texts)"
      ],
      "metadata": {
        "id": "iIM_YcYa67mN"
      },
      "execution_count": null,
      "outputs": []
    },
    {
      "cell_type": "markdown",
      "source": [
        "Importamos el módulo *Counter* de la Clase *collections* para mostrar por pantalla en orden descendente los terminos que más se repiten, esto con la finalidad de conocer el CORPUS que tenemos y ademas asegurarnos que no haya quedado alguna palabra o simbolo que pueda ensuciar nuestro analisis."
      ],
      "metadata": {
        "id": "nx0yoP_TV5JD"
      }
    },
    {
      "cell_type": "code",
      "source": [
        "from collections import Counter\n",
        "\n",
        "x = []\n",
        "for tokens in texts:\n",
        "    x.extend(tokens)\n",
        "\n",
        "counter = Counter(x)"
      ],
      "metadata": {
        "id": "M6dzkcVVLk2O"
      },
      "execution_count": null,
      "outputs": []
    },
    {
      "cell_type": "code",
      "source": [
        "print(\"Los diez terminos que mas se repiten son los siguientes: \\n\")\n",
        "print(list(counter.most_common(10)))"
      ],
      "metadata": {
        "colab": {
          "base_uri": "https://localhost:8080/"
        },
        "id": "tjKEFvkvLzCt",
        "outputId": "e70fc8f6-fc42-4293-dc85-349e11c240b0"
      },
      "execution_count": null,
      "outputs": [
        {
          "output_type": "stream",
          "name": "stdout",
          "text": [
            "Los diez terminos que mas se repiten son los siguientes: \n",
            "\n",
            "[('país', 5118), ('chile', 4294), ('día', 3777), ('año', 2945), ('vida', 2872), ('región', 2360), ('mundo', 2137), ('tiempo', 1966), ('formar', 1895), ('chileno', 1835)]\n"
          ]
        }
      ]
    },
    {
      "cell_type": "markdown",
      "source": [
        "Luego, generamos la siguiente visualización de nube de palabras para observar las palabras mas comunes dentro del CORPUS procesado."
      ],
      "metadata": {
        "id": "LmBcLEARWQ43"
      }
    },
    {
      "cell_type": "code",
      "source": [
        "# Import the wordcloud library\n",
        "import pandas as pd\n",
        "import re\n",
        "from wordcloud import WordCloud\n",
        "\n",
        "# Join the different processed titles together.\n",
        "# Create a WordCloud object\n",
        "\n",
        "texto = counter.most_common(50)\n",
        "texto = pd.DataFrame(texto)\n",
        "texto = texto.iloc[:,0]\n",
        "\n",
        "texto = str(texto)\n",
        "\n",
        "wordcloud = WordCloud(background_color=\"white\", max_words=50, contour_width=3, contour_color='steelblue')\n",
        "# Generate a word cloud\n",
        "wordcloud.generate(texto)\n",
        "# Visualize the word cloud\n",
        "wordcloud.to_image()"
      ],
      "metadata": {
        "colab": {
          "base_uri": "https://localhost:8080/",
          "height": 217
        },
        "id": "0jQCGpYWLr7l",
        "outputId": "fdbe7b04-2893-4809-cdf1-839ccf9ddccc"
      },
      "execution_count": null,
      "outputs": [
        {
          "output_type": "execute_result",
          "data": {
            "image/png": "[encoded data removed]",
            "text/plain": [
              "<PIL.Image.Image image mode=RGB size=400x200 at 0x7FF343734050>"
            ]
          },
          "metadata": {},
          "execution_count": 13
        }
      ]
    },
    {
      "cell_type": "markdown",
      "source": [
        "# Modelo LDA\n",
        "\n",
        "Particionamos los datos en un conjunto de entrenamiento y de prueba."
      ],
      "metadata": {
        "id": "RXMK8sGbW-s8"
      }
    },
    {
      "cell_type": "code",
      "source": [
        "from sklearn.model_selection import train_test_split\n",
        "\n",
        "\n",
        "processed_corpus_train, processed_corpus_test = train_test_split(\n",
        "    texts, test_size=0.25)\n",
        "\n",
        "print(f\"Tamaño conjunto de entrenamiento {len(processed_corpus_train)}\")\n",
        "print(f\"Tamaño conjunto de prueba {len(processed_corpus_test)}\")"
      ],
      "metadata": {
        "colab": {
          "base_uri": "https://localhost:8080/"
        },
        "id": "-p-x4ZEzB81C",
        "outputId": "af3ced1b-bb41-439b-9639-907cc5e616ce"
      },
      "execution_count": null,
      "outputs": [
        {
          "output_type": "stream",
          "name": "stdout",
          "text": [
            "Tamaño conjunto de entrenamiento 510\n",
            "Tamaño conjunto de prueba 170\n"
          ]
        }
      ]
    },
    {
      "cell_type": "markdown",
      "source": [
        "Utilizamos **gensim.corpora** para modificar el CORPUS, de modo tal que podamos utilizarlo en el modelo LDA."
      ],
      "metadata": {
        "id": "nXCD-bRfXW10"
      }
    },
    {
      "cell_type": "code",
      "source": [
        "from gensim.corpora import Dictionary\n",
        "\n",
        "\n",
        "id2word = Dictionary(processed_corpus_train) # bolsa de palabras\n",
        "corpus = [id2word.doc2bow(text) for text in processed_corpus_train]\n",
        "corpus_test = [id2word.doc2bow(text) for text in processed_corpus_test]"
      ],
      "metadata": {
        "id": "FD4aDT6ZCCja"
      },
      "execution_count": null,
      "outputs": []
    },
    {
      "cell_type": "markdown",
      "source": [
        "Creamos el primer modelo con número de topicos definido aleatoriamente para tener un primer acercamiento de los datos."
      ],
      "metadata": {
        "id": "HKfjAGd1XEr2"
      }
    },
    {
      "cell_type": "code",
      "source": [
        "from gensim.models.ldamodel import LdaModel\n",
        "\n",
        "\n",
        "lda_model = LdaModel(corpus=corpus,\n",
        "                     id2word=id2word,\n",
        "                     num_topics=5,\n",
        "                     random_state=100,\n",
        "                     update_every=1,\n",
        "                     chunksize=100,\n",
        "                     passes=10,\n",
        "                     alpha='auto',\n",
        "                     per_word_topics=True)"
      ],
      "metadata": {
        "id": "ysH7-T82DzY6"
      },
      "execution_count": null,
      "outputs": []
    },
    {
      "cell_type": "markdown",
      "source": [
        "## Visualización Tópicos\n",
        "\n",
        "Visualizamos los tópicos con el modelo creado en el paso anterior."
      ],
      "metadata": {
        "id": "krHSnvWRYN0t"
      }
    },
    {
      "cell_type": "code",
      "source": [
        "import pyLDAvis\n",
        "import pyLDAvis.gensim_models as gensimvis\n",
        "import matplotlib.pyplot as plt"
      ],
      "metadata": {
        "id": "yg1Wh8kAPxki"
      },
      "execution_count": null,
      "outputs": []
    },
    {
      "cell_type": "code",
      "source": [
        "pyLDAvis.enable_notebook()\n",
        "vis = gensimvis.prepare(lda_model, corpus, id2word)\n",
        "vis"
      ],
      "metadata": {
        "colab": {
          "base_uri": "https://localhost:8080/",
          "height": 861
        },
        "id": "JHBSo8ZIEF81",
        "outputId": "38faea35-8c16-4685-b212-273b66a7dfef"
      },
      "execution_count": null,
      "outputs": [
        {
          "output_type": "execute_result",
          "data": {
            "text/html": [
              "\n",
              "<link rel=\"stylesheet\" type=\"text/css\" href=\"https://cdn.jsdelivr.net/gh/bmabey/pyLDAvis@3.3.1/pyLDAvis/js/ldavis.v1.0.0.css\">\n",
              "\n",
              "\n",
              "<div id=\"ldavis_el19371406827467572009719877818\"></div>\n",
              "<script type=\"text/javascript\">\n",
              "\n",
              "var ldavis_el19371406827467572009719877818_data = {\"mdsDat\": {\"x\": [-0.10598310908708093, -0.0324361446075315, -0.11217667891424861, -0.08446354254122923, 0.3350594751500905], \"y\": [0.025741913779961895, -0.12140975467668581, -0.10371158043996732, 0.18985332835614271, 0.009526092980548614], \"topics\": [1, 2, 3, 4, 5], \"cluster\": [1, 1, 1, 1, 1], \"Freq\": [38.99305227240456, 24.992139740125516, 23.03379081886088, 11.478072805196176, 1.502944363412863]}, \"tinfo\": {\"Term\": [\"chile\", \"regi\\u00f3n\", \"oportunidad\", \"ni\\u00f1o\", \"pa\\u00eds\", \"energ\\u00eda\", \"joven\", \"adulto\", \"vida\", \"temer\", \"estados\", \"derecho\", \"familia\", \"ley\", \"unidos\", \"plan\", \"crecimiento\", \"am\\u00e9rica\", \"salud\", \"mundo\", \"patrio\", \"revoluci\\u00f3n\", \"hombre\", \"argentina\", \"compatriota\", \"mujer\", \"pandemia\", \"democracia\", \"chileno\", \"ingreso\", \"carabineros\", \"delincuencia\", \"plebiscito\", \"violencia\", \"narcotr\\u00e1fico\", \"delito\", \"edad\", \"drogar\", \"adulto\", \"delincuente\", \"profesor\", \"terrorismo\", \"discriminaci\\u00f3n\", \"reforma\", \"crimen\", \"arrendar\", \"legislaci\\u00f3n\", \"geriatra\", \"servel\", \"expectativa\", \"constitucional\", \"autonom\\u00eda\", \"sename\", \"tel\\u00e9fono\", \"mando\", \"abuso\", \"fonasa\", \"gastar\", \"votaci\\u00f3n\", \"probidad\", \"ni\\u00f1o\", \"farmacia\", \"pensionar\", \"c\\u00e1mara\", \"constituci\\u00f3n\", \"carabinero\", \"subsidiar\", \"ley\", \"ciudadano\", \"m\\u00e9rito\", \"reformar\", \"mujer\", \"justicia\", \"director\", \"educaci\\u00f3n\", \"padre\", \"sociedad\", \"derecho\", \"familia\", \"vida\", \"paz\", \"congreso\", \"estado\", \"personar\", \"gobierno\", \"trabajar\", \"d\\u00eda\", \"vez\", \"compromiso\", \"chileno\", \"seguridad\", \"formar\", \"pa\\u00eds\", \"calidad\", \"proyectar\", \"a\\u00f1o\", \"chile\", \"salud\", \"lugar\", \"tiempo\", \"oportunidad\", \"partir\", \"sistema\", \"mundo\", \"planeta\", \"cop\", \"carbonar\", \"brasil\", \"apec\", \"continente\", \"emisi\\u00f3n\", \"invernadero\", \"bolivia\", \"par\\u00eds\", \"pasos\", \"per\\u00fa\", \"foro\", \"macri\", \"sustentabilidad\", \"corredor\", \"descarbonizaci\\u00f3n\", \"ecuador\", \"maduro\", \"ciberseguridad\", \"peak\", \"paraguay\", \"cumbre\", \"mercosur\", \"barrera\", \"clim\\u00e1tico\", \"colombia\", \"tpp\", \"deportista\", \"asia\", \"comerciar\", \"argentina\", \"comercio\", \"socio\", \"integraci\\u00f3n\", \"calentamiento\", \"latina\", \"alianza\", \"am\\u00e9rica\", \"china\", \"pac\\u00edfico\", \"energ\\u00eda\", \"matriz\", \"econom\\u00eda\", \"cambiar\", \"generaci\\u00f3n\", \"revoluci\\u00f3n\", \"venezuela\", \"mundo\", \"pa\\u00eds\", \"presidente\", \"frontero\", \"chile\", \"temer\", \"inversi\\u00f3n\", \"a\\u00f1o\", \"desarrollar\", \"materia\", \"crecimiento\", \"tiempo\", \"tecnolog\\u00eda\", \"d\\u00eda\", \"acuerdo\", \"oportunidad\", \"formar\", \"partir\", \"coser\", \"compromiso\", \"futuro\", \"gracia\", \"sistema\", \"l\\u00ednea\", \"biob\\u00edo\", \"coquimbo\", \"interconectado\", \"cesfam\", \"callaqui\", \"\\u00f1uble\", \"hect\\u00e1rea\", \"cardones\", \"valdivia\", \"mari\", \"maule\", \"eclipsar\", \"embalse\", \"polpaico\", \"incendiar\", \"regar\", \"dise\\u00f1ar\", \"agricultor\", \"provincia\", \"hospicio\", \"leyenda\", \"el\\u00e9ctrica\", \"pasajero\", \"aeropuerto\", \"internar\", \"kompuche\", \"cau\", \"excedente\", \"quintero\", \"tren\", \"puente\", \"regi\\u00f3n\", \"metro\", \"belleza\", \"construcci\\u00f3n\", \"parque\", \"conectividad\", \"hospital\", \"alcalde\", \"obrar\", \"valpara\\u00edso\", \"habitante\", \"isla\", \"infraestructura\", \"agricultura\", \"plan\", \"arica\", \"comuna\", \"aguar\", \"san\", \"ciudad\", \"se\\u00f1or\", \"alto\", \"ruta\", \"araucan\\u00eda\", \"puerto\", \"d\\u00eda\", \"sol\", \"mill\\u00f3n\", \"sistema\", \"partir\", \"historia\", \"esforzar\", \"vida\", \"a\\u00f1o\", \"proyectar\", \"pa\\u00eds\", \"gobierno\", \"lugar\", \"calidad\", \"chile\", \"inversi\\u00f3n\", \"vez\", \"materia\", \"salud\", \"formar\", \"pandemia\", \"prat\", \"coronavirus\", \"armada\", \"recesi\\u00f3n\", \"buque\", \"cr\\u00e9dito\", \"marino\", \"micro\", \"a\\u00e9rea\", \"cuarentena\", \"hu\\u00e1scar\", \"contender\", \"esmeralda\", \"rada\", \"corbeta\", \"patriotismo\", \"teniente\", \"guardiamarina\", \"sanitaria\", \"academia\", \"oficial\", \"nombre\", \"gloria\", \"naval\", \"bono\", \"ventilador\", \"hero\\u00edsmo\", \"juramentar\", \"comandante\", \"h\\u00e9roe\", \"ingreso\", \"arturo\", \"patrio\", \"bandera\", \"mayar\", \"batalla\", \"sacrificio\", \"patria\", \"capit\\u00e1n\", \"virtud\", \"c\\u00e1ncer\", \"higgins\", \"iquique\", \"trabajador\", \"hombre\", \"social\", \"emergencia\", \"protecci\\u00f3n\", \"compatriota\", \"salud\", \"chile\", \"chileno\", \"familia\", \"mill\\u00f3n\", \"ma\\u00f1ana\", \"empleo\", \"a\\u00f1o\", \"vida\", \"palabra\", \"d\\u00eda\", \"empresa\", \"tiempo\", \"pa\\u00eds\", \"historia\", \"plan\", \"compromiso\", \"the\", \"and\", \"to\", \"most\", \"you\", \"we\", \"tesoro\", \"mnuchin\", \"steven\", \"puntajes\", \"arar\", \"paper\", \"important\", \"liquid\", \"together\", \"calcar\", \"mr\", \"welcome\", \"borges\", \"hippy\", \"instagram\", \"of\", \"palestina\", \"have\", \"with\", \"our\", \"very\", \"much\", \"thank\", \"that\", \"copiar\", \"envidiar\", \"unidos\", \"secretario\", \"estados\", \"universidad\", \"miedo\", \"doctorar\", \"error\", \"joven\", \"relacionar\", \"chile\", \"\\u00e9poca\", \"oportunidad\", \"coraje\", \"venezuela\", \"crecimiento\", \"temer\", \"relaci\\u00f3n\", \"crisis\", \"vida\", \"frente\"], \"Freq\": [3371.0, 1648.0, 1113.0, 1197.0, 3828.0, 1033.0, 292.0, 959.0, 2348.0, 508.0, 200.0, 827.0, 1252.0, 1033.0, 176.0, 956.0, 349.0, 384.0, 927.0, 1592.0, 267.0, 310.0, 491.0, 414.0, 742.0, 784.0, 214.0, 354.0, 1262.0, 223.0, 464.25651918367123, 247.78286467796985, 229.40759783136892, 228.68250996263376, 182.5124533083123, 179.338425340194, 194.82563099284212, 140.619056374449, 954.134190369807, 121.9703840014953, 117.31452556432306, 112.67964770130958, 106.54612974871, 106.6354133175239, 99.20098363844312, 87.72339022289962, 89.00447298422803, 70.44504547054181, 70.44115999982007, 70.9283244801882, 66.89700102623618, 65.25185981953658, 62.116894622447674, 63.67357483819476, 61.65375425432543, 59.79004927116127, 59.6611609976681, 58.336341287580275, 56.015176562230764, 54.08259277990847, 1166.2697047179513, 69.39011839546927, 230.436826606313, 101.88476487855975, 203.35847308370313, 190.70978040559234, 153.79819564451694, 961.3839464803125, 366.05670957640547, 74.95405924337607, 246.03125770253993, 690.5046051268287, 174.08830762379398, 156.79584356438008, 591.5483722730022, 385.93468101496643, 709.2875609163076, 679.8863442869991, 855.7698264807169, 1422.8466428607865, 280.8807462163639, 288.2067601333135, 545.2672772847797, 686.7394049658095, 783.1462270925241, 493.40422699348596, 1408.3570402836585, 733.3306021303893, 690.7669784324522, 690.4213021829364, 395.74418330147756, 678.7737545038432, 1119.3476957696803, 465.5666437822, 424.2475320016126, 684.6860183665021, 838.7150971006313, 443.0842166415202, 436.49538732656146, 519.6419059417555, 470.4901884102417, 476.4893552046098, 415.36496851363506, 427.88866806636105, 165.59950990960527, 141.3123939176047, 132.86991320701668, 109.12603398478535, 104.58995547557026, 112.32889922824637, 75.30292998575719, 70.33630367977155, 63.52277035776905, 61.81743785786261, 57.69896850618014, 60.691869283272986, 52.22921149049844, 51.81519674401012, 48.56829608862683, 51.093715642610476, 46.12948044181478, 45.22284840533719, 44.34263017288397, 40.80935202807786, 40.94569774606862, 39.93736775707641, 199.94063087632136, 36.108395806387556, 34.358410735112926, 33.373334321625556, 32.32174424664815, 31.019699083564625, 31.66333746088166, 32.565342352166766, 230.03878375368276, 391.3074470309212, 127.26750722741222, 46.85978165107462, 246.49142343234422, 135.1554624225872, 259.09276487463273, 152.31439301688908, 333.205563344368, 114.63081092239297, 193.55005956212105, 826.1717872209655, 154.01064489942047, 353.74954216952165, 371.3976227962222, 323.3278860955664, 241.33420340320237, 126.01884790705213, 968.2538254871811, 1997.0468864923585, 577.311811279531, 161.69692851445024, 1555.7428751471705, 318.87659723083016, 346.9017890619603, 762.1683706056757, 374.09208511361504, 401.3877510614224, 218.0138630312704, 487.25476365198745, 260.40223455888975, 689.0303987405397, 229.0128724737414, 376.8663129634145, 416.27758175523485, 391.89344457677214, 243.17935508129767, 247.4955511547575, 221.18875451492167, 226.4009792673436, 231.125579828811, 195.15207858107175, 176.99331680722776, 111.84816699171414, 95.12870283788916, 91.12437010173458, 86.6789803602461, 83.33274601835551, 80.69865461707032, 74.19690247179587, 70.86369049890946, 69.38576023194997, 64.39928477009879, 59.43864253279986, 57.958854377374, 56.90667783136549, 55.15600382096449, 51.94443495169554, 50.367567836467465, 43.03933829436782, 41.491800092298696, 35.630273454241845, 36.791776732480805, 36.25418670072481, 35.597949053217135, 133.66335616579215, 34.79925137639895, 34.79925137639895, 34.092130451232606, 36.02889057042419, 35.10777805170253, 128.27547961334903, 110.54916567551483, 1564.080040652407, 191.7365364245161, 73.08801745321415, 183.7687787979462, 202.38268322998906, 123.86061069192793, 344.30057496943846, 287.3936913411967, 251.25992153770153, 148.7757525127959, 226.9330615208217, 123.81164246853459, 273.27271001248164, 127.75691721777851, 691.0870390063455, 98.26172018280043, 228.5313715272415, 297.7831637093172, 119.3128198547536, 329.6402000280101, 418.7427701680129, 194.04674355860575, 175.55419068460563, 164.51552063711998, 199.9834575137512, 790.6587935045455, 192.29189072830042, 353.45389410074165, 356.61895859255264, 408.12424587659973, 300.2781307056615, 275.20854976230993, 492.5703415624361, 477.6649768729637, 292.0034956370882, 510.918322130854, 337.03656262760603, 289.7762703767759, 286.5137038982504, 420.68018769389255, 250.75999519259358, 290.7418464539325, 252.08608166434246, 241.30552663234317, 228.7583654817714, 214.21310287199944, 197.7974215644393, 143.58495571632915, 121.61599267101934, 73.39187222339253, 54.315256710216694, 61.90520703210231, 54.86988411489516, 49.08096164680928, 47.35007052441196, 46.830188163107664, 46.22591155280746, 45.77717149807252, 38.74456619760546, 33.19926639078426, 33.086972416051985, 52.75548143683493, 30.802995011257536, 30.31497200595034, 29.499379329196184, 40.02150137821216, 28.466212091252224, 42.773837523788764, 42.80183410379051, 26.64184235949824, 26.108195297891903, 25.09883996595472, 119.97741220948451, 23.060839635669915, 22.11057537590064, 107.54462897557934, 210.96317508942803, 144.98798660448338, 238.4007578499344, 76.40227371039344, 105.24452248694588, 41.27884351066541, 92.46808892488741, 80.85533087470452, 52.54227101489652, 57.228889391493226, 49.87432342100609, 71.70246036446747, 99.5023065640074, 166.5967657288102, 203.78183012390082, 97.02197137944897, 106.34913968618449, 161.15905961619598, 222.7703937152356, 241.5189866208411, 475.82362945821234, 260.5018529024482, 251.04946912251808, 205.4659548793986, 92.59084316027968, 128.52270451843418, 276.02930083422643, 261.9999263114793, 134.4525784291825, 260.48403171762004, 131.1028793586602, 183.49547634970125, 186.3800356594375, 107.98754922842748, 105.28741183457574, 105.7066540681957, 51.48037351499735, 50.256758484959065, 31.03204857411224, 26.575593899471414, 18.482523987392618, 17.689351368989087, 16.79087965492382, 15.901342138305562, 15.901342138305562, 15.900716983206983, 13.44380373317866, 11.475804292722541, 11.249716727518633, 11.470002584844671, 10.858715037729718, 10.898090856838591, 10.623115864522358, 10.623115864522358, 10.62248324933907, 10.62248324933907, 10.900150586226633, 9.389070890052993, 8.812600304281494, 8.525463135864848, 8.054266281467072, 7.818667854268184, 6.796081218889184, 6.2070832858707865, 6.2070832858707865, 6.19170767828215, 11.532276387958088, 15.559562833432386, 80.8599297732084, 22.689270230616728, 81.25561863421974, 33.19176100145203, 20.66468231760361, 15.588536310423605, 29.264775394884712, 42.00885600677045, 22.163659518354507, 80.35684553273225, 22.69321363139369, 43.24805366174804, 20.23894274336915, 19.962941989405486, 21.338117592400405, 22.617432598906902, 16.87277795687165, 16.564651094118922, 19.972540134391554, 16.051260000609364], \"Total\": [3371.0, 1648.0, 1113.0, 1197.0, 3828.0, 1033.0, 292.0, 959.0, 2348.0, 508.0, 200.0, 827.0, 1252.0, 1033.0, 176.0, 956.0, 349.0, 384.0, 927.0, 1592.0, 267.0, 310.0, 491.0, 414.0, 742.0, 784.0, 214.0, 354.0, 1262.0, 223.0, 465.3238113895221, 248.53349825246946, 230.12670672881805, 229.4060335478557, 183.23749236628265, 180.05707993295403, 195.66570489251788, 141.33934837575853, 959.0926234732041, 122.68896254512819, 118.0532426988543, 113.41190605542353, 107.26530257512718, 107.37168309043341, 99.92499728297744, 88.44416687109674, 89.76075953531299, 71.16023189423011, 71.1596421127754, 71.65568795097327, 67.61656587641318, 65.9737102720288, 62.83573780388107, 64.41559434272398, 62.38558696483949, 60.50779463719859, 60.382375243931676, 59.061139905555, 56.73382920820798, 54.80114682144366, 1197.5318720279397, 70.31349606878578, 236.4182986679373, 103.74041723919655, 210.07248419125358, 196.99544453702006, 158.20636757238947, 1033.4880438255072, 395.4356371708906, 76.19212642347141, 264.5233834545498, 784.6782011284179, 184.16963526775177, 166.2797564071827, 688.8419924044732, 435.5723194036777, 847.6348989648552, 827.907246314627, 1252.7835130460458, 2348.126830929966, 343.48192858101396, 355.3492213656766, 791.083894489773, 1070.4080722024698, 1317.2306000555861, 730.6574875441727, 3159.326658482446, 1321.2266102324586, 1245.8658872094759, 1262.760161963332, 606.3992047098466, 1418.6343531834304, 3828.9808976137097, 893.1317530409883, 810.7769870946712, 2200.619340543691, 3371.3186349326393, 927.8224372621523, 920.4994012666168, 1409.1763632013979, 1113.7719633752088, 1370.8480659874197, 1044.3714026939285, 1592.665121287708, 166.29943797691433, 142.01345067634642, 133.57482221715998, 109.82950269573841, 105.28898624466838, 113.33140444907, 76.00604862857021, 71.03634573446767, 64.23504685514254, 62.54935493747777, 58.409625534933255, 61.480090175997816, 52.92887946498513, 52.5173705508799, 49.28728217296133, 51.86473495290456, 46.837732586608574, 45.921986530539435, 45.07139495390774, 41.5090028410758, 41.65865696757524, 40.63898576920261, 203.75755403081746, 36.80437649347043, 35.061507040263784, 34.075711240939896, 33.01818008344904, 31.72140448845845, 32.38196727660379, 33.320074486734775, 236.70469373459147, 414.92814428275625, 133.790391176041, 48.302017399622464, 272.4046923729784, 146.19938828176043, 290.4773679599057, 166.22087845492686, 384.20398822253594, 123.58660633067366, 216.68324606357774, 1033.9673585319847, 179.14479476714723, 451.5139142061341, 502.9337402723992, 434.9302805563086, 310.9008242332415, 146.6143020728364, 1592.665121287708, 3828.9808976137097, 960.0047743424892, 202.87846018344385, 3371.3186349326393, 508.5883511344193, 639.9986158600458, 2200.619340543691, 754.8430613312289, 982.543003905349, 349.21720174189215, 1409.1763632013979, 484.69318150155925, 3159.326658482446, 394.26371477358464, 1113.7719633752088, 1418.6343531834304, 1370.8480659874197, 490.34820830801164, 1245.8658872094759, 577.2308818949924, 760.4983400892568, 1044.3714026939285, 195.89010821282454, 177.71860217153028, 112.57334869950829, 95.8694850032336, 91.8471875237163, 87.40301431741324, 84.06334826714033, 81.42204830769793, 74.93950298518445, 71.59456618459625, 70.10980513288048, 65.11982460868609, 60.16318958738139, 58.68795665290209, 57.647922487716585, 55.88233365220797, 52.66946988513595, 51.09091189863978, 43.76501426797116, 42.21634583243199, 36.35126853390683, 37.54344610582162, 36.99546402188747, 36.331125939913775, 136.42508733007426, 35.523398362417446, 35.523398362417446, 34.812647803275006, 36.80663793082833, 35.870141282758134, 131.2460097842474, 112.98875141251435, 1648.9250575011442, 200.7720850846271, 75.17250090645841, 195.29214256848525, 215.81539015785836, 130.86215837151377, 376.6975903613539, 317.8293873250073, 279.25733334830625, 161.02427312472216, 257.8575988077886, 136.63377479130472, 330.294861643932, 141.9106998572498, 956.0539063386799, 106.7964669227296, 291.9858658711121, 400.19711266246753, 137.33292306077084, 504.74914795700727, 704.240957583312, 265.1160233903591, 235.07542450973872, 219.61619018876303, 310.86982572041836, 3159.326658482446, 307.8072630935134, 901.3946984360779, 1044.3714026939285, 1370.8480659874197, 762.5183963927668, 649.6303420905349, 2348.126830929966, 2200.619340543691, 810.7769870946712, 3828.9808976137097, 1317.2306000555861, 920.4994012666168, 893.1317530409883, 3371.3186349326393, 639.9986158600458, 1321.2266102324586, 982.543003905349, 927.8224372621523, 1418.6343531834304, 214.96928761058436, 198.55150286666293, 144.3442165628436, 122.36971463927672, 74.2483884165785, 55.08085104365299, 62.77964813276977, 55.64581746106203, 49.84614419501944, 48.09938351581399, 47.58081431516433, 46.97467822309912, 46.5259353544126, 39.49592068433274, 33.94975607087834, 33.8359412782176, 53.99203897702332, 31.559243937802528, 31.063747174386958, 30.249634604519066, 41.04157769456798, 29.222260225739788, 43.920350741865676, 43.99157448167515, 27.392397551997114, 26.86169964721388, 25.848895135121317, 123.8895367793502, 23.82706871016647, 22.86032097517197, 111.87593880919995, 223.60528316856235, 155.30717032863055, 267.0979773568243, 83.91871163970042, 119.87821837697892, 44.1943072874126, 111.84520459186142, 96.12903147687214, 58.618744149814205, 66.33381569644402, 56.872557900481354, 94.53806507033609, 151.54480586878486, 348.9896055468548, 491.14837256310705, 159.98984772488186, 189.7834548592591, 410.7627581740496, 742.8226023747919, 927.8224372621523, 3371.3186349326393, 1262.760161963332, 1252.7835130460458, 901.3946984360779, 175.01775904075757, 357.7479327865159, 2200.619340543691, 2348.126830929966, 450.614935293987, 3159.326658482446, 425.0341759909566, 1409.1763632013979, 3828.9808976137097, 762.5183963927668, 956.0539063386799, 1245.8658872094759, 52.3530849684316, 51.127489132090176, 31.902657000440627, 27.44583863780724, 19.35569489905604, 18.56077703856798, 17.69728006568635, 16.771586346014818, 16.771586346014818, 16.77314245472146, 14.331028452602128, 12.357673808140428, 12.119989691169865, 12.371167877150835, 11.728961984831976, 11.774631045912217, 11.493360048002677, 11.493360048002677, 11.494937227423527, 11.494937227423527, 11.812342975325524, 10.260635453529616, 9.708701331291119, 9.395756477789392, 8.924554691215548, 8.688953597310462, 7.666372861605429, 7.077375994838789, 7.077376019067724, 7.063844242045692, 13.903954023902916, 21.57016516434514, 176.8475491186311, 37.27063538609917, 200.3699780003313, 81.26899167393427, 39.0398612419731, 29.463225426662106, 102.4466988744731, 292.6616741106821, 86.31468458388436, 3371.3186349326393, 106.91405243264185, 1113.7719633752088, 91.92320652497315, 146.6143020728364, 349.21720174189215, 508.5883511344193, 103.72626954282507, 138.0127786874521, 2348.126830929966, 312.4991019513449], \"Category\": [\"Default\", \"Default\", \"Default\", \"Default\", \"Default\", \"Default\", \"Default\", \"Default\", \"Default\", \"Default\", \"Default\", \"Default\", \"Default\", \"Default\", \"Default\", \"Default\", \"Default\", \"Default\", \"Default\", \"Default\", \"Default\", \"Default\", \"Default\", \"Default\", \"Default\", \"Default\", \"Default\", \"Default\", \"Default\", \"Default\", \"Topic1\", \"Topic1\", \"Topic1\", \"Topic1\", \"Topic1\", \"Topic1\", \"Topic1\", \"Topic1\", \"Topic1\", \"Topic1\", \"Topic1\", \"Topic1\", \"Topic1\", \"Topic1\", \"Topic1\", \"Topic1\", \"Topic1\", \"Topic1\", \"Topic1\", \"Topic1\", \"Topic1\", \"Topic1\", \"Topic1\", \"Topic1\", \"Topic1\", \"Topic1\", \"Topic1\", \"Topic1\", \"Topic1\", \"Topic1\", \"Topic1\", \"Topic1\", \"Topic1\", \"Topic1\", \"Topic1\", \"Topic1\", \"Topic1\", \"Topic1\", \"Topic1\", \"Topic1\", \"Topic1\", \"Topic1\", \"Topic1\", \"Topic1\", \"Topic1\", \"Topic1\", \"Topic1\", \"Topic1\", \"Topic1\", \"Topic1\", \"Topic1\", \"Topic1\", \"Topic1\", \"Topic1\", \"Topic1\", \"Topic1\", \"Topic1\", \"Topic1\", \"Topic1\", \"Topic1\", \"Topic1\", \"Topic1\", \"Topic1\", \"Topic1\", \"Topic1\", \"Topic1\", \"Topic1\", \"Topic1\", \"Topic1\", \"Topic1\", \"Topic1\", \"Topic1\", \"Topic1\", \"Topic1\", \"Topic2\", \"Topic2\", \"Topic2\", \"Topic2\", \"Topic2\", \"Topic2\", \"Topic2\", \"Topic2\", \"Topic2\", \"Topic2\", \"Topic2\", \"Topic2\", \"Topic2\", \"Topic2\", \"Topic2\", \"Topic2\", \"Topic2\", \"Topic2\", \"Topic2\", \"Topic2\", \"Topic2\", \"Topic2\", \"Topic2\", \"Topic2\", \"Topic2\", \"Topic2\", \"Topic2\", \"Topic2\", \"Topic2\", \"Topic2\", \"Topic2\", \"Topic2\", \"Topic2\", \"Topic2\", \"Topic2\", \"Topic2\", \"Topic2\", \"Topic2\", \"Topic2\", \"Topic2\", \"Topic2\", \"Topic2\", \"Topic2\", \"Topic2\", \"Topic2\", \"Topic2\", \"Topic2\", \"Topic2\", \"Topic2\", \"Topic2\", \"Topic2\", \"Topic2\", \"Topic2\", \"Topic2\", \"Topic2\", \"Topic2\", \"Topic2\", \"Topic2\", \"Topic2\", \"Topic2\", \"Topic2\", \"Topic2\", \"Topic2\", \"Topic2\", \"Topic2\", \"Topic2\", \"Topic2\", \"Topic2\", \"Topic2\", \"Topic2\", \"Topic2\", \"Topic3\", \"Topic3\", \"Topic3\", \"Topic3\", \"Topic3\", \"Topic3\", \"Topic3\", \"Topic3\", \"Topic3\", \"Topic3\", \"Topic3\", \"Topic3\", \"Topic3\", \"Topic3\", \"Topic3\", \"Topic3\", \"Topic3\", \"Topic3\", \"Topic3\", \"Topic3\", \"Topic3\", \"Topic3\", \"Topic3\", \"Topic3\", \"Topic3\", \"Topic3\", \"Topic3\", \"Topic3\", \"Topic3\", \"Topic3\", \"Topic3\", \"Topic3\", \"Topic3\", \"Topic3\", \"Topic3\", \"Topic3\", \"Topic3\", \"Topic3\", \"Topic3\", \"Topic3\", \"Topic3\", \"Topic3\", \"Topic3\", \"Topic3\", \"Topic3\", \"Topic3\", \"Topic3\", \"Topic3\", \"Topic3\", \"Topic3\", \"Topic3\", \"Topic3\", \"Topic3\", \"Topic3\", \"Topic3\", \"Topic3\", \"Topic3\", \"Topic3\", \"Topic3\", \"Topic3\", \"Topic3\", \"Topic3\", \"Topic3\", \"Topic3\", \"Topic3\", \"Topic3\", \"Topic3\", \"Topic3\", \"Topic3\", \"Topic3\", \"Topic3\", \"Topic3\", \"Topic3\", \"Topic3\", \"Topic3\", \"Topic3\", \"Topic3\", \"Topic4\", \"Topic4\", \"Topic4\", \"Topic4\", \"Topic4\", \"Topic4\", \"Topic4\", \"Topic4\", \"Topic4\", \"Topic4\", \"Topic4\", \"Topic4\", \"Topic4\", \"Topic4\", \"Topic4\", \"Topic4\", \"Topic4\", \"Topic4\", \"Topic4\", \"Topic4\", \"Topic4\", \"Topic4\", \"Topic4\", \"Topic4\", \"Topic4\", \"Topic4\", \"Topic4\", \"Topic4\", \"Topic4\", \"Topic4\", \"Topic4\", \"Topic4\", \"Topic4\", \"Topic4\", \"Topic4\", \"Topic4\", \"Topic4\", \"Topic4\", \"Topic4\", \"Topic4\", \"Topic4\", \"Topic4\", \"Topic4\", \"Topic4\", \"Topic4\", \"Topic4\", \"Topic4\", \"Topic4\", \"Topic4\", \"Topic4\", \"Topic4\", \"Topic4\", \"Topic4\", \"Topic4\", \"Topic4\", \"Topic4\", \"Topic4\", \"Topic4\", \"Topic4\", \"Topic4\", \"Topic4\", \"Topic4\", \"Topic4\", \"Topic4\", \"Topic4\", \"Topic4\", \"Topic4\", \"Topic5\", \"Topic5\", \"Topic5\", \"Topic5\", \"Topic5\", \"Topic5\", \"Topic5\", \"Topic5\", \"Topic5\", \"Topic5\", \"Topic5\", \"Topic5\", \"Topic5\", \"Topic5\", \"Topic5\", \"Topic5\", \"Topic5\", \"Topic5\", \"Topic5\", \"Topic5\", \"Topic5\", \"Topic5\", \"Topic5\", \"Topic5\", \"Topic5\", \"Topic5\", \"Topic5\", \"Topic5\", \"Topic5\", \"Topic5\", \"Topic5\", \"Topic5\", \"Topic5\", \"Topic5\", \"Topic5\", \"Topic5\", \"Topic5\", \"Topic5\", \"Topic5\", \"Topic5\", \"Topic5\", \"Topic5\", \"Topic5\", \"Topic5\", \"Topic5\", \"Topic5\", \"Topic5\", \"Topic5\", \"Topic5\", \"Topic5\", \"Topic5\", \"Topic5\"], \"logprob\": [30.0, 29.0, 28.0, 27.0, 26.0, 25.0, 24.0, 23.0, 22.0, 21.0, 20.0, 19.0, 18.0, 17.0, 16.0, 15.0, 14.0, 13.0, 12.0, 11.0, 10.0, 9.0, 8.0, 7.0, 6.0, 5.0, 4.0, 3.0, 2.0, 1.0, -5.1877, -5.8156, -5.8926, -5.8958, -6.1213, -6.1389, -6.056, -6.3821, -4.4673, -6.5244, -6.5633, -6.6036, -6.6596, -6.6587, -6.731, -6.8539, -6.8395, -7.0733, -7.0734, -7.0665, -7.125, -7.1499, -7.1991, -7.1744, -7.2066, -7.2373, -7.2395, -7.2619, -7.3025, -7.3376, -4.2666, -7.0884, -5.8882, -6.7043, -6.0132, -6.0774, -6.2925, -4.4598, -5.4254, -7.0113, -5.8227, -4.7907, -6.1686, -6.2732, -4.9454, -5.3725, -4.7639, -4.8062, -4.5761, -4.0677, -5.6902, -5.6645, -5.0269, -4.7962, -4.6648, -5.1268, -4.078, -4.7305, -4.7903, -4.7908, -5.3474, -4.8079, -4.3076, -5.1849, -5.2778, -4.7992, -4.5963, -5.2344, -5.2494, -5.075, -5.1744, -5.1617, -5.299, -5.2693, -5.7737, -5.9323, -5.9939, -6.1908, -6.2333, -6.1619, -6.5618, -6.63, -6.7319, -6.7591, -6.8281, -6.7775, -6.9277, -6.9356, -7.0003, -6.9497, -7.0519, -7.0717, -7.0914, -7.1744, -7.1711, -7.196, -5.5853, -7.2968, -7.3465, -7.3756, -7.4076, -7.4487, -7.4282, -7.4001, -5.4451, -4.9138, -6.037, -7.0362, -5.376, -5.9769, -5.3261, -5.8574, -5.0746, -6.1416, -5.6178, -4.1665, -5.8463, -5.0147, -4.966, -5.1046, -5.3971, -6.0469, -4.0078, -3.2839, -4.5249, -5.7976, -3.5336, -5.1185, -5.0343, -4.2471, -4.9588, -4.8884, -5.4988, -4.6945, -5.3211, -4.348, -5.4495, -4.9514, -4.852, -4.9123, -5.3895, -5.3719, -5.4843, -5.461, -5.4404, -5.5279, -5.6256, -6.0846, -6.2465, -6.2895, -6.3395, -6.3789, -6.411, -6.495, -6.541, -6.562, -6.6366, -6.7168, -6.742, -6.7603, -6.7916, -6.8515, -6.8824, -7.0396, -7.0762, -7.2285, -7.1964, -7.2112, -7.2294, -5.9064, -7.2521, -7.2521, -7.2727, -7.2174, -7.2433, -5.9475, -6.0963, -3.4467, -5.5456, -6.5101, -5.588, -5.4916, -5.9826, -4.9602, -5.1409, -5.2752, -5.7993, -5.3771, -5.983, -5.1912, -5.9516, -4.2635, -6.2141, -5.37, -5.1054, -6.02, -5.0037, -4.7645, -5.5336, -5.6338, -5.6987, -5.5035, -4.1289, -5.5427, -4.934, -4.925, -4.7901, -5.097, -5.1842, -4.6021, -4.6328, -5.125, -4.5655, -4.9815, -5.1326, -5.1439, -4.7598, -5.2772, -5.1293, -5.2719, -5.3157, -5.3691, -4.7382, -4.8179, -5.1383, -5.3043, -5.8094, -6.1104, -5.9796, -6.1002, -6.2117, -6.2476, -6.2587, -6.2717, -6.2814, -6.4482, -6.6027, -6.6061, -6.1395, -6.6776, -6.6936, -6.7208, -6.4158, -6.7565, -6.3493, -6.3486, -6.8227, -6.8429, -6.8824, -5.3179, -6.9671, -7.0091, -5.4273, -4.7535, -5.1285, -4.6312, -5.7692, -5.4489, -6.3848, -5.5783, -5.7125, -6.1436, -6.0581, -6.1957, -5.8327, -5.505, -4.9896, -4.7881, -5.5303, -5.4385, -5.0228, -4.6991, -4.6182, -3.9401, -4.5426, -4.5795, -4.7799, -5.577, -5.2491, -4.4847, -4.5368, -5.204, -4.5427, -5.2292, -4.893, -4.8774, -5.4232, -5.4485, -5.4445, -4.131, -4.155, -4.6372, -4.7922, -5.1554, -5.1992, -5.2513, -5.3058, -5.3058, -5.3058, -5.4737, -5.6319, -5.6518, -5.6324, -5.6872, -5.6836, -5.7091, -5.7091, -5.7092, -5.7092, -5.6834, -5.8326, -5.896, -5.9291, -5.986, -6.0157, -6.1558, -6.2465, -6.2465, -6.249, -5.627, -5.3275, -3.6795, -4.9503, -3.6746, -4.5699, -5.0438, -5.3256, -4.6958, -4.3343, -4.9737, -3.6857, -4.9501, -4.3052, -5.0646, -5.0783, -5.0117, -4.9535, -5.2465, -5.2649, -5.0778, -5.2964], \"loglift\": [30.0, 29.0, 28.0, 27.0, 26.0, 25.0, 24.0, 23.0, 22.0, 21.0, 20.0, 19.0, 18.0, 17.0, 16.0, 15.0, 14.0, 13.0, 12.0, 11.0, 10.0, 9.0, 8.0, 7.0, 6.0, 5.0, 4.0, 3.0, 2.0, 1.0, 0.9395, 0.9388, 0.9387, 0.9386, 0.9378, 0.9378, 0.9375, 0.9367, 0.9366, 0.9359, 0.9355, 0.9353, 0.9351, 0.9349, 0.9345, 0.9336, 0.9333, 0.9317, 0.9316, 0.9316, 0.9311, 0.9308, 0.9303, 0.9302, 0.93, 0.9299, 0.9298, 0.9294, 0.929, 0.9286, 0.9153, 0.9286, 0.9162, 0.9237, 0.9093, 0.9094, 0.9135, 0.8695, 0.8646, 0.9254, 0.8693, 0.8139, 0.8855, 0.8831, 0.7895, 0.8208, 0.7636, 0.7448, 0.5607, 0.4408, 0.7406, 0.7324, 0.5697, 0.4979, 0.4218, 0.5492, 0.1339, 0.3531, 0.352, 0.338, 0.515, 0.2046, -0.2881, 0.2903, 0.2941, -0.2257, -0.4494, 0.2027, 0.1956, -0.0558, 0.0801, -0.115, 0.0198, -0.3725, 1.3824, 1.3817, 1.3813, 1.3802, 1.3799, 1.3777, 1.3773, 1.3767, 1.3755, 1.3748, 1.3744, 1.3737, 1.3733, 1.3731, 1.3719, 1.3716, 1.3714, 1.3713, 1.3703, 1.3696, 1.3693, 1.3692, 1.3677, 1.3675, 1.3664, 1.3658, 1.3653, 1.3642, 1.3642, 1.3637, 1.358, 1.328, 1.3366, 1.3563, 1.2866, 1.3081, 1.2723, 1.2992, 1.2442, 1.3114, 1.2737, 1.1623, 1.2354, 1.1426, 1.0834, 1.0901, 1.1333, 1.2352, 0.8889, 0.7357, 0.8781, 1.1597, 0.6133, 0.9198, 0.7742, 0.3263, 0.6846, 0.4914, 0.9155, 0.3246, 0.7653, -0.1362, 0.8434, 0.303, 0.1605, 0.1344, 0.6853, -0.2296, 0.4274, 0.1749, -0.1216, 1.4644, 1.4641, 1.4617, 1.4605, 1.4603, 1.4599, 1.4595, 1.4593, 1.4582, 1.4579, 1.4578, 1.4571, 1.4561, 1.4557, 1.4553, 1.4551, 1.4543, 1.4539, 1.4515, 1.4509, 1.4482, 1.448, 1.448, 1.4478, 1.4478, 1.4476, 1.4476, 1.4473, 1.4469, 1.4467, 1.4453, 1.4464, 1.4154, 1.4222, 1.4401, 1.4074, 1.4039, 1.4132, 1.3783, 1.3675, 1.3626, 1.3891, 1.3405, 1.3697, 1.2787, 1.3631, 1.1437, 1.3849, 1.2232, 1.1726, 1.3275, 1.0421, 0.9483, 1.1561, 1.1762, 1.1793, 1.0271, 0.083, 0.9977, 0.532, 0.3937, 0.2566, 0.5363, 0.6093, -0.0935, -0.0594, 0.447, -0.5459, 0.1051, 0.3124, 0.3313, -0.613, 0.5312, -0.0457, 0.1078, 0.1214, -0.3566, 2.1612, 2.1609, 2.1595, 2.1586, 2.1531, 2.1507, 2.1507, 2.1507, 2.1493, 2.149, 2.1488, 2.1487, 2.1485, 2.1455, 2.1424, 2.1423, 2.1416, 2.1405, 2.1403, 2.1396, 2.1396, 2.1385, 2.1383, 2.1373, 2.1369, 2.1363, 2.1353, 2.1326, 2.132, 2.1314, 2.1252, 2.1065, 2.096, 2.0511, 2.0709, 2.0345, 2.0965, 1.9745, 1.9917, 2.0553, 2.0171, 2.0334, 1.8883, 1.744, 1.4253, 1.285, 1.6646, 1.5856, 1.2291, 0.9604, 0.8188, 0.2067, 0.5863, 0.5573, 0.6861, 1.528, 1.141, 0.0887, -0.0283, 0.9553, -0.3308, 0.9885, 0.1262, -0.8578, 0.2101, -0.0414, -0.3022, 4.1809, 4.1806, 4.1701, 4.1655, 4.1516, 4.1497, 4.1452, 4.1445, 4.1445, 4.1443, 4.1338, 4.1237, 4.1232, 4.1221, 4.1207, 4.1204, 4.119, 4.119, 4.1188, 4.1188, 4.1174, 4.109, 4.1009, 4.1005, 4.0951, 4.0922, 4.0772, 4.0665, 4.0665, 4.066, 4.0107, 3.8711, 3.4152, 3.7014, 3.2952, 3.3023, 3.5616, 3.5611, 2.9448, 2.2566, 2.8382, 0.4612, 2.6478, 0.9492, 2.6844, 2.2038, 1.4025, 1.0848, 2.3817, 2.0777, -0.5693, 1.2289]}, \"token.table\": {\"Topic\": [1, 4, 1, 2, 4, 1, 4, 2, 3, 3, 2, 3, 2, 3, 4, 5, 1, 3, 4, 1, 2, 1, 3, 1, 2, 4, 5, 5, 2, 5, 1, 3, 2, 3, 2, 3, 4, 1, 3, 4, 2, 1, 4, 1, 2, 3, 4, 3, 4, 2, 2, 4, 2, 3, 3, 2, 4, 5, 2, 4, 5, 2, 3, 1, 2, 3, 4, 5, 3, 1, 2, 3, 5, 1, 4, 1, 3, 1, 3, 2, 3, 3, 3, 1, 2, 3, 4, 5, 1, 2, 3, 4, 1, 2, 3, 4, 2, 1, 2, 3, 1, 2, 2, 2, 4, 2, 5, 2, 5, 1, 2, 3, 4, 1, 2, 3, 4, 1, 3, 4, 2, 3, 1, 2, 4, 1, 1, 3, 1, 2, 3, 4, 2, 2, 1, 5, 3, 1, 2, 3, 4, 5, 4, 4, 2, 1, 2, 3, 4, 1, 2, 3, 5, 1, 1, 2, 3, 4, 5, 4, 4, 1, 2, 1, 4, 3, 4, 1, 1, 1, 1, 2, 5, 2, 1, 2, 5, 1, 2, 3, 4, 5, 2, 1, 3, 4, 1, 3, 1, 2, 5, 1, 1, 2, 3, 4, 5, 3, 1, 2, 3, 4, 5, 2, 1, 1, 2, 3, 3, 3, 1, 3, 4, 2, 1, 2, 3, 4, 1, 2, 3, 4, 2, 3, 2, 5, 1, 2, 3, 5, 1, 2, 3, 4, 5, 4, 1, 2, 3, 4, 5, 1, 2, 4, 5, 3, 1, 1, 3, 4, 1, 1, 1, 2, 3, 4, 2, 1, 2, 3, 4, 5, 1, 2, 3, 4, 1, 2, 3, 4, 5, 1, 1, 2, 3, 4, 5, 1, 3, 4, 1, 2, 3, 4, 1, 2, 3, 4, 5, 4, 1, 2, 3, 4, 5, 3, 1, 4, 3, 4, 5, 1, 2, 3, 4, 1, 2, 3, 4, 3, 1, 2, 3, 4, 4, 3, 4, 5, 3, 1, 2, 3, 4, 1, 3, 4, 5, 1, 2, 3, 3, 3, 2, 1, 2, 3, 4, 5, 3, 4, 2, 3, 4, 1, 3, 4, 5, 4, 1, 2, 3, 5, 3, 1, 2, 4, 1, 1, 3, 4, 3, 5, 1, 2, 3, 4, 3, 2, 2, 1, 3, 4, 1, 2, 3, 4, 2, 3, 3, 1, 4, 1, 2, 3, 4, 2, 1, 3, 4, 1, 2, 5, 1, 2, 3, 4, 5, 5, 5, 5, 1, 2, 3, 4, 1, 2, 3, 4, 5, 1, 3, 1, 4, 1, 3, 3, 4, 1, 2, 3, 4, 5, 4, 1, 2, 3, 4, 5, 5, 2, 4, 5, 1, 2, 3, 4, 1, 2, 3, 4, 5, 4, 5, 2, 1, 3, 4, 1, 2, 3, 4, 2, 3, 2, 1, 2, 3, 4, 3, 4, 3, 4, 1, 2, 3, 4, 1, 2, 3, 4, 5, 2, 1, 4, 1, 2, 3, 4, 2, 1, 2, 3, 4, 2, 1, 3, 4, 1, 2, 3, 4, 1, 1, 1, 2, 3, 4, 5, 3, 1, 2, 3, 4, 2, 3, 1, 2, 3, 4, 5, 3, 4, 4, 1, 1, 2, 3, 1, 2, 3, 4, 5, 1, 2, 5, 1, 2, 4, 5, 1, 2, 3, 5, 1, 2, 3, 1, 3, 4, 1, 2, 3, 4, 1, 2, 3, 4, 2, 4, 5, 1, 2, 3, 4, 1, 1, 1, 2, 3, 4, 5, 1, 2, 3, 4, 1, 4, 1, 2, 4, 2, 4, 1, 2, 3, 4, 5, 1, 3, 4, 2, 1, 2, 3, 4, 5, 1, 1, 2, 3, 5, 4, 1, 5, 5, 5, 5, 1, 2, 3, 4, 5, 5, 2, 1, 2, 3, 4, 1, 2, 3, 4, 1, 3, 1, 2, 4, 5, 1, 2, 3, 4, 5, 3, 1, 3, 2, 5, 4, 5, 1, 2, 3, 4, 1, 2, 3, 4, 5, 1, 2, 4, 1, 5, 5, 5, 5, 1, 2, 3, 4, 5, 3], \"Freq\": [0.9916077814396757, 0.9746214021712466, 0.3576286498517182, 0.5808295093336416, 0.06087296167688821, 0.9946901651117261, 0.004170608658749376, 0.01466006025094997, 0.982224036813648, 0.982519958447014, 0.09865358999767333, 0.9019756799787275, 0.18990641760101748, 0.7446330584882002, 0.06246921631612417, 0.002498768652644967, 0.08180489607593401, 0.9030001989920408, 0.012585368627066771, 0.07820918840544532, 0.9144458952021298, 0.26780727581847813, 0.7317550916730248, 0.023425056157374096, 0.8667270778228415, 0.07027516847212228, 0.03904176026229016, 0.9779474965184138, 0.9972553041398191, 0.9071226146117622, 0.25043690974115695, 0.7513107292234708, 0.9423318359757967, 0.05543128446916452, 0.07490884511927005, 0.9176333527110582, 0.9969787080049457, 0.994977997002967, 0.06438852745072854, 0.9336336480355637, 0.9903939444414447, 0.9852409350934803, 0.9771435009046938, 0.31127600643133585, 0.34626615605938377, 0.2172115782104796, 0.1254192376278083, 0.0834140546634468, 0.9056383077745652, 0.9697244320090185, 0.045254697329980303, 0.9277212952645962, 0.026605473755472342, 0.9710997920747404, 0.9959565168600826, 0.996340831576373, 0.9679208814583237, 0.9569430247741804, 0.9924473599954614, 0.9803770090117818, 0.9342118625295571, 0.9233964764601026, 0.0752397128967491, 0.5217595258631611, 0.13323902055303902, 0.3213411672161529, 0.017914490158391798, 0.006717933809396925, 0.9953890112307838, 0.11532334253133626, 0.7376717255021682, 0.14316001141821055, 0.0019883334919195907, 0.10235633818195707, 0.9041476539406207, 0.9695655676144664, 0.03045755709783664, 0.9971550749024233, 0.0021490411097034984, 0.9956966274959703, 0.9874631809958736, 0.9766565356399419, 0.9907761190455882, 0.2488640472325938, 0.46154047377105595, 0.12487695337892966, 0.14119104467546442, 0.02372958734041419, 0.5464220528838921, 0.07285627371785229, 0.17422152410790764, 0.20669008087347226, 0.016182983410424862, 0.9305215460994295, 0.032365966820849724, 0.02427447511563729, 0.9877375314693875, 0.29519613971233744, 0.05151073578873002, 0.6537901080877272, 0.9255614962235441, 0.07333683986470704, 0.9684317303508696, 0.9691630465132929, 0.9623661900414109, 0.9716748593836115, 0.02534803981000726, 0.9492460473704257, 0.0448462699545083, 0.4496362912655153, 0.02692432881829433, 0.22347192919184294, 0.3002062663239818, 0.554634336724413, 0.19825568910409552, 0.1621362315750093, 0.085081388846292, 0.19521492874302637, 0.7842845382833866, 0.020548939867686987, 0.053491399554386136, 0.9475619349634116, 0.810470328014677, 0.13789252108583047, 0.05065439550091731, 0.9908814375823211, 0.9663331244047427, 0.028561570179450525, 0.030723202280890097, 0.025602668567408414, 0.9421782032806296, 0.9886958671457914, 0.9882521137407387, 0.9928636993783349, 0.14384397392005968, 0.8630638435203581, 0.9949068877657826, 0.20669426925221754, 0.10878645750116712, 0.14142239475151724, 0.32635937250350133, 0.21757291500233425, 0.975294280382389, 0.997615307554122, 0.9833271113081021, 0.2855113929814936, 0.4955662035321639, 0.21209417764339525, 0.006118101278174863, 0.10595125273166484, 0.6242533269054847, 0.2061754107210775, 0.06013449479364761, 0.990743084231887, 0.13042270557252775, 0.369530999122162, 0.0072457058651404305, 0.37677670498730237, 0.12317699970738732, 0.9875811962003844, 0.9877930984678582, 0.014723380511066907, 0.9815587007377937, 0.9832233445217052, 0.009639444554134366, 0.10549903541351387, 0.8791586284459488, 0.9978534151081416, 0.9943844781891055, 0.9941291954009938, 0.4429825339648517, 0.5248073332322447, 0.031036992825562857, 0.9882043214564125, 0.8213480471719192, 0.16426960943438385, 0.013286512527781047, 0.2331610489862744, 0.49546722909583313, 0.2225628194868983, 0.04106813931008242, 0.007948672124532081, 0.9821141515537819, 0.9441919052102854, 0.01804188353905004, 0.04209772825778343, 0.9975266692140139, 0.9786476330505891, 0.40728738372075385, 0.033940615310062816, 0.5430498449610051, 0.9975990523540808, 0.4456645836921213, 0.2180844447186588, 0.25036980518499147, 0.08229601687496559, 0.0034817545600946977, 0.9806660917521342, 0.0753022197771687, 0.7840289941505212, 0.011073855849583631, 0.1173828720055865, 0.013288627019500359, 0.9799227646668489, 0.9965977436215326, 0.8594133437387631, 0.043551351878653534, 0.09726468586232623, 0.9730922682494663, 0.9882777201296875, 0.015807489658277957, 0.4215330575540789, 0.5585313012591545, 0.9867635714956501, 0.2990932726475087, 0.20684955304594058, 0.1341726830568263, 0.36058908571522075, 0.08469907135365502, 0.46113938848101066, 0.14587062288685032, 0.30821050964802243, 0.7988646770945899, 0.20019974353338996, 0.23180165575481337, 0.7417652984154028, 0.6149539291372703, 0.08785056130532433, 0.00976117347836937, 0.2830740308727117, 0.3571261761780019, 0.14315833786445764, 0.423317665728235, 0.06619148955023312, 0.009236021797706946, 0.9874437492343492, 0.6889281956011881, 0.19340553014125098, 0.00632044216147879, 0.10365525144825216, 0.0075845305937745485, 0.03992614103090221, 0.5390029039171799, 0.014972302886588329, 0.40425217793788487, 0.9780844441064064, 0.9908494640171218, 0.683278468375356, 0.11654048642850699, 0.2003538499558579, 0.9813194316564657, 0.9936674361949664, 0.4786293229656513, 0.29323976193477314, 0.16142284971890156, 0.06696581101875829, 0.9824504226355363, 0.36480104834909066, 0.3872011127214033, 0.1216003494496969, 0.07360021150902707, 0.05120014713671448, 0.12322648731361062, 0.7985076377921968, 0.03450341644781097, 0.04436153543289982, 0.2893123102696019, 0.3828623986202517, 0.21481872139778826, 0.10914176974242468, 0.005197227130591652, 0.9820331963241502, 0.11266173497353485, 0.742647763192893, 0.08737032508151682, 0.055181257946221154, 0.002299219081092548, 0.9836955014992835, 0.022731625584725402, 0.9774599001431923, 0.5944289481029047, 0.10856109780167991, 0.25583978992423867, 0.04099509986916584, 0.323472106423175, 0.2971735611855185, 0.23142719809137724, 0.13675243523581382, 0.010519418095062601, 0.9657559930418166, 0.0038781094861021215, 0.11246517509696152, 0.8803308533451816, 0.007756218972204243, 0.9578792321060129, 0.9948165353676317, 0.02421512000115927, 0.9686048000463708, 0.23271049585827733, 0.7615979864452713, 0.9569430247741804, 0.19147079033198383, 0.2727803040346071, 0.3934331308191449, 0.14163592709489214, 0.5191913772802644, 0.04479298156927772, 0.02239649078463886, 0.4153531018242116, 0.9903368287249953, 0.029201142458724128, 0.010618597257717865, 0.9131993641637364, 0.04512903834530092, 0.979250986702452, 0.03575388991212707, 0.965355027627431, 0.9075915310401754, 0.9842108660368534, 0.09991072775323709, 0.0726623474568997, 0.8265342023222341, 0.0030275978107041543, 0.04472166246833091, 0.013416498740499272, 0.9436270780817821, 0.9312293101358126, 0.03303907844464418, 0.9030681441536077, 0.05873613945714522, 0.9909305343279535, 0.9852660954034402, 0.985411049459927, 0.023437550688828652, 0.5421886726015694, 0.3921883481930661, 0.03437507434361536, 0.007812516896276217, 0.3431328424744839, 0.659870850912469, 0.07318834611188971, 0.9075354917874323, 0.021956503833566912, 0.8200595473571783, 0.017084573903274548, 0.017084573903274548, 0.1435104207875062, 0.965288692443583, 0.9447811510677815, 0.01628933019082382, 0.010859553460549213, 0.02714888365137303, 0.9852660954034402, 0.020655653974488555, 0.891635729898756, 0.08606522489370232, 0.9915245866985596, 0.9298607814008286, 0.004837985335071949, 0.06386140642294973, 0.9855248741873657, 0.8891642332585802, 0.473655930031089, 0.16621412223568033, 0.31504637547939407, 0.04562740610391225, 0.9954560839189619, 0.9901485823556482, 0.9762289373336813, 0.9938192941094421, 0.9841704718651401, 0.9883941419044847, 0.33382762759114526, 0.40812463007332084, 0.2564773236370994, 0.001017767157290077, 0.8596398248699858, 0.13955191962175095, 0.9828036298406013, 0.11678518574554092, 0.8758888930915569, 0.11427411772163341, 0.05713705886081671, 0.29711270607624685, 0.5313746474055954, 0.978144542304279, 0.0448269489067986, 0.9563082433450368, 0.983024881689766, 0.40983752223990616, 0.05122969027998827, 0.5379117479398768, 0.1908154111605276, 0.18970601923517572, 0.3916153496492224, 0.22742534469714049, 0.9539944326018893, 0.9837556926683564, 0.9570743415378854, 0.8477718301776717, 0.880615772180618, 0.008920854421511326, 0.00637203887250809, 0.10450143750913267, 0.26873194765133784, 0.6077862741273249, 0.0966932708838926, 0.024487256912154618, 0.002511513529451756, 0.9843536795804118, 0.013124715727738824, 0.9987039095372037, 0.9856749468076954, 0.9736692836621187, 0.02588657615225187, 0.022768488482191967, 0.9790450047342545, 0.007161853105234239, 0.08594223726281086, 0.898812564706897, 0.007161853105234239, 0.8771386568367008, 0.9581736588375465, 0.42198943361412833, 0.3384893967500561, 0.1364731785305266, 0.06374733997149598, 0.03860754392639897, 0.9207092557700254, 0.8953161055335023, 0.10153069238008788, 0.004615031471822176, 0.8861903817222708, 0.006887490013385525, 0.0780582201517026, 0.02984579005800394, 0.4083308953795684, 0.11095948244010011, 0.1819735512017642, 0.2973714129394683, 0.9270034882001184, 0.9954910414349969, 0.8901351638488725, 0.9842765325682203, 0.055603078127202096, 0.9359851484745686, 0.004633589843933508, 0.34723031079096134, 0.2859543735925564, 0.29762598067796686, 0.06857069162678649, 0.9912172565484186, 0.9908858883024597, 0.9929870200128527, 0.031208053944887352, 0.11442953113125362, 0.010402684648295784, 0.8426174565119585, 0.10483044565550548, 0.8910587880717965, 0.018521249038688032, 0.9816261990504658, 0.8180925301102794, 0.05822722634236864, 0.002911361317118432, 0.11936581400185571, 0.29224486356079266, 0.5215486975253825, 0.13345587603178288, 0.048576894211177335, 0.003917491468643334, 0.9841891934229204, 0.9728519378402593, 0.02114895517044042, 0.6418113034092036, 0.0915538686085909, 0.17376550572650926, 0.09248809175765815, 0.9921911276541158, 0.13179173178898637, 0.035562848260520134, 0.7227625925888063, 0.10982644315748864, 0.9981994047571231, 0.9951039723079783, 0.9887606966607575, 0.997222368711894, 0.28854023167720005, 0.6010386775369835, 0.09166621078553648, 0.018749906751587008, 0.9853808383964299, 0.9910782399976843, 0.3456983311516068, 0.21180109021260418, 0.036517429347000724, 0.3919537416578077, 0.014606971738800288, 0.9711877992173933, 0.5229551488866953, 0.10483770673436109, 0.3601483572521581, 0.011100463065991174, 0.017700877078445927, 0.9823986778537489, 0.04825170781769695, 0.24769210013084436, 0.6433561042359593, 0.06111882990241614, 0.9539059268823042, 0.9757419053385109, 0.9720246569991404, 0.9831863230542556, 0.9965383508972253, 0.9299744952123203, 0.06804691428382832, 0.9872892230243447, 0.01698075960009515, 0.01698075960009515, 0.9484967148053147, 0.01334202540007476, 0.004245189900023787, 0.20853925478354518, 0.5329336511135043, 0.2548813114021108, 0.17353366779057267, 0.6362901152320998, 0.01928151864339696, 0.1638929084688742, 0.164039449318858, 0.7751668095263682, 0.016082298952829217, 0.04181397727735596, 0.04253953819654049, 0.20844373716304837, 0.7486958722591126, 0.15199578794670138, 0.01788185740549428, 0.822565440652737, 0.47746204684079246, 0.002155584861583713, 0.2597479758208374, 0.2608257682516293, 0.10922362726789402, 0.021844725453578802, 0.8665074429919591, 0.9586892661396849, 0.34880006378556694, 0.026830774137351302, 0.61710780515908, 0.6530351572434538, 0.12203182231317067, 0.21602930706791024, 0.008245393399538559, 0.986699642065324, 0.9837036545105501, 0.31523301450943697, 0.0596386784207043, 0.5949668156732166, 0.024139465075046978, 0.007099842669131464, 0.39736821491810137, 0.22118568107489497, 0.3418324162066559, 0.03925806460636664, 0.38752458910152254, 0.6062884700459304, 0.8364450317770561, 0.14157038619639878, 0.021235557929459813, 0.9730442439111737, 0.020703069019386677, 0.07797086968902575, 0.28589318885976106, 0.623766957512206, 0.012995144948170959, 0.9539944326018893, 0.9734121474569297, 0.006320858100369674, 0.025283432401478696, 0.9941712717704094, 0.22901085518910463, 0.5364218229654704, 0.22075821175886665, 0.0020631608575595014, 0.012378965145357008, 0.9935482339802253, 0.15729813673781154, 0.6272263202420235, 0.17106172370237005, 0.04522321431212082, 0.9822795521050918, 0.9963680527931323, 0.9605995914005836, 0.8477718272753801, 0.8493958522310788, 0.9741546277693569, 0.3690098795147632, 0.3455919448532494, 0.15540993002640988, 0.12986309221384934, 0.9717058989654637, 0.9378494034020506, 0.9772581164014688, 0.21490611413046976, 0.13753991304350063, 0.1719248913043758, 0.4785242807971793, 0.6747347538407251, 0.18065920386810488, 0.08074918960771355, 0.06295699528736988, 0.015238558515323693, 0.9752677449807163, 0.02827293917794671, 0.49194914169627274, 0.022618351342357366, 0.45802161468273667, 0.09843852907757772, 0.18457224202045822, 0.1599626097510638, 0.14765779361636658, 0.4060589324450081, 0.9916953727596695, 0.07452292606037936, 0.925326331916377, 0.8593977410021333, 0.13641233984160847, 0.9671593261265581, 0.9130784696185671, 0.5547874939265982, 0.1702962975900199, 0.22024987821642575, 0.054494815228806365, 0.6060149653144701, 0.06430657748593463, 0.20995458742096537, 0.11157830000870778, 0.008517427481580745, 0.9982300659595729, 0.12060213808006312, 0.8592902338204497, 0.9870654031562915, 0.9697869848119652, 0.9570743415378854, 0.8964032690476323, 0.92995886192016, 0.24318599293933374, 0.3928389116712314, 0.08417976678669245, 0.07482645936594885, 0.21512607067710293, 0.9873506315289611], \"Term\": [\"abuso\", \"academia\", \"acuerdo\", \"acuerdo\", \"acuerdo\", \"adulto\", \"adulto\", \"aeropuerto\", \"aeropuerto\", \"agricultor\", \"agricultura\", \"agricultura\", \"aguar\", \"aguar\", \"aguar\", \"aguar\", \"alcalde\", \"alcalde\", \"alcalde\", \"alianza\", \"alianza\", \"alto\", \"alto\", \"am\\u00e9rica\", \"am\\u00e9rica\", \"am\\u00e9rica\", \"am\\u00e9rica\", \"and\", \"apec\", \"arar\", \"araucan\\u00eda\", \"araucan\\u00eda\", \"argentina\", \"argentina\", \"arica\", \"arica\", \"armada\", \"arrendar\", \"arturo\", \"arturo\", \"asia\", \"autonom\\u00eda\", \"a\\u00e9rea\", \"a\\u00f1o\", \"a\\u00f1o\", \"a\\u00f1o\", \"a\\u00f1o\", \"bandera\", \"bandera\", \"barrera\", \"batalla\", \"batalla\", \"belleza\", \"belleza\", \"biob\\u00edo\", \"bolivia\", \"bono\", \"borges\", \"brasil\", \"buque\", \"calcar\", \"calentamiento\", \"calentamiento\", \"calidad\", \"calidad\", \"calidad\", \"calidad\", \"calidad\", \"callaqui\", \"cambiar\", \"cambiar\", \"cambiar\", \"cambiar\", \"capit\\u00e1n\", \"capit\\u00e1n\", \"carabinero\", \"carabinero\", \"carabineros\", \"carabineros\", \"carbonar\", \"cardones\", \"cau\", \"cesfam\", \"chile\", \"chile\", \"chile\", \"chile\", \"chile\", \"chileno\", \"chileno\", \"chileno\", \"chileno\", \"china\", \"china\", \"china\", \"china\", \"ciberseguridad\", \"ciudad\", \"ciudad\", \"ciudad\", \"ciudadano\", \"ciudadano\", \"clim\\u00e1tico\", \"colombia\", \"comandante\", \"comerciar\", \"comerciar\", \"comercio\", \"comercio\", \"compatriota\", \"compatriota\", \"compatriota\", \"compatriota\", \"compromiso\", \"compromiso\", \"compromiso\", \"compromiso\", \"comuna\", \"comuna\", \"comuna\", \"conectividad\", \"conectividad\", \"congreso\", \"congreso\", \"congreso\", \"constitucional\", \"constituci\\u00f3n\", \"constituci\\u00f3n\", \"construcci\\u00f3n\", \"construcci\\u00f3n\", \"construcci\\u00f3n\", \"contender\", \"continente\", \"cop\", \"copiar\", \"copiar\", \"coquimbo\", \"coraje\", \"coraje\", \"coraje\", \"coraje\", \"coraje\", \"corbeta\", \"coronavirus\", \"corredor\", \"coser\", \"coser\", \"coser\", \"coser\", \"crecimiento\", \"crecimiento\", \"crecimiento\", \"crecimiento\", \"crimen\", \"crisis\", \"crisis\", \"crisis\", \"crisis\", \"crisis\", \"cr\\u00e9dito\", \"cuarentena\", \"cumbre\", \"cumbre\", \"c\\u00e1mara\", \"c\\u00e1mara\", \"c\\u00e1ncer\", \"c\\u00e1ncer\", \"delincuencia\", \"delincuente\", \"delito\", \"democracia\", \"democracia\", \"democracia\", \"deportista\", \"derecho\", \"derecho\", \"derecho\", \"desarrollar\", \"desarrollar\", \"desarrollar\", \"desarrollar\", \"desarrollar\", \"descarbonizaci\\u00f3n\", \"director\", \"director\", \"director\", \"discriminaci\\u00f3n\", \"dise\\u00f1ar\", \"doctorar\", \"doctorar\", \"doctorar\", \"drogar\", \"d\\u00eda\", \"d\\u00eda\", \"d\\u00eda\", \"d\\u00eda\", \"d\\u00eda\", \"eclipsar\", \"econom\\u00eda\", \"econom\\u00eda\", \"econom\\u00eda\", \"econom\\u00eda\", \"econom\\u00eda\", \"ecuador\", \"edad\", \"educaci\\u00f3n\", \"educaci\\u00f3n\", \"educaci\\u00f3n\", \"el\\u00e9ctrica\", \"embalse\", \"emergencia\", \"emergencia\", \"emergencia\", \"emisi\\u00f3n\", \"empleo\", \"empleo\", \"empleo\", \"empleo\", \"empresa\", \"empresa\", \"empresa\", \"empresa\", \"energ\\u00eda\", \"energ\\u00eda\", \"envidiar\", \"envidiar\", \"error\", \"error\", \"error\", \"error\", \"esforzar\", \"esforzar\", \"esforzar\", \"esforzar\", \"esforzar\", \"esmeralda\", \"estado\", \"estado\", \"estado\", \"estado\", \"estado\", \"estados\", \"estados\", \"estados\", \"estados\", \"excedente\", \"expectativa\", \"familia\", \"familia\", \"familia\", \"farmacia\", \"fonasa\", \"formar\", \"formar\", \"formar\", \"formar\", \"foro\", \"frente\", \"frente\", \"frente\", \"frente\", \"frente\", \"frontero\", \"frontero\", \"frontero\", \"frontero\", \"futuro\", \"futuro\", \"futuro\", \"futuro\", \"futuro\", \"gastar\", \"generaci\\u00f3n\", \"generaci\\u00f3n\", \"generaci\\u00f3n\", \"generaci\\u00f3n\", \"generaci\\u00f3n\", \"geriatra\", \"gloria\", \"gloria\", \"gobierno\", \"gobierno\", \"gobierno\", \"gobierno\", \"gracia\", \"gracia\", \"gracia\", \"gracia\", \"gracia\", \"guardiamarina\", \"habitante\", \"habitante\", \"habitante\", \"habitante\", \"have\", \"hect\\u00e1rea\", \"hero\\u00edsmo\", \"hero\\u00edsmo\", \"higgins\", \"higgins\", \"hippy\", \"historia\", \"historia\", \"historia\", \"historia\", \"hombre\", \"hombre\", \"hombre\", \"hombre\", \"hospicio\", \"hospital\", \"hospital\", \"hospital\", \"hospital\", \"hu\\u00e1scar\", \"h\\u00e9roe\", \"h\\u00e9roe\", \"important\", \"incendiar\", \"infraestructura\", \"infraestructura\", \"infraestructura\", \"infraestructura\", \"ingreso\", \"ingreso\", \"ingreso\", \"instagram\", \"integraci\\u00f3n\", \"integraci\\u00f3n\", \"integraci\\u00f3n\", \"interconectado\", \"internar\", \"invernadero\", \"inversi\\u00f3n\", \"inversi\\u00f3n\", \"inversi\\u00f3n\", \"inversi\\u00f3n\", \"inversi\\u00f3n\", \"iquique\", \"iquique\", \"isla\", \"isla\", \"isla\", \"joven\", \"joven\", \"joven\", \"joven\", \"juramentar\", \"justicia\", \"justicia\", \"justicia\", \"justicia\", \"kompuche\", \"latina\", \"latina\", \"latina\", \"legislaci\\u00f3n\", \"ley\", \"ley\", \"ley\", \"leyenda\", \"liquid\", \"lugar\", \"lugar\", \"lugar\", \"lugar\", \"l\\u00ednea\", \"macri\", \"maduro\", \"mando\", \"mari\", \"marino\", \"materia\", \"materia\", \"materia\", \"materia\", \"matriz\", \"matriz\", \"maule\", \"mayar\", \"mayar\", \"ma\\u00f1ana\", \"ma\\u00f1ana\", \"ma\\u00f1ana\", \"ma\\u00f1ana\", \"mercosur\", \"metro\", \"metro\", \"micro\", \"miedo\", \"miedo\", \"miedo\", \"mill\\u00f3n\", \"mill\\u00f3n\", \"mill\\u00f3n\", \"mill\\u00f3n\", \"mnuchin\", \"most\", \"mr\", \"much\", \"mujer\", \"mujer\", \"mujer\", \"mujer\", \"mundo\", \"mundo\", \"mundo\", \"mundo\", \"mundo\", \"m\\u00e9rito\", \"m\\u00e9rito\", \"narcotr\\u00e1fico\", \"naval\", \"ni\\u00f1o\", \"ni\\u00f1o\", \"nombre\", \"nombre\", \"obrar\", \"obrar\", \"obrar\", \"obrar\", \"of\", \"oficial\", \"oportunidad\", \"oportunidad\", \"oportunidad\", \"oportunidad\", \"oportunidad\", \"our\", \"pac\\u00edfico\", \"pac\\u00edfico\", \"pac\\u00edfico\", \"padre\", \"padre\", \"padre\", \"padre\", \"palabra\", \"palabra\", \"palabra\", \"palabra\", \"palestina\", \"pandemia\", \"paper\", \"paraguay\", \"parque\", \"parque\", \"parque\", \"partir\", \"partir\", \"partir\", \"partir\", \"par\\u00eds\", \"pasajero\", \"pasos\", \"patria\", \"patria\", \"patria\", \"patria\", \"patrio\", \"patrio\", \"patriotismo\", \"patriotismo\", \"paz\", \"paz\", \"paz\", \"paz\", \"pa\\u00eds\", \"pa\\u00eds\", \"pa\\u00eds\", \"pa\\u00eds\", \"pa\\u00eds\", \"peak\", \"pensionar\", \"pensionar\", \"personar\", \"personar\", \"personar\", \"personar\", \"per\\u00fa\", \"plan\", \"plan\", \"plan\", \"plan\", \"planeta\", \"plebiscito\", \"polpaico\", \"prat\", \"presidente\", \"presidente\", \"presidente\", \"presidente\", \"probidad\", \"profesor\", \"protecci\\u00f3n\", \"protecci\\u00f3n\", \"protecci\\u00f3n\", \"protecci\\u00f3n\", \"protecci\\u00f3n\", \"provincia\", \"proyectar\", \"proyectar\", \"proyectar\", \"proyectar\", \"puente\", \"puente\", \"puerto\", \"puerto\", \"puerto\", \"puerto\", \"puntajes\", \"quintero\", \"rada\", \"recesi\\u00f3n\", \"reforma\", \"reformar\", \"reformar\", \"regar\", \"regi\\u00f3n\", \"regi\\u00f3n\", \"regi\\u00f3n\", \"regi\\u00f3n\", \"regi\\u00f3n\", \"relacionar\", \"relacionar\", \"relacionar\", \"relaci\\u00f3n\", \"relaci\\u00f3n\", \"relaci\\u00f3n\", \"relaci\\u00f3n\", \"revoluci\\u00f3n\", \"revoluci\\u00f3n\", \"revoluci\\u00f3n\", \"revoluci\\u00f3n\", \"ruta\", \"ruta\", \"ruta\", \"sacrificio\", \"sacrificio\", \"sacrificio\", \"salud\", \"salud\", \"salud\", \"salud\", \"san\", \"san\", \"san\", \"sanitaria\", \"secretario\", \"secretario\", \"secretario\", \"seguridad\", \"seguridad\", \"seguridad\", \"seguridad\", \"sename\", \"servel\", \"se\\u00f1or\", \"se\\u00f1or\", \"se\\u00f1or\", \"se\\u00f1or\", \"se\\u00f1or\", \"sistema\", \"sistema\", \"sistema\", \"sistema\", \"social\", \"social\", \"sociedad\", \"sociedad\", \"sociedad\", \"socio\", \"socio\", \"sol\", \"sol\", \"sol\", \"sol\", \"steven\", \"subsidiar\", \"subsidiar\", \"subsidiar\", \"sustentabilidad\", \"tecnolog\\u00eda\", \"tecnolog\\u00eda\", \"tecnolog\\u00eda\", \"tecnolog\\u00eda\", \"tecnolog\\u00eda\", \"tel\\u00e9fono\", \"temer\", \"temer\", \"temer\", \"temer\", \"teniente\", \"terrorismo\", \"tesoro\", \"thank\", \"that\", \"the\", \"tiempo\", \"tiempo\", \"tiempo\", \"tiempo\", \"to\", \"together\", \"tpp\", \"trabajador\", \"trabajador\", \"trabajador\", \"trabajador\", \"trabajar\", \"trabajar\", \"trabajar\", \"trabajar\", \"tren\", \"tren\", \"unidos\", \"unidos\", \"unidos\", \"unidos\", \"universidad\", \"universidad\", \"universidad\", \"universidad\", \"universidad\", \"valdivia\", \"valpara\\u00edso\", \"valpara\\u00edso\", \"venezuela\", \"venezuela\", \"ventilador\", \"very\", \"vez\", \"vez\", \"vez\", \"vez\", \"vida\", \"vida\", \"vida\", \"vida\", \"vida\", \"violencia\", \"virtud\", \"virtud\", \"votaci\\u00f3n\", \"we\", \"welcome\", \"with\", \"you\", \"\\u00e9poca\", \"\\u00e9poca\", \"\\u00e9poca\", \"\\u00e9poca\", \"\\u00e9poca\", \"\\u00f1uble\"]}, \"R\": 30, \"lambda.step\": 0.01, \"plot.opts\": {\"xlab\": \"PC1\", \"ylab\": \"PC2\"}, \"topic.order\": [1, 2, 4, 3, 5]};\n",
              "\n",
              "function LDAvis_load_lib(url, callback){\n",
              "  var s = document.createElement('script');\n",
              "  s.src = url;\n",
              "  s.async = true;\n",
              "  s.onreadystatechange = s.onload = callback;\n",
              "  s.onerror = function(){console.warn(\"failed to load library \" + url);};\n",
              "  document.getElementsByTagName(\"head\")[0].appendChild(s);\n",
              "}\n",
              "\n",
              "if(typeof(LDAvis) !== \"undefined\"){\n",
              "   // already loaded: just create the visualization\n",
              "   !function(LDAvis){\n",
              "       new LDAvis(\"#\" + \"ldavis_el19371406827467572009719877818\", ldavis_el19371406827467572009719877818_data);\n",
              "   }(LDAvis);\n",
              "}else if(typeof define === \"function\" && define.amd){\n",
              "   // require.js is available: use it to load d3/LDAvis\n",
              "   require.config({paths: {d3: \"https://d3js.org/d3.v5\"}});\n",
              "   require([\"d3\"], function(d3){\n",
              "      window.d3 = d3;\n",
              "      LDAvis_load_lib(\"https://cdn.jsdelivr.net/gh/bmabey/pyLDAvis@3.3.1/pyLDAvis/js/ldavis.v3.0.0.js\", function(){\n",
              "        new LDAvis(\"#\" + \"ldavis_el19371406827467572009719877818\", ldavis_el19371406827467572009719877818_data);\n",
              "      });\n",
              "    });\n",
              "}else{\n",
              "    // require.js not available: dynamically load d3 & LDAvis\n",
              "    LDAvis_load_lib(\"https://d3js.org/d3.v5.js\", function(){\n",
              "         LDAvis_load_lib(\"https://cdn.jsdelivr.net/gh/bmabey/pyLDAvis@3.3.1/pyLDAvis/js/ldavis.v3.0.0.js\", function(){\n",
              "                 new LDAvis(\"#\" + \"ldavis_el19371406827467572009719877818\", ldavis_el19371406827467572009719877818_data);\n",
              "            })\n",
              "         });\n",
              "}\n",
              "</script>"
            ],
            "text/plain": [
              "PreparedData(topic_coordinates=              x         y  topics  cluster       Freq\n",
              "topic                                                \n",
              "0     -0.105983  0.025742       1        1  38.993052\n",
              "1     -0.032436 -0.121410       2        1  24.992140\n",
              "3     -0.112177 -0.103712       3        1  23.033791\n",
              "2     -0.084464  0.189853       4        1  11.478073\n",
              "4      0.335059  0.009526       5        1   1.502944, topic_info=            Term         Freq        Total Category  logprob  loglift\n",
              "51         chile  3371.000000  3371.000000  Default  30.0000  30.0000\n",
              "244       región  1648.000000  1648.000000  Default  29.0000  29.0000\n",
              "194  oportunidad  1113.000000  1113.000000  Default  28.0000  28.0000\n",
              "188         niño  1197.000000  1197.000000  Default  27.0000  27.0000\n",
              "351         país  3828.000000  3828.000000  Default  26.0000  26.0000\n",
              "..           ...          ...          ...      ...      ...      ...\n",
              "277        temer    22.617433   508.588351   Topic5  -4.9535   1.0848\n",
              "246     relación    16.872778   103.726270   Topic5  -5.2465   2.3817\n",
              "973       crisis    16.564651   138.012779   Topic5  -5.2649   2.0777\n",
              "298         vida    19.972540  2348.126831   Topic5  -5.0778  -0.5693\n",
              "673       frente    16.051260   312.499102   Topic5  -5.2964   1.2289\n",
              "\n",
              "[371 rows x 6 columns], token_table=      Topic      Freq      Term\n",
              "term                           \n",
              "412       1  0.991608     abuso\n",
              "2249      4  0.974621  academia\n",
              "375       1  0.357629   acuerdo\n",
              "375       2  0.580830   acuerdo\n",
              "375       4  0.060873   acuerdo\n",
              "...     ...       ...       ...\n",
              "311       2  0.392839     época\n",
              "311       3  0.084180     época\n",
              "311       4  0.074826     época\n",
              "311       5  0.215126     época\n",
              "5343      3  0.987351     ñuble\n",
              "\n",
              "[653 rows x 3 columns], R=30, lambda_step=0.01, plot_opts={'xlab': 'PC1', 'ylab': 'PC2'}, topic_order=[1, 2, 4, 3, 5])"
            ]
          },
          "metadata": {},
          "execution_count": 18
        }
      ]
    },
    {
      "cell_type": "markdown",
      "source": [
        "## Elección del modelo\n",
        "\n",
        "Utilizaremos el puntaje de coherencia como métrica de calidad del modelo. \n",
        "\n",
        "Para efectos de este trabajo mantuvimos `random_state` con el fin de comparar resultados.\n",
        "\n",
        "Definimos la función **compute_coherence_values** que nos permitirá conocer los valores de coherencia para un determinado numero de tópicos y así poder seleccionar el que a nuestro criterio podría mejorar la calidad del modelo."
      ],
      "metadata": {
        "id": "SQF3lp7sZzhH"
      }
    },
    {
      "cell_type": "code",
      "source": [
        "from gensim.models import CoherenceModel\n",
        "\n",
        "\n",
        "def compute_coherence_values(dictionary, corpus, texts, limit, start, step):\n",
        "    coherence_values = []\n",
        "    model_list = []\n",
        "    for num_topics in tqdm(list(range(start, limit, step))):\n",
        "        lda_model = LdaModel(corpus=corpus,\n",
        "                     id2word=id2word,\n",
        "                     num_topics=num_topics,\n",
        "                     random_state=100,\n",
        "                     update_every=1,\n",
        "                     chunksize=100,\n",
        "                     passes=10,\n",
        "                     alpha='auto',\n",
        "                     per_word_topics=True)\n",
        "        model_list.append(lda_model)\n",
        "        coherencemodel = CoherenceModel(model=lda_model, texts=texts, dictionary=dictionary, coherence=\"c_v\")\n",
        "        coherence_values.append(coherencemodel.get_coherence())\n",
        "        #perp\n",
        "\n",
        "    return model_list, coherence_values"
      ],
      "metadata": {
        "id": "DRRxJyBpFBqk"
      },
      "execution_count": null,
      "outputs": []
    },
    {
      "cell_type": "markdown",
      "source": [
        "Evaluamos tópicos desde dos hasta diez. "
      ],
      "metadata": {
        "id": "-92sB6z8ayWm"
      }
    },
    {
      "cell_type": "code",
      "source": [
        "import warnings\n",
        "\n",
        "\n",
        "warnings.filterwarnings(\"ignore\",category=DeprecationWarning)\n",
        "\n",
        "start = 2\n",
        "limit = 10\n",
        "step = 1\n",
        "model_list, coherence_values = compute_coherence_values(id2word, corpus, texts, limit, start, step)"
      ],
      "metadata": {
        "colab": {
          "base_uri": "https://localhost:8080/"
        },
        "id": "N0jLpxp8ERPB",
        "outputId": "ff6669ea-f976-4d38-dbee-dcb1aab743dd"
      },
      "execution_count": null,
      "outputs": [
        {
          "output_type": "stream",
          "name": "stderr",
          "text": [
            "100%|██████████| 8/8 [01:27<00:00, 10.88s/it]\n"
          ]
        }
      ]
    },
    {
      "cell_type": "markdown",
      "source": [
        "Graficamos los resultados de coherencia descritos en los puntos anteriores."
      ],
      "metadata": {
        "id": "f7rZ0DHIbBTl"
      }
    },
    {
      "cell_type": "code",
      "source": [
        "plt.style.use(\"seaborn\")\n",
        "plt.rcParams[\"figure.figsize\"] = (6, 8)\n",
        "plt.rcParams[\"figure.dpi\"] = 100\n",
        "\n",
        "\n",
        "x = range(start, limit, step)\n",
        "plt.plot(x, coherence_values)\n",
        "plt.xlabel(\"Cantidad de Tópicos\")\n",
        "plt.ylabel(\"Coherence Score\")\n",
        "plt.legend((\"coherence_values\",), loc=\"best\")\n",
        "\n",
        "print(f\"En el caso del gráfico, el mejor modelo sería con {np.argmax(coherence_values)+2} tópicos\")"
      ],
      "metadata": {
        "colab": {
          "base_uri": "https://localhost:8080/",
          "height": 701
        },
        "id": "nfEOZY0WEZlE",
        "outputId": "feb74920-816d-432b-ee7b-4329b7aeada6"
      },
      "execution_count": null,
      "outputs": [
        {
          "output_type": "stream",
          "name": "stdout",
          "text": [
            "En el caso del gráfico, el mejor modelo sería con 9 tópicos\n"
          ]
        },
        {
          "output_type": "display_data",
          "data": {
            "image/png": "[encoded data removed]",
            "text/plain": [
              "<Figure size 600x800 with 1 Axes>"
            ]
          },
          "metadata": {}
        }
      ]
    },
    {
      "cell_type": "markdown",
      "source": [
        "Podemos observar que el valor de coherencia mas alto se encuentra con nueve tópicos."
      ],
      "metadata": {
        "id": "z6Q_24ffbJaZ"
      }
    },
    {
      "cell_type": "code",
      "source": [
        "list(enumerate(zip(x, coherence_values)))"
      ],
      "metadata": {
        "colab": {
          "base_uri": "https://localhost:8080/"
        },
        "id": "5Y_qzKnNHUWp",
        "outputId": "f119bddb-5dd5-41bc-c7be-4a4aa6987d61"
      },
      "execution_count": null,
      "outputs": [
        {
          "output_type": "execute_result",
          "data": {
            "text/plain": [
              "[(0, (2, 0.2833440224154675)),\n",
              " (1, (3, 0.30605356421602586)),\n",
              " (2, (4, 0.31034778935779833)),\n",
              " (3, (5, 0.31242658701916143)),\n",
              " (4, (6, 0.3611636250793128)),\n",
              " (5, (7, 0.39528070448530034)),\n",
              " (6, (8, 0.4044917558673654)),\n",
              " (7, (9, 0.4055217506613494))]"
            ]
          },
          "metadata": {},
          "execution_count": 22
        }
      ]
    },
    {
      "cell_type": "markdown",
      "source": [
        "Observamos los valores y al utilizar el valor máximo de coherencia que se encuentra con nueve tópicos, estos quedan traslapados unos con otros lo que dificulta la posilidad de interpretarlos, en consecuencia definimos utilizar cinco tópicos ya que la distribución de ellos nos permite poder interpretarlos.  "
      ],
      "metadata": {
        "id": "gwg10R6Qbo5n"
      }
    },
    {
      "cell_type": "code",
      "source": [
        "best_model = model_list[3]"
      ],
      "metadata": {
        "id": "9veewIMXHajo"
      },
      "execution_count": null,
      "outputs": []
    },
    {
      "cell_type": "code",
      "source": [
        "pyLDAvis.enable_notebook()\n",
        "vis = gensimvis.prepare(best_model, corpus, id2word)\n",
        "vis"
      ],
      "metadata": {
        "colab": {
          "base_uri": "https://localhost:8080/",
          "height": 861
        },
        "id": "7DYW5lTRHhL_",
        "outputId": "3a00ac94-c194-446a-f95f-314810e8cf53"
      },
      "execution_count": null,
      "outputs": [
        {
          "output_type": "execute_result",
          "data": {
            "text/html": [
              "\n",
              "<link rel=\"stylesheet\" type=\"text/css\" href=\"https://cdn.jsdelivr.net/gh/bmabey/pyLDAvis@3.3.1/pyLDAvis/js/ldavis.v1.0.0.css\">\n",
              "\n",
              "\n",
              "<div id=\"ldavis_el19371406826635835685901689824\"></div>\n",
              "<script type=\"text/javascript\">\n",
              "\n",
              "var ldavis_el19371406826635835685901689824_data = {\"mdsDat\": {\"x\": [-0.10598310908708093, -0.0324361446075315, -0.11217667891424861, -0.08446354254122923, 0.3350594751500905], \"y\": [0.025741913779961895, -0.12140975467668581, -0.10371158043996732, 0.18985332835614271, 0.009526092980548614], \"topics\": [1, 2, 3, 4, 5], \"cluster\": [1, 1, 1, 1, 1], \"Freq\": [38.99305227240456, 24.992139740125516, 23.03379081886088, 11.478072805196176, 1.502944363412863]}, \"tinfo\": {\"Term\": [\"chile\", \"regi\\u00f3n\", \"oportunidad\", \"ni\\u00f1o\", \"pa\\u00eds\", \"energ\\u00eda\", \"joven\", \"adulto\", \"vida\", \"temer\", \"estados\", \"derecho\", \"familia\", \"ley\", \"unidos\", \"plan\", \"crecimiento\", \"am\\u00e9rica\", \"salud\", \"mundo\", \"patrio\", \"revoluci\\u00f3n\", \"hombre\", \"argentina\", \"compatriota\", \"mujer\", \"pandemia\", \"democracia\", \"chileno\", \"ingreso\", \"carabineros\", \"delincuencia\", \"plebiscito\", \"violencia\", \"narcotr\\u00e1fico\", \"delito\", \"edad\", \"drogar\", \"adulto\", \"delincuente\", \"profesor\", \"terrorismo\", \"discriminaci\\u00f3n\", \"reforma\", \"crimen\", \"arrendar\", \"legislaci\\u00f3n\", \"geriatra\", \"servel\", \"expectativa\", \"constitucional\", \"autonom\\u00eda\", \"sename\", \"tel\\u00e9fono\", \"mando\", \"abuso\", \"fonasa\", \"gastar\", \"votaci\\u00f3n\", \"probidad\", \"ni\\u00f1o\", \"farmacia\", \"pensionar\", \"c\\u00e1mara\", \"constituci\\u00f3n\", \"carabinero\", \"subsidiar\", \"ley\", \"ciudadano\", \"m\\u00e9rito\", \"reformar\", \"mujer\", \"justicia\", \"director\", \"educaci\\u00f3n\", \"padre\", \"sociedad\", \"derecho\", \"familia\", \"vida\", \"paz\", \"congreso\", \"estado\", \"personar\", \"gobierno\", \"trabajar\", \"d\\u00eda\", \"vez\", \"compromiso\", \"chileno\", \"seguridad\", \"formar\", \"pa\\u00eds\", \"calidad\", \"proyectar\", \"a\\u00f1o\", \"chile\", \"salud\", \"lugar\", \"tiempo\", \"oportunidad\", \"partir\", \"sistema\", \"mundo\", \"planeta\", \"cop\", \"carbonar\", \"brasil\", \"apec\", \"continente\", \"emisi\\u00f3n\", \"invernadero\", \"bolivia\", \"par\\u00eds\", \"pasos\", \"per\\u00fa\", \"foro\", \"macri\", \"sustentabilidad\", \"corredor\", \"descarbonizaci\\u00f3n\", \"ecuador\", \"maduro\", \"ciberseguridad\", \"peak\", \"paraguay\", \"cumbre\", \"mercosur\", \"barrera\", \"clim\\u00e1tico\", \"colombia\", \"tpp\", \"deportista\", \"asia\", \"comerciar\", \"argentina\", \"comercio\", \"socio\", \"integraci\\u00f3n\", \"calentamiento\", \"latina\", \"alianza\", \"am\\u00e9rica\", \"china\", \"pac\\u00edfico\", \"energ\\u00eda\", \"matriz\", \"econom\\u00eda\", \"cambiar\", \"generaci\\u00f3n\", \"revoluci\\u00f3n\", \"venezuela\", \"mundo\", \"pa\\u00eds\", \"presidente\", \"frontero\", \"chile\", \"temer\", \"inversi\\u00f3n\", \"a\\u00f1o\", \"desarrollar\", \"materia\", \"crecimiento\", \"tiempo\", \"tecnolog\\u00eda\", \"d\\u00eda\", \"acuerdo\", \"oportunidad\", \"formar\", \"partir\", \"coser\", \"compromiso\", \"futuro\", \"gracia\", \"sistema\", \"l\\u00ednea\", \"biob\\u00edo\", \"coquimbo\", \"interconectado\", \"cesfam\", \"callaqui\", \"\\u00f1uble\", \"hect\\u00e1rea\", \"cardones\", \"valdivia\", \"mari\", \"maule\", \"eclipsar\", \"embalse\", \"polpaico\", \"incendiar\", \"regar\", \"dise\\u00f1ar\", \"agricultor\", \"provincia\", \"hospicio\", \"leyenda\", \"el\\u00e9ctrica\", \"pasajero\", \"aeropuerto\", \"internar\", \"kompuche\", \"cau\", \"excedente\", \"quintero\", \"tren\", \"puente\", \"regi\\u00f3n\", \"metro\", \"belleza\", \"construcci\\u00f3n\", \"parque\", \"conectividad\", \"hospital\", \"alcalde\", \"obrar\", \"valpara\\u00edso\", \"habitante\", \"isla\", \"infraestructura\", \"agricultura\", \"plan\", \"arica\", \"comuna\", \"aguar\", \"san\", \"ciudad\", \"se\\u00f1or\", \"alto\", \"ruta\", \"araucan\\u00eda\", \"puerto\", \"d\\u00eda\", \"sol\", \"mill\\u00f3n\", \"sistema\", \"partir\", \"historia\", \"esforzar\", \"vida\", \"a\\u00f1o\", \"proyectar\", \"pa\\u00eds\", \"gobierno\", \"lugar\", \"calidad\", \"chile\", \"inversi\\u00f3n\", \"vez\", \"materia\", \"salud\", \"formar\", \"pandemia\", \"prat\", \"coronavirus\", \"armada\", \"recesi\\u00f3n\", \"buque\", \"cr\\u00e9dito\", \"marino\", \"micro\", \"a\\u00e9rea\", \"cuarentena\", \"hu\\u00e1scar\", \"contender\", \"esmeralda\", \"rada\", \"corbeta\", \"patriotismo\", \"teniente\", \"guardiamarina\", \"sanitaria\", \"academia\", \"oficial\", \"nombre\", \"gloria\", \"naval\", \"bono\", \"ventilador\", \"hero\\u00edsmo\", \"juramentar\", \"comandante\", \"h\\u00e9roe\", \"ingreso\", \"arturo\", \"patrio\", \"bandera\", \"mayar\", \"batalla\", \"sacrificio\", \"patria\", \"capit\\u00e1n\", \"virtud\", \"c\\u00e1ncer\", \"higgins\", \"iquique\", \"trabajador\", \"hombre\", \"social\", \"emergencia\", \"protecci\\u00f3n\", \"compatriota\", \"salud\", \"chile\", \"chileno\", \"familia\", \"mill\\u00f3n\", \"ma\\u00f1ana\", \"empleo\", \"a\\u00f1o\", \"vida\", \"palabra\", \"d\\u00eda\", \"empresa\", \"tiempo\", \"pa\\u00eds\", \"historia\", \"plan\", \"compromiso\", \"the\", \"and\", \"to\", \"most\", \"you\", \"we\", \"tesoro\", \"mnuchin\", \"steven\", \"puntajes\", \"arar\", \"paper\", \"important\", \"liquid\", \"together\", \"calcar\", \"mr\", \"welcome\", \"borges\", \"hippy\", \"instagram\", \"of\", \"palestina\", \"have\", \"with\", \"our\", \"very\", \"much\", \"thank\", \"that\", \"copiar\", \"envidiar\", \"unidos\", \"secretario\", \"estados\", \"universidad\", \"miedo\", \"doctorar\", \"error\", \"joven\", \"relacionar\", \"chile\", \"\\u00e9poca\", \"oportunidad\", \"coraje\", \"venezuela\", \"crecimiento\", \"temer\", \"relaci\\u00f3n\", \"crisis\", \"vida\", \"frente\"], \"Freq\": [3371.0, 1648.0, 1113.0, 1197.0, 3828.0, 1033.0, 292.0, 959.0, 2348.0, 508.0, 200.0, 827.0, 1252.0, 1033.0, 176.0, 956.0, 349.0, 384.0, 927.0, 1592.0, 267.0, 310.0, 491.0, 414.0, 742.0, 784.0, 214.0, 354.0, 1262.0, 223.0, 464.25651918367123, 247.78286467796985, 229.40759783136892, 228.68250996263376, 182.5124533083123, 179.338425340194, 194.82563099284212, 140.619056374449, 954.134190369807, 121.9703840014953, 117.31452556432306, 112.67964770130958, 106.54612974871, 106.6354133175239, 99.20098363844312, 87.72339022289962, 89.00447298422803, 70.44504547054181, 70.44115999982007, 70.9283244801882, 66.89700102623618, 65.25185981953658, 62.116894622447674, 63.67357483819476, 61.65375425432543, 59.79004927116127, 59.6611609976681, 58.336341287580275, 56.015176562230764, 54.08259277990847, 1166.2697047179513, 69.39011839546927, 230.436826606313, 101.88476487855975, 203.35847308370313, 190.70978040559234, 153.79819564451694, 961.3839464803125, 366.05670957640547, 74.95405924337607, 246.03125770253993, 690.5046051268287, 174.08830762379398, 156.79584356438008, 591.5483722730022, 385.93468101496643, 709.2875609163076, 679.8863442869991, 855.7698264807169, 1422.8466428607865, 280.8807462163639, 288.2067601333135, 545.2672772847797, 686.7394049658095, 783.1462270925241, 493.40422699348596, 1408.3570402836585, 733.3306021303893, 690.7669784324522, 690.4213021829364, 395.74418330147756, 678.7737545038432, 1119.3476957696803, 465.5666437822, 424.2475320016126, 684.6860183665021, 838.7150971006313, 443.0842166415202, 436.49538732656146, 519.6419059417555, 470.4901884102417, 476.4893552046098, 415.36496851363506, 427.88866806636105, 165.59950990960527, 141.3123939176047, 132.86991320701668, 109.12603398478535, 104.58995547557026, 112.32889922824637, 75.30292998575719, 70.33630367977155, 63.52277035776905, 61.81743785786261, 57.69896850618014, 60.691869283272986, 52.22921149049844, 51.81519674401012, 48.56829608862683, 51.093715642610476, 46.12948044181478, 45.22284840533719, 44.34263017288397, 40.80935202807786, 40.94569774606862, 39.93736775707641, 199.94063087632136, 36.108395806387556, 34.358410735112926, 33.373334321625556, 32.32174424664815, 31.019699083564625, 31.66333746088166, 32.565342352166766, 230.03878375368276, 391.3074470309212, 127.26750722741222, 46.85978165107462, 246.49142343234422, 135.1554624225872, 259.09276487463273, 152.31439301688908, 333.205563344368, 114.63081092239297, 193.55005956212105, 826.1717872209655, 154.01064489942047, 353.74954216952165, 371.3976227962222, 323.3278860955664, 241.33420340320237, 126.01884790705213, 968.2538254871811, 1997.0468864923585, 577.311811279531, 161.69692851445024, 1555.7428751471705, 318.87659723083016, 346.9017890619603, 762.1683706056757, 374.09208511361504, 401.3877510614224, 218.0138630312704, 487.25476365198745, 260.40223455888975, 689.0303987405397, 229.0128724737414, 376.8663129634145, 416.27758175523485, 391.89344457677214, 243.17935508129767, 247.4955511547575, 221.18875451492167, 226.4009792673436, 231.125579828811, 195.15207858107175, 176.99331680722776, 111.84816699171414, 95.12870283788916, 91.12437010173458, 86.6789803602461, 83.33274601835551, 80.69865461707032, 74.19690247179587, 70.86369049890946, 69.38576023194997, 64.39928477009879, 59.43864253279986, 57.958854377374, 56.90667783136549, 55.15600382096449, 51.94443495169554, 50.367567836467465, 43.03933829436782, 41.491800092298696, 35.630273454241845, 36.791776732480805, 36.25418670072481, 35.597949053217135, 133.66335616579215, 34.79925137639895, 34.79925137639895, 34.092130451232606, 36.02889057042419, 35.10777805170253, 128.27547961334903, 110.54916567551483, 1564.080040652407, 191.7365364245161, 73.08801745321415, 183.7687787979462, 202.38268322998906, 123.86061069192793, 344.30057496943846, 287.3936913411967, 251.25992153770153, 148.7757525127959, 226.9330615208217, 123.81164246853459, 273.27271001248164, 127.75691721777851, 691.0870390063455, 98.26172018280043, 228.5313715272415, 297.7831637093172, 119.3128198547536, 329.6402000280101, 418.7427701680129, 194.04674355860575, 175.55419068460563, 164.51552063711998, 199.9834575137512, 790.6587935045455, 192.29189072830042, 353.45389410074165, 356.61895859255264, 408.12424587659973, 300.2781307056615, 275.20854976230993, 492.5703415624361, 477.6649768729637, 292.0034956370882, 510.918322130854, 337.03656262760603, 289.7762703767759, 286.5137038982504, 420.68018769389255, 250.75999519259358, 290.7418464539325, 252.08608166434246, 241.30552663234317, 228.7583654817714, 214.21310287199944, 197.7974215644393, 143.58495571632915, 121.61599267101934, 73.39187222339253, 54.315256710216694, 61.90520703210231, 54.86988411489516, 49.08096164680928, 47.35007052441196, 46.830188163107664, 46.22591155280746, 45.77717149807252, 38.74456619760546, 33.19926639078426, 33.086972416051985, 52.75548143683493, 30.802995011257536, 30.31497200595034, 29.499379329196184, 40.02150137821216, 28.466212091252224, 42.773837523788764, 42.80183410379051, 26.64184235949824, 26.108195297891903, 25.09883996595472, 119.97741220948451, 23.060839635669915, 22.11057537590064, 107.54462897557934, 210.96317508942803, 144.98798660448338, 238.4007578499344, 76.40227371039344, 105.24452248694588, 41.27884351066541, 92.46808892488741, 80.85533087470452, 52.54227101489652, 57.228889391493226, 49.87432342100609, 71.70246036446747, 99.5023065640074, 166.5967657288102, 203.78183012390082, 97.02197137944897, 106.34913968618449, 161.15905961619598, 222.7703937152356, 241.5189866208411, 475.82362945821234, 260.5018529024482, 251.04946912251808, 205.4659548793986, 92.59084316027968, 128.52270451843418, 276.02930083422643, 261.9999263114793, 134.4525784291825, 260.48403171762004, 131.1028793586602, 183.49547634970125, 186.3800356594375, 107.98754922842748, 105.28741183457574, 105.7066540681957, 51.48037351499735, 50.256758484959065, 31.03204857411224, 26.575593899471414, 18.482523987392618, 17.689351368989087, 16.79087965492382, 15.901342138305562, 15.901342138305562, 15.900716983206983, 13.44380373317866, 11.475804292722541, 11.249716727518633, 11.470002584844671, 10.858715037729718, 10.898090856838591, 10.623115864522358, 10.623115864522358, 10.62248324933907, 10.62248324933907, 10.900150586226633, 9.389070890052993, 8.812600304281494, 8.525463135864848, 8.054266281467072, 7.818667854268184, 6.796081218889184, 6.2070832858707865, 6.2070832858707865, 6.19170767828215, 11.532276387958088, 15.559562833432386, 80.8599297732084, 22.689270230616728, 81.25561863421974, 33.19176100145203, 20.66468231760361, 15.588536310423605, 29.264775394884712, 42.00885600677045, 22.163659518354507, 80.35684553273225, 22.69321363139369, 43.24805366174804, 20.23894274336915, 19.962941989405486, 21.338117592400405, 22.617432598906902, 16.87277795687165, 16.564651094118922, 19.972540134391554, 16.051260000609364], \"Total\": [3371.0, 1648.0, 1113.0, 1197.0, 3828.0, 1033.0, 292.0, 959.0, 2348.0, 508.0, 200.0, 827.0, 1252.0, 1033.0, 176.0, 956.0, 349.0, 384.0, 927.0, 1592.0, 267.0, 310.0, 491.0, 414.0, 742.0, 784.0, 214.0, 354.0, 1262.0, 223.0, 465.3238113895221, 248.53349825246946, 230.12670672881805, 229.4060335478557, 183.23749236628265, 180.05707993295403, 195.66570489251788, 141.33934837575853, 959.0926234732041, 122.68896254512819, 118.0532426988543, 113.41190605542353, 107.26530257512718, 107.37168309043341, 99.92499728297744, 88.44416687109674, 89.76075953531299, 71.16023189423011, 71.1596421127754, 71.65568795097327, 67.61656587641318, 65.9737102720288, 62.83573780388107, 64.41559434272398, 62.38558696483949, 60.50779463719859, 60.382375243931676, 59.061139905555, 56.73382920820798, 54.80114682144366, 1197.5318720279397, 70.31349606878578, 236.4182986679373, 103.74041723919655, 210.07248419125358, 196.99544453702006, 158.20636757238947, 1033.4880438255072, 395.4356371708906, 76.19212642347141, 264.5233834545498, 784.6782011284179, 184.16963526775177, 166.2797564071827, 688.8419924044732, 435.5723194036777, 847.6348989648552, 827.907246314627, 1252.7835130460458, 2348.126830929966, 343.48192858101396, 355.3492213656766, 791.083894489773, 1070.4080722024698, 1317.2306000555861, 730.6574875441727, 3159.326658482446, 1321.2266102324586, 1245.8658872094759, 1262.760161963332, 606.3992047098466, 1418.6343531834304, 3828.9808976137097, 893.1317530409883, 810.7769870946712, 2200.619340543691, 3371.3186349326393, 927.8224372621523, 920.4994012666168, 1409.1763632013979, 1113.7719633752088, 1370.8480659874197, 1044.3714026939285, 1592.665121287708, 166.29943797691433, 142.01345067634642, 133.57482221715998, 109.82950269573841, 105.28898624466838, 113.33140444907, 76.00604862857021, 71.03634573446767, 64.23504685514254, 62.54935493747777, 58.409625534933255, 61.480090175997816, 52.92887946498513, 52.5173705508799, 49.28728217296133, 51.86473495290456, 46.837732586608574, 45.921986530539435, 45.07139495390774, 41.5090028410758, 41.65865696757524, 40.63898576920261, 203.75755403081746, 36.80437649347043, 35.061507040263784, 34.075711240939896, 33.01818008344904, 31.72140448845845, 32.38196727660379, 33.320074486734775, 236.70469373459147, 414.92814428275625, 133.790391176041, 48.302017399622464, 272.4046923729784, 146.19938828176043, 290.4773679599057, 166.22087845492686, 384.20398822253594, 123.58660633067366, 216.68324606357774, 1033.9673585319847, 179.14479476714723, 451.5139142061341, 502.9337402723992, 434.9302805563086, 310.9008242332415, 146.6143020728364, 1592.665121287708, 3828.9808976137097, 960.0047743424892, 202.87846018344385, 3371.3186349326393, 508.5883511344193, 639.9986158600458, 2200.619340543691, 754.8430613312289, 982.543003905349, 349.21720174189215, 1409.1763632013979, 484.69318150155925, 3159.326658482446, 394.26371477358464, 1113.7719633752088, 1418.6343531834304, 1370.8480659874197, 490.34820830801164, 1245.8658872094759, 577.2308818949924, 760.4983400892568, 1044.3714026939285, 195.89010821282454, 177.71860217153028, 112.57334869950829, 95.8694850032336, 91.8471875237163, 87.40301431741324, 84.06334826714033, 81.42204830769793, 74.93950298518445, 71.59456618459625, 70.10980513288048, 65.11982460868609, 60.16318958738139, 58.68795665290209, 57.647922487716585, 55.88233365220797, 52.66946988513595, 51.09091189863978, 43.76501426797116, 42.21634583243199, 36.35126853390683, 37.54344610582162, 36.99546402188747, 36.331125939913775, 136.42508733007426, 35.523398362417446, 35.523398362417446, 34.812647803275006, 36.80663793082833, 35.870141282758134, 131.2460097842474, 112.98875141251435, 1648.9250575011442, 200.7720850846271, 75.17250090645841, 195.29214256848525, 215.81539015785836, 130.86215837151377, 376.6975903613539, 317.8293873250073, 279.25733334830625, 161.02427312472216, 257.8575988077886, 136.63377479130472, 330.294861643932, 141.9106998572498, 956.0539063386799, 106.7964669227296, 291.9858658711121, 400.19711266246753, 137.33292306077084, 504.74914795700727, 704.240957583312, 265.1160233903591, 235.07542450973872, 219.61619018876303, 310.86982572041836, 3159.326658482446, 307.8072630935134, 901.3946984360779, 1044.3714026939285, 1370.8480659874197, 762.5183963927668, 649.6303420905349, 2348.126830929966, 2200.619340543691, 810.7769870946712, 3828.9808976137097, 1317.2306000555861, 920.4994012666168, 893.1317530409883, 3371.3186349326393, 639.9986158600458, 1321.2266102324586, 982.543003905349, 927.8224372621523, 1418.6343531834304, 214.96928761058436, 198.55150286666293, 144.3442165628436, 122.36971463927672, 74.2483884165785, 55.08085104365299, 62.77964813276977, 55.64581746106203, 49.84614419501944, 48.09938351581399, 47.58081431516433, 46.97467822309912, 46.5259353544126, 39.49592068433274, 33.94975607087834, 33.8359412782176, 53.99203897702332, 31.559243937802528, 31.063747174386958, 30.249634604519066, 41.04157769456798, 29.222260225739788, 43.920350741865676, 43.99157448167515, 27.392397551997114, 26.86169964721388, 25.848895135121317, 123.8895367793502, 23.82706871016647, 22.86032097517197, 111.87593880919995, 223.60528316856235, 155.30717032863055, 267.0979773568243, 83.91871163970042, 119.87821837697892, 44.1943072874126, 111.84520459186142, 96.12903147687214, 58.618744149814205, 66.33381569644402, 56.872557900481354, 94.53806507033609, 151.54480586878486, 348.9896055468548, 491.14837256310705, 159.98984772488186, 189.7834548592591, 410.7627581740496, 742.8226023747919, 927.8224372621523, 3371.3186349326393, 1262.760161963332, 1252.7835130460458, 901.3946984360779, 175.01775904075757, 357.7479327865159, 2200.619340543691, 2348.126830929966, 450.614935293987, 3159.326658482446, 425.0341759909566, 1409.1763632013979, 3828.9808976137097, 762.5183963927668, 956.0539063386799, 1245.8658872094759, 52.3530849684316, 51.127489132090176, 31.902657000440627, 27.44583863780724, 19.35569489905604, 18.56077703856798, 17.69728006568635, 16.771586346014818, 16.771586346014818, 16.77314245472146, 14.331028452602128, 12.357673808140428, 12.119989691169865, 12.371167877150835, 11.728961984831976, 11.774631045912217, 11.493360048002677, 11.493360048002677, 11.494937227423527, 11.494937227423527, 11.812342975325524, 10.260635453529616, 9.708701331291119, 9.395756477789392, 8.924554691215548, 8.688953597310462, 7.666372861605429, 7.077375994838789, 7.077376019067724, 7.063844242045692, 13.903954023902916, 21.57016516434514, 176.8475491186311, 37.27063538609917, 200.3699780003313, 81.26899167393427, 39.0398612419731, 29.463225426662106, 102.4466988744731, 292.6616741106821, 86.31468458388436, 3371.3186349326393, 106.91405243264185, 1113.7719633752088, 91.92320652497315, 146.6143020728364, 349.21720174189215, 508.5883511344193, 103.72626954282507, 138.0127786874521, 2348.126830929966, 312.4991019513449], \"Category\": [\"Default\", \"Default\", \"Default\", \"Default\", \"Default\", \"Default\", \"Default\", \"Default\", \"Default\", \"Default\", \"Default\", \"Default\", \"Default\", \"Default\", \"Default\", \"Default\", \"Default\", \"Default\", \"Default\", \"Default\", \"Default\", \"Default\", \"Default\", \"Default\", \"Default\", \"Default\", \"Default\", \"Default\", \"Default\", \"Default\", \"Topic1\", \"Topic1\", \"Topic1\", \"Topic1\", \"Topic1\", \"Topic1\", \"Topic1\", \"Topic1\", \"Topic1\", \"Topic1\", \"Topic1\", \"Topic1\", \"Topic1\", \"Topic1\", \"Topic1\", \"Topic1\", \"Topic1\", \"Topic1\", \"Topic1\", \"Topic1\", \"Topic1\", \"Topic1\", \"Topic1\", \"Topic1\", \"Topic1\", \"Topic1\", \"Topic1\", \"Topic1\", \"Topic1\", \"Topic1\", \"Topic1\", \"Topic1\", \"Topic1\", \"Topic1\", \"Topic1\", \"Topic1\", \"Topic1\", \"Topic1\", \"Topic1\", \"Topic1\", \"Topic1\", \"Topic1\", \"Topic1\", \"Topic1\", \"Topic1\", \"Topic1\", \"Topic1\", \"Topic1\", \"Topic1\", \"Topic1\", \"Topic1\", \"Topic1\", \"Topic1\", \"Topic1\", \"Topic1\", \"Topic1\", \"Topic1\", \"Topic1\", \"Topic1\", \"Topic1\", \"Topic1\", \"Topic1\", \"Topic1\", \"Topic1\", \"Topic1\", \"Topic1\", \"Topic1\", \"Topic1\", \"Topic1\", \"Topic1\", \"Topic1\", \"Topic1\", \"Topic1\", \"Topic1\", \"Topic2\", \"Topic2\", \"Topic2\", \"Topic2\", \"Topic2\", \"Topic2\", \"Topic2\", \"Topic2\", \"Topic2\", \"Topic2\", \"Topic2\", \"Topic2\", \"Topic2\", \"Topic2\", \"Topic2\", \"Topic2\", \"Topic2\", \"Topic2\", \"Topic2\", \"Topic2\", \"Topic2\", \"Topic2\", \"Topic2\", \"Topic2\", \"Topic2\", \"Topic2\", \"Topic2\", \"Topic2\", \"Topic2\", \"Topic2\", \"Topic2\", \"Topic2\", \"Topic2\", \"Topic2\", \"Topic2\", \"Topic2\", \"Topic2\", \"Topic2\", \"Topic2\", \"Topic2\", \"Topic2\", \"Topic2\", \"Topic2\", \"Topic2\", \"Topic2\", \"Topic2\", \"Topic2\", \"Topic2\", \"Topic2\", \"Topic2\", \"Topic2\", \"Topic2\", \"Topic2\", \"Topic2\", \"Topic2\", \"Topic2\", \"Topic2\", \"Topic2\", \"Topic2\", \"Topic2\", \"Topic2\", \"Topic2\", \"Topic2\", \"Topic2\", \"Topic2\", \"Topic2\", \"Topic2\", \"Topic2\", \"Topic2\", \"Topic2\", \"Topic2\", \"Topic3\", \"Topic3\", \"Topic3\", \"Topic3\", \"Topic3\", \"Topic3\", \"Topic3\", \"Topic3\", \"Topic3\", \"Topic3\", \"Topic3\", \"Topic3\", \"Topic3\", \"Topic3\", \"Topic3\", \"Topic3\", \"Topic3\", \"Topic3\", \"Topic3\", \"Topic3\", \"Topic3\", \"Topic3\", \"Topic3\", \"Topic3\", \"Topic3\", \"Topic3\", \"Topic3\", \"Topic3\", \"Topic3\", \"Topic3\", \"Topic3\", \"Topic3\", \"Topic3\", \"Topic3\", \"Topic3\", \"Topic3\", \"Topic3\", \"Topic3\", \"Topic3\", \"Topic3\", \"Topic3\", \"Topic3\", \"Topic3\", \"Topic3\", \"Topic3\", \"Topic3\", \"Topic3\", \"Topic3\", \"Topic3\", \"Topic3\", \"Topic3\", \"Topic3\", \"Topic3\", \"Topic3\", \"Topic3\", \"Topic3\", \"Topic3\", \"Topic3\", \"Topic3\", \"Topic3\", \"Topic3\", \"Topic3\", \"Topic3\", \"Topic3\", \"Topic3\", \"Topic3\", \"Topic3\", \"Topic3\", \"Topic3\", \"Topic3\", \"Topic3\", \"Topic3\", \"Topic3\", \"Topic3\", \"Topic3\", \"Topic3\", \"Topic3\", \"Topic4\", \"Topic4\", \"Topic4\", \"Topic4\", \"Topic4\", \"Topic4\", \"Topic4\", \"Topic4\", \"Topic4\", \"Topic4\", \"Topic4\", \"Topic4\", \"Topic4\", \"Topic4\", \"Topic4\", \"Topic4\", \"Topic4\", \"Topic4\", \"Topic4\", \"Topic4\", \"Topic4\", \"Topic4\", \"Topic4\", \"Topic4\", \"Topic4\", \"Topic4\", \"Topic4\", \"Topic4\", \"Topic4\", \"Topic4\", \"Topic4\", \"Topic4\", \"Topic4\", \"Topic4\", \"Topic4\", \"Topic4\", \"Topic4\", \"Topic4\", \"Topic4\", \"Topic4\", \"Topic4\", \"Topic4\", \"Topic4\", \"Topic4\", \"Topic4\", \"Topic4\", \"Topic4\", \"Topic4\", \"Topic4\", \"Topic4\", \"Topic4\", \"Topic4\", \"Topic4\", \"Topic4\", \"Topic4\", \"Topic4\", \"Topic4\", \"Topic4\", \"Topic4\", \"Topic4\", \"Topic4\", \"Topic4\", \"Topic4\", \"Topic4\", \"Topic4\", \"Topic4\", \"Topic4\", \"Topic5\", \"Topic5\", \"Topic5\", \"Topic5\", \"Topic5\", \"Topic5\", \"Topic5\", \"Topic5\", \"Topic5\", \"Topic5\", \"Topic5\", \"Topic5\", \"Topic5\", \"Topic5\", \"Topic5\", \"Topic5\", \"Topic5\", \"Topic5\", \"Topic5\", \"Topic5\", \"Topic5\", \"Topic5\", \"Topic5\", \"Topic5\", \"Topic5\", \"Topic5\", \"Topic5\", \"Topic5\", \"Topic5\", \"Topic5\", \"Topic5\", \"Topic5\", \"Topic5\", \"Topic5\", \"Topic5\", \"Topic5\", \"Topic5\", \"Topic5\", \"Topic5\", \"Topic5\", \"Topic5\", \"Topic5\", \"Topic5\", \"Topic5\", \"Topic5\", \"Topic5\", \"Topic5\", \"Topic5\", \"Topic5\", \"Topic5\", \"Topic5\", \"Topic5\"], \"logprob\": [30.0, 29.0, 28.0, 27.0, 26.0, 25.0, 24.0, 23.0, 22.0, 21.0, 20.0, 19.0, 18.0, 17.0, 16.0, 15.0, 14.0, 13.0, 12.0, 11.0, 10.0, 9.0, 8.0, 7.0, 6.0, 5.0, 4.0, 3.0, 2.0, 1.0, -5.1877, -5.8156, -5.8926, -5.8958, -6.1213, -6.1389, -6.056, -6.3821, -4.4673, -6.5244, -6.5633, -6.6036, -6.6596, -6.6587, -6.731, -6.8539, -6.8395, -7.0733, -7.0734, -7.0665, -7.125, -7.1499, -7.1991, -7.1744, -7.2066, -7.2373, -7.2395, -7.2619, -7.3025, -7.3376, -4.2666, -7.0884, -5.8882, -6.7043, -6.0132, -6.0774, -6.2925, -4.4598, -5.4254, -7.0113, -5.8227, -4.7907, -6.1686, -6.2732, -4.9454, -5.3725, -4.7639, -4.8062, -4.5761, -4.0677, -5.6902, -5.6645, -5.0269, -4.7962, -4.6648, -5.1268, -4.078, -4.7305, -4.7903, -4.7908, -5.3474, -4.8079, -4.3076, -5.1849, -5.2778, -4.7992, -4.5963, -5.2344, -5.2494, -5.075, -5.1744, -5.1617, -5.299, -5.2693, -5.7737, -5.9323, -5.9939, -6.1908, -6.2333, -6.1619, -6.5618, -6.63, -6.7319, -6.7591, -6.8281, -6.7775, -6.9277, -6.9356, -7.0003, -6.9497, -7.0519, -7.0717, -7.0914, -7.1744, -7.1711, -7.196, -5.5853, -7.2968, -7.3465, -7.3756, -7.4076, -7.4487, -7.4282, -7.4001, -5.4451, -4.9138, -6.037, -7.0362, -5.376, -5.9769, -5.3261, -5.8574, -5.0746, -6.1416, -5.6178, -4.1665, -5.8463, -5.0147, -4.966, -5.1046, -5.3971, -6.0469, -4.0078, -3.2839, -4.5249, -5.7976, -3.5336, -5.1185, -5.0343, -4.2471, -4.9588, -4.8884, -5.4988, -4.6945, -5.3211, -4.348, -5.4495, -4.9514, -4.852, -4.9123, -5.3895, -5.3719, -5.4843, -5.461, -5.4404, -5.5279, -5.6256, -6.0846, -6.2465, -6.2895, -6.3395, -6.3789, -6.411, -6.495, -6.541, -6.562, -6.6366, -6.7168, -6.742, -6.7603, -6.7916, -6.8515, -6.8824, -7.0396, -7.0762, -7.2285, -7.1964, -7.2112, -7.2294, -5.9064, -7.2521, -7.2521, -7.2727, -7.2174, -7.2433, -5.9475, -6.0963, -3.4467, -5.5456, -6.5101, -5.588, -5.4916, -5.9826, -4.9602, -5.1409, -5.2752, -5.7993, -5.3771, -5.983, -5.1912, -5.9516, -4.2635, -6.2141, -5.37, -5.1054, -6.02, -5.0037, -4.7645, -5.5336, -5.6338, -5.6987, -5.5035, -4.1289, -5.5427, -4.934, -4.925, -4.7901, -5.097, -5.1842, -4.6021, -4.6328, -5.125, -4.5655, -4.9815, -5.1326, -5.1439, -4.7598, -5.2772, -5.1293, -5.2719, -5.3157, -5.3691, -4.7382, -4.8179, -5.1383, -5.3043, -5.8094, -6.1104, -5.9796, -6.1002, -6.2117, -6.2476, -6.2587, -6.2717, -6.2814, -6.4482, -6.6027, -6.6061, -6.1395, -6.6776, -6.6936, -6.7208, -6.4158, -6.7565, -6.3493, -6.3486, -6.8227, -6.8429, -6.8824, -5.3179, -6.9671, -7.0091, -5.4273, -4.7535, -5.1285, -4.6312, -5.7692, -5.4489, -6.3848, -5.5783, -5.7125, -6.1436, -6.0581, -6.1957, -5.8327, -5.505, -4.9896, -4.7881, -5.5303, -5.4385, -5.0228, -4.6991, -4.6182, -3.9401, -4.5426, -4.5795, -4.7799, -5.577, -5.2491, -4.4847, -4.5368, -5.204, -4.5427, -5.2292, -4.893, -4.8774, -5.4232, -5.4485, -5.4445, -4.131, -4.155, -4.6372, -4.7922, -5.1554, -5.1992, -5.2513, -5.3058, -5.3058, -5.3058, -5.4737, -5.6319, -5.6518, -5.6324, -5.6872, -5.6836, -5.7091, -5.7091, -5.7092, -5.7092, -5.6834, -5.8326, -5.896, -5.9291, -5.986, -6.0157, -6.1558, -6.2465, -6.2465, -6.249, -5.627, -5.3275, -3.6795, -4.9503, -3.6746, -4.5699, -5.0438, -5.3256, -4.6958, -4.3343, -4.9737, -3.6857, -4.9501, -4.3052, -5.0646, -5.0783, -5.0117, -4.9535, -5.2465, -5.2649, -5.0778, -5.2964], \"loglift\": [30.0, 29.0, 28.0, 27.0, 26.0, 25.0, 24.0, 23.0, 22.0, 21.0, 20.0, 19.0, 18.0, 17.0, 16.0, 15.0, 14.0, 13.0, 12.0, 11.0, 10.0, 9.0, 8.0, 7.0, 6.0, 5.0, 4.0, 3.0, 2.0, 1.0, 0.9395, 0.9388, 0.9387, 0.9386, 0.9378, 0.9378, 0.9375, 0.9367, 0.9366, 0.9359, 0.9355, 0.9353, 0.9351, 0.9349, 0.9345, 0.9336, 0.9333, 0.9317, 0.9316, 0.9316, 0.9311, 0.9308, 0.9303, 0.9302, 0.93, 0.9299, 0.9298, 0.9294, 0.929, 0.9286, 0.9153, 0.9286, 0.9162, 0.9237, 0.9093, 0.9094, 0.9135, 0.8695, 0.8646, 0.9254, 0.8693, 0.8139, 0.8855, 0.8831, 0.7895, 0.8208, 0.7636, 0.7448, 0.5607, 0.4408, 0.7406, 0.7324, 0.5697, 0.4979, 0.4218, 0.5492, 0.1339, 0.3531, 0.352, 0.338, 0.515, 0.2046, -0.2881, 0.2903, 0.2941, -0.2257, -0.4494, 0.2027, 0.1956, -0.0558, 0.0801, -0.115, 0.0198, -0.3725, 1.3824, 1.3817, 1.3813, 1.3802, 1.3799, 1.3777, 1.3773, 1.3767, 1.3755, 1.3748, 1.3744, 1.3737, 1.3733, 1.3731, 1.3719, 1.3716, 1.3714, 1.3713, 1.3703, 1.3696, 1.3693, 1.3692, 1.3677, 1.3675, 1.3664, 1.3658, 1.3653, 1.3642, 1.3642, 1.3637, 1.358, 1.328, 1.3366, 1.3563, 1.2866, 1.3081, 1.2723, 1.2992, 1.2442, 1.3114, 1.2737, 1.1623, 1.2354, 1.1426, 1.0834, 1.0901, 1.1333, 1.2352, 0.8889, 0.7357, 0.8781, 1.1597, 0.6133, 0.9198, 0.7742, 0.3263, 0.6846, 0.4914, 0.9155, 0.3246, 0.7653, -0.1362, 0.8434, 0.303, 0.1605, 0.1344, 0.6853, -0.2296, 0.4274, 0.1749, -0.1216, 1.4644, 1.4641, 1.4617, 1.4605, 1.4603, 1.4599, 1.4595, 1.4593, 1.4582, 1.4579, 1.4578, 1.4571, 1.4561, 1.4557, 1.4553, 1.4551, 1.4543, 1.4539, 1.4515, 1.4509, 1.4482, 1.448, 1.448, 1.4478, 1.4478, 1.4476, 1.4476, 1.4473, 1.4469, 1.4467, 1.4453, 1.4464, 1.4154, 1.4222, 1.4401, 1.4074, 1.4039, 1.4132, 1.3783, 1.3675, 1.3626, 1.3891, 1.3405, 1.3697, 1.2787, 1.3631, 1.1437, 1.3849, 1.2232, 1.1726, 1.3275, 1.0421, 0.9483, 1.1561, 1.1762, 1.1793, 1.0271, 0.083, 0.9977, 0.532, 0.3937, 0.2566, 0.5363, 0.6093, -0.0935, -0.0594, 0.447, -0.5459, 0.1051, 0.3124, 0.3313, -0.613, 0.5312, -0.0457, 0.1078, 0.1214, -0.3566, 2.1612, 2.1609, 2.1595, 2.1586, 2.1531, 2.1507, 2.1507, 2.1507, 2.1493, 2.149, 2.1488, 2.1487, 2.1485, 2.1455, 2.1424, 2.1423, 2.1416, 2.1405, 2.1403, 2.1396, 2.1396, 2.1385, 2.1383, 2.1373, 2.1369, 2.1363, 2.1353, 2.1326, 2.132, 2.1314, 2.1252, 2.1065, 2.096, 2.0511, 2.0709, 2.0345, 2.0965, 1.9745, 1.9917, 2.0553, 2.0171, 2.0334, 1.8883, 1.744, 1.4253, 1.285, 1.6646, 1.5856, 1.2291, 0.9604, 0.8188, 0.2067, 0.5863, 0.5573, 0.6861, 1.528, 1.141, 0.0887, -0.0283, 0.9553, -0.3308, 0.9885, 0.1262, -0.8578, 0.2101, -0.0414, -0.3022, 4.1809, 4.1806, 4.1701, 4.1655, 4.1516, 4.1497, 4.1452, 4.1445, 4.1445, 4.1443, 4.1338, 4.1237, 4.1232, 4.1221, 4.1207, 4.1204, 4.119, 4.119, 4.1188, 4.1188, 4.1174, 4.109, 4.1009, 4.1005, 4.0951, 4.0922, 4.0772, 4.0665, 4.0665, 4.066, 4.0107, 3.8711, 3.4152, 3.7014, 3.2952, 3.3023, 3.5616, 3.5611, 2.9448, 2.2566, 2.8382, 0.4612, 2.6478, 0.9492, 2.6844, 2.2038, 1.4025, 1.0848, 2.3817, 2.0777, -0.5693, 1.2289]}, \"token.table\": {\"Topic\": [1, 4, 1, 2, 4, 1, 4, 2, 3, 3, 2, 3, 2, 3, 4, 5, 1, 3, 4, 1, 2, 1, 3, 1, 2, 4, 5, 5, 2, 5, 1, 3, 2, 3, 2, 3, 4, 1, 3, 4, 2, 1, 4, 1, 2, 3, 4, 3, 4, 2, 2, 4, 2, 3, 3, 2, 4, 5, 2, 4, 5, 2, 3, 1, 2, 3, 4, 5, 3, 1, 2, 3, 5, 1, 4, 1, 3, 1, 3, 2, 3, 3, 3, 1, 2, 3, 4, 5, 1, 2, 3, 4, 1, 2, 3, 4, 2, 1, 2, 3, 1, 2, 2, 2, 4, 2, 5, 2, 5, 1, 2, 3, 4, 1, 2, 3, 4, 1, 3, 4, 2, 3, 1, 2, 4, 1, 1, 3, 1, 2, 3, 4, 2, 2, 1, 5, 3, 1, 2, 3, 4, 5, 4, 4, 2, 1, 2, 3, 4, 1, 2, 3, 5, 1, 1, 2, 3, 4, 5, 4, 4, 1, 2, 1, 4, 3, 4, 1, 1, 1, 1, 2, 5, 2, 1, 2, 5, 1, 2, 3, 4, 5, 2, 1, 3, 4, 1, 3, 1, 2, 5, 1, 1, 2, 3, 4, 5, 3, 1, 2, 3, 4, 5, 2, 1, 1, 2, 3, 3, 3, 1, 3, 4, 2, 1, 2, 3, 4, 1, 2, 3, 4, 2, 3, 2, 5, 1, 2, 3, 5, 1, 2, 3, 4, 5, 4, 1, 2, 3, 4, 5, 1, 2, 4, 5, 3, 1, 1, 3, 4, 1, 1, 1, 2, 3, 4, 2, 1, 2, 3, 4, 5, 1, 2, 3, 4, 1, 2, 3, 4, 5, 1, 1, 2, 3, 4, 5, 1, 3, 4, 1, 2, 3, 4, 1, 2, 3, 4, 5, 4, 1, 2, 3, 4, 5, 3, 1, 4, 3, 4, 5, 1, 2, 3, 4, 1, 2, 3, 4, 3, 1, 2, 3, 4, 4, 3, 4, 5, 3, 1, 2, 3, 4, 1, 3, 4, 5, 1, 2, 3, 3, 3, 2, 1, 2, 3, 4, 5, 3, 4, 2, 3, 4, 1, 3, 4, 5, 4, 1, 2, 3, 5, 3, 1, 2, 4, 1, 1, 3, 4, 3, 5, 1, 2, 3, 4, 3, 2, 2, 1, 3, 4, 1, 2, 3, 4, 2, 3, 3, 1, 4, 1, 2, 3, 4, 2, 1, 3, 4, 1, 2, 5, 1, 2, 3, 4, 5, 5, 5, 5, 1, 2, 3, 4, 1, 2, 3, 4, 5, 1, 3, 1, 4, 1, 3, 3, 4, 1, 2, 3, 4, 5, 4, 1, 2, 3, 4, 5, 5, 2, 4, 5, 1, 2, 3, 4, 1, 2, 3, 4, 5, 4, 5, 2, 1, 3, 4, 1, 2, 3, 4, 2, 3, 2, 1, 2, 3, 4, 3, 4, 3, 4, 1, 2, 3, 4, 1, 2, 3, 4, 5, 2, 1, 4, 1, 2, 3, 4, 2, 1, 2, 3, 4, 2, 1, 3, 4, 1, 2, 3, 4, 1, 1, 1, 2, 3, 4, 5, 3, 1, 2, 3, 4, 2, 3, 1, 2, 3, 4, 5, 3, 4, 4, 1, 1, 2, 3, 1, 2, 3, 4, 5, 1, 2, 5, 1, 2, 4, 5, 1, 2, 3, 5, 1, 2, 3, 1, 3, 4, 1, 2, 3, 4, 1, 2, 3, 4, 2, 4, 5, 1, 2, 3, 4, 1, 1, 1, 2, 3, 4, 5, 1, 2, 3, 4, 1, 4, 1, 2, 4, 2, 4, 1, 2, 3, 4, 5, 1, 3, 4, 2, 1, 2, 3, 4, 5, 1, 1, 2, 3, 5, 4, 1, 5, 5, 5, 5, 1, 2, 3, 4, 5, 5, 2, 1, 2, 3, 4, 1, 2, 3, 4, 1, 3, 1, 2, 4, 5, 1, 2, 3, 4, 5, 3, 1, 3, 2, 5, 4, 5, 1, 2, 3, 4, 1, 2, 3, 4, 5, 1, 2, 4, 1, 5, 5, 5, 5, 1, 2, 3, 4, 5, 3], \"Freq\": [0.9916077814396757, 0.9746214021712466, 0.3576286498517182, 0.5808295093336416, 0.06087296167688821, 0.9946901651117261, 0.004170608658749376, 0.01466006025094997, 0.982224036813648, 0.982519958447014, 0.09865358999767333, 0.9019756799787275, 0.18990641760101748, 0.7446330584882002, 0.06246921631612417, 0.002498768652644967, 0.08180489607593401, 0.9030001989920408, 0.012585368627066771, 0.07820918840544532, 0.9144458952021298, 0.26780727581847813, 0.7317550916730248, 0.023425056157374096, 0.8667270778228415, 0.07027516847212228, 0.03904176026229016, 0.9779474965184138, 0.9972553041398191, 0.9071226146117622, 0.25043690974115695, 0.7513107292234708, 0.9423318359757967, 0.05543128446916452, 0.07490884511927005, 0.9176333527110582, 0.9969787080049457, 0.994977997002967, 0.06438852745072854, 0.9336336480355637, 0.9903939444414447, 0.9852409350934803, 0.9771435009046938, 0.31127600643133585, 0.34626615605938377, 0.2172115782104796, 0.1254192376278083, 0.0834140546634468, 0.9056383077745652, 0.9697244320090185, 0.045254697329980303, 0.9277212952645962, 0.026605473755472342, 0.9710997920747404, 0.9959565168600826, 0.996340831576373, 0.9679208814583237, 0.9569430247741804, 0.9924473599954614, 0.9803770090117818, 0.9342118625295571, 0.9233964764601026, 0.0752397128967491, 0.5217595258631611, 0.13323902055303902, 0.3213411672161529, 0.017914490158391798, 0.006717933809396925, 0.9953890112307838, 0.11532334253133626, 0.7376717255021682, 0.14316001141821055, 0.0019883334919195907, 0.10235633818195707, 0.9041476539406207, 0.9695655676144664, 0.03045755709783664, 0.9971550749024233, 0.0021490411097034984, 0.9956966274959703, 0.9874631809958736, 0.9766565356399419, 0.9907761190455882, 0.2488640472325938, 0.46154047377105595, 0.12487695337892966, 0.14119104467546442, 0.02372958734041419, 0.5464220528838921, 0.07285627371785229, 0.17422152410790764, 0.20669008087347226, 0.016182983410424862, 0.9305215460994295, 0.032365966820849724, 0.02427447511563729, 0.9877375314693875, 0.29519613971233744, 0.05151073578873002, 0.6537901080877272, 0.9255614962235441, 0.07333683986470704, 0.9684317303508696, 0.9691630465132929, 0.9623661900414109, 0.9716748593836115, 0.02534803981000726, 0.9492460473704257, 0.0448462699545083, 0.4496362912655153, 0.02692432881829433, 0.22347192919184294, 0.3002062663239818, 0.554634336724413, 0.19825568910409552, 0.1621362315750093, 0.085081388846292, 0.19521492874302637, 0.7842845382833866, 0.020548939867686987, 0.053491399554386136, 0.9475619349634116, 0.810470328014677, 0.13789252108583047, 0.05065439550091731, 0.9908814375823211, 0.9663331244047427, 0.028561570179450525, 0.030723202280890097, 0.025602668567408414, 0.9421782032806296, 0.9886958671457914, 0.9882521137407387, 0.9928636993783349, 0.14384397392005968, 0.8630638435203581, 0.9949068877657826, 0.20669426925221754, 0.10878645750116712, 0.14142239475151724, 0.32635937250350133, 0.21757291500233425, 0.975294280382389, 0.997615307554122, 0.9833271113081021, 0.2855113929814936, 0.4955662035321639, 0.21209417764339525, 0.006118101278174863, 0.10595125273166484, 0.6242533269054847, 0.2061754107210775, 0.06013449479364761, 0.990743084231887, 0.13042270557252775, 0.369530999122162, 0.0072457058651404305, 0.37677670498730237, 0.12317699970738732, 0.9875811962003844, 0.9877930984678582, 0.014723380511066907, 0.9815587007377937, 0.9832233445217052, 0.009639444554134366, 0.10549903541351387, 0.8791586284459488, 0.9978534151081416, 0.9943844781891055, 0.9941291954009938, 0.4429825339648517, 0.5248073332322447, 0.031036992825562857, 0.9882043214564125, 0.8213480471719192, 0.16426960943438385, 0.013286512527781047, 0.2331610489862744, 0.49546722909583313, 0.2225628194868983, 0.04106813931008242, 0.007948672124532081, 0.9821141515537819, 0.9441919052102854, 0.01804188353905004, 0.04209772825778343, 0.9975266692140139, 0.9786476330505891, 0.40728738372075385, 0.033940615310062816, 0.5430498449610051, 0.9975990523540808, 0.4456645836921213, 0.2180844447186588, 0.25036980518499147, 0.08229601687496559, 0.0034817545600946977, 0.9806660917521342, 0.0753022197771687, 0.7840289941505212, 0.011073855849583631, 0.1173828720055865, 0.013288627019500359, 0.9799227646668489, 0.9965977436215326, 0.8594133437387631, 0.043551351878653534, 0.09726468586232623, 0.9730922682494663, 0.9882777201296875, 0.015807489658277957, 0.4215330575540789, 0.5585313012591545, 0.9867635714956501, 0.2990932726475087, 0.20684955304594058, 0.1341726830568263, 0.36058908571522075, 0.08469907135365502, 0.46113938848101066, 0.14587062288685032, 0.30821050964802243, 0.7988646770945899, 0.20019974353338996, 0.23180165575481337, 0.7417652984154028, 0.6149539291372703, 0.08785056130532433, 0.00976117347836937, 0.2830740308727117, 0.3571261761780019, 0.14315833786445764, 0.423317665728235, 0.06619148955023312, 0.009236021797706946, 0.9874437492343492, 0.6889281956011881, 0.19340553014125098, 0.00632044216147879, 0.10365525144825216, 0.0075845305937745485, 0.03992614103090221, 0.5390029039171799, 0.014972302886588329, 0.40425217793788487, 0.9780844441064064, 0.9908494640171218, 0.683278468375356, 0.11654048642850699, 0.2003538499558579, 0.9813194316564657, 0.9936674361949664, 0.4786293229656513, 0.29323976193477314, 0.16142284971890156, 0.06696581101875829, 0.9824504226355363, 0.36480104834909066, 0.3872011127214033, 0.1216003494496969, 0.07360021150902707, 0.05120014713671448, 0.12322648731361062, 0.7985076377921968, 0.03450341644781097, 0.04436153543289982, 0.2893123102696019, 0.3828623986202517, 0.21481872139778826, 0.10914176974242468, 0.005197227130591652, 0.9820331963241502, 0.11266173497353485, 0.742647763192893, 0.08737032508151682, 0.055181257946221154, 0.002299219081092548, 0.9836955014992835, 0.022731625584725402, 0.9774599001431923, 0.5944289481029047, 0.10856109780167991, 0.25583978992423867, 0.04099509986916584, 0.323472106423175, 0.2971735611855185, 0.23142719809137724, 0.13675243523581382, 0.010519418095062601, 0.9657559930418166, 0.0038781094861021215, 0.11246517509696152, 0.8803308533451816, 0.007756218972204243, 0.9578792321060129, 0.9948165353676317, 0.02421512000115927, 0.9686048000463708, 0.23271049585827733, 0.7615979864452713, 0.9569430247741804, 0.19147079033198383, 0.2727803040346071, 0.3934331308191449, 0.14163592709489214, 0.5191913772802644, 0.04479298156927772, 0.02239649078463886, 0.4153531018242116, 0.9903368287249953, 0.029201142458724128, 0.010618597257717865, 0.9131993641637364, 0.04512903834530092, 0.979250986702452, 0.03575388991212707, 0.965355027627431, 0.9075915310401754, 0.9842108660368534, 0.09991072775323709, 0.0726623474568997, 0.8265342023222341, 0.0030275978107041543, 0.04472166246833091, 0.013416498740499272, 0.9436270780817821, 0.9312293101358126, 0.03303907844464418, 0.9030681441536077, 0.05873613945714522, 0.9909305343279535, 0.9852660954034402, 0.985411049459927, 0.023437550688828652, 0.5421886726015694, 0.3921883481930661, 0.03437507434361536, 0.007812516896276217, 0.3431328424744839, 0.659870850912469, 0.07318834611188971, 0.9075354917874323, 0.021956503833566912, 0.8200595473571783, 0.017084573903274548, 0.017084573903274548, 0.1435104207875062, 0.965288692443583, 0.9447811510677815, 0.01628933019082382, 0.010859553460549213, 0.02714888365137303, 0.9852660954034402, 0.020655653974488555, 0.891635729898756, 0.08606522489370232, 0.9915245866985596, 0.9298607814008286, 0.004837985335071949, 0.06386140642294973, 0.9855248741873657, 0.8891642332585802, 0.473655930031089, 0.16621412223568033, 0.31504637547939407, 0.04562740610391225, 0.9954560839189619, 0.9901485823556482, 0.9762289373336813, 0.9938192941094421, 0.9841704718651401, 0.9883941419044847, 0.33382762759114526, 0.40812463007332084, 0.2564773236370994, 0.001017767157290077, 0.8596398248699858, 0.13955191962175095, 0.9828036298406013, 0.11678518574554092, 0.8758888930915569, 0.11427411772163341, 0.05713705886081671, 0.29711270607624685, 0.5313746474055954, 0.978144542304279, 0.0448269489067986, 0.9563082433450368, 0.983024881689766, 0.40983752223990616, 0.05122969027998827, 0.5379117479398768, 0.1908154111605276, 0.18970601923517572, 0.3916153496492224, 0.22742534469714049, 0.9539944326018893, 0.9837556926683564, 0.9570743415378854, 0.8477718301776717, 0.880615772180618, 0.008920854421511326, 0.00637203887250809, 0.10450143750913267, 0.26873194765133784, 0.6077862741273249, 0.0966932708838926, 0.024487256912154618, 0.002511513529451756, 0.9843536795804118, 0.013124715727738824, 0.9987039095372037, 0.9856749468076954, 0.9736692836621187, 0.02588657615225187, 0.022768488482191967, 0.9790450047342545, 0.007161853105234239, 0.08594223726281086, 0.898812564706897, 0.007161853105234239, 0.8771386568367008, 0.9581736588375465, 0.42198943361412833, 0.3384893967500561, 0.1364731785305266, 0.06374733997149598, 0.03860754392639897, 0.9207092557700254, 0.8953161055335023, 0.10153069238008788, 0.004615031471822176, 0.8861903817222708, 0.006887490013385525, 0.0780582201517026, 0.02984579005800394, 0.4083308953795684, 0.11095948244010011, 0.1819735512017642, 0.2973714129394683, 0.9270034882001184, 0.9954910414349969, 0.8901351638488725, 0.9842765325682203, 0.055603078127202096, 0.9359851484745686, 0.004633589843933508, 0.34723031079096134, 0.2859543735925564, 0.29762598067796686, 0.06857069162678649, 0.9912172565484186, 0.9908858883024597, 0.9929870200128527, 0.031208053944887352, 0.11442953113125362, 0.010402684648295784, 0.8426174565119585, 0.10483044565550548, 0.8910587880717965, 0.018521249038688032, 0.9816261990504658, 0.8180925301102794, 0.05822722634236864, 0.002911361317118432, 0.11936581400185571, 0.29224486356079266, 0.5215486975253825, 0.13345587603178288, 0.048576894211177335, 0.003917491468643334, 0.9841891934229204, 0.9728519378402593, 0.02114895517044042, 0.6418113034092036, 0.0915538686085909, 0.17376550572650926, 0.09248809175765815, 0.9921911276541158, 0.13179173178898637, 0.035562848260520134, 0.7227625925888063, 0.10982644315748864, 0.9981994047571231, 0.9951039723079783, 0.9887606966607575, 0.997222368711894, 0.28854023167720005, 0.6010386775369835, 0.09166621078553648, 0.018749906751587008, 0.9853808383964299, 0.9910782399976843, 0.3456983311516068, 0.21180109021260418, 0.036517429347000724, 0.3919537416578077, 0.014606971738800288, 0.9711877992173933, 0.5229551488866953, 0.10483770673436109, 0.3601483572521581, 0.011100463065991174, 0.017700877078445927, 0.9823986778537489, 0.04825170781769695, 0.24769210013084436, 0.6433561042359593, 0.06111882990241614, 0.9539059268823042, 0.9757419053385109, 0.9720246569991404, 0.9831863230542556, 0.9965383508972253, 0.9299744952123203, 0.06804691428382832, 0.9872892230243447, 0.01698075960009515, 0.01698075960009515, 0.9484967148053147, 0.01334202540007476, 0.004245189900023787, 0.20853925478354518, 0.5329336511135043, 0.2548813114021108, 0.17353366779057267, 0.6362901152320998, 0.01928151864339696, 0.1638929084688742, 0.164039449318858, 0.7751668095263682, 0.016082298952829217, 0.04181397727735596, 0.04253953819654049, 0.20844373716304837, 0.7486958722591126, 0.15199578794670138, 0.01788185740549428, 0.822565440652737, 0.47746204684079246, 0.002155584861583713, 0.2597479758208374, 0.2608257682516293, 0.10922362726789402, 0.021844725453578802, 0.8665074429919591, 0.9586892661396849, 0.34880006378556694, 0.026830774137351302, 0.61710780515908, 0.6530351572434538, 0.12203182231317067, 0.21602930706791024, 0.008245393399538559, 0.986699642065324, 0.9837036545105501, 0.31523301450943697, 0.0596386784207043, 0.5949668156732166, 0.024139465075046978, 0.007099842669131464, 0.39736821491810137, 0.22118568107489497, 0.3418324162066559, 0.03925806460636664, 0.38752458910152254, 0.6062884700459304, 0.8364450317770561, 0.14157038619639878, 0.021235557929459813, 0.9730442439111737, 0.020703069019386677, 0.07797086968902575, 0.28589318885976106, 0.623766957512206, 0.012995144948170959, 0.9539944326018893, 0.9734121474569297, 0.006320858100369674, 0.025283432401478696, 0.9941712717704094, 0.22901085518910463, 0.5364218229654704, 0.22075821175886665, 0.0020631608575595014, 0.012378965145357008, 0.9935482339802253, 0.15729813673781154, 0.6272263202420235, 0.17106172370237005, 0.04522321431212082, 0.9822795521050918, 0.9963680527931323, 0.9605995914005836, 0.8477718272753801, 0.8493958522310788, 0.9741546277693569, 0.3690098795147632, 0.3455919448532494, 0.15540993002640988, 0.12986309221384934, 0.9717058989654637, 0.9378494034020506, 0.9772581164014688, 0.21490611413046976, 0.13753991304350063, 0.1719248913043758, 0.4785242807971793, 0.6747347538407251, 0.18065920386810488, 0.08074918960771355, 0.06295699528736988, 0.015238558515323693, 0.9752677449807163, 0.02827293917794671, 0.49194914169627274, 0.022618351342357366, 0.45802161468273667, 0.09843852907757772, 0.18457224202045822, 0.1599626097510638, 0.14765779361636658, 0.4060589324450081, 0.9916953727596695, 0.07452292606037936, 0.925326331916377, 0.8593977410021333, 0.13641233984160847, 0.9671593261265581, 0.9130784696185671, 0.5547874939265982, 0.1702962975900199, 0.22024987821642575, 0.054494815228806365, 0.6060149653144701, 0.06430657748593463, 0.20995458742096537, 0.11157830000870778, 0.008517427481580745, 0.9982300659595729, 0.12060213808006312, 0.8592902338204497, 0.9870654031562915, 0.9697869848119652, 0.9570743415378854, 0.8964032690476323, 0.92995886192016, 0.24318599293933374, 0.3928389116712314, 0.08417976678669245, 0.07482645936594885, 0.21512607067710293, 0.9873506315289611], \"Term\": [\"abuso\", \"academia\", \"acuerdo\", \"acuerdo\", \"acuerdo\", \"adulto\", \"adulto\", \"aeropuerto\", \"aeropuerto\", \"agricultor\", \"agricultura\", \"agricultura\", \"aguar\", \"aguar\", \"aguar\", \"aguar\", \"alcalde\", \"alcalde\", \"alcalde\", \"alianza\", \"alianza\", \"alto\", \"alto\", \"am\\u00e9rica\", \"am\\u00e9rica\", \"am\\u00e9rica\", \"am\\u00e9rica\", \"and\", \"apec\", \"arar\", \"araucan\\u00eda\", \"araucan\\u00eda\", \"argentina\", \"argentina\", \"arica\", \"arica\", \"armada\", \"arrendar\", \"arturo\", \"arturo\", \"asia\", \"autonom\\u00eda\", \"a\\u00e9rea\", \"a\\u00f1o\", \"a\\u00f1o\", \"a\\u00f1o\", \"a\\u00f1o\", \"bandera\", \"bandera\", \"barrera\", \"batalla\", \"batalla\", \"belleza\", \"belleza\", \"biob\\u00edo\", \"bolivia\", \"bono\", \"borges\", \"brasil\", \"buque\", \"calcar\", \"calentamiento\", \"calentamiento\", \"calidad\", \"calidad\", \"calidad\", \"calidad\", \"calidad\", \"callaqui\", \"cambiar\", \"cambiar\", \"cambiar\", \"cambiar\", \"capit\\u00e1n\", \"capit\\u00e1n\", \"carabinero\", \"carabinero\", \"carabineros\", \"carabineros\", \"carbonar\", \"cardones\", \"cau\", \"cesfam\", \"chile\", \"chile\", \"chile\", \"chile\", \"chile\", \"chileno\", \"chileno\", \"chileno\", \"chileno\", \"china\", \"china\", \"china\", \"china\", \"ciberseguridad\", \"ciudad\", \"ciudad\", \"ciudad\", \"ciudadano\", \"ciudadano\", \"clim\\u00e1tico\", \"colombia\", \"comandante\", \"comerciar\", \"comerciar\", \"comercio\", \"comercio\", \"compatriota\", \"compatriota\", \"compatriota\", \"compatriota\", \"compromiso\", \"compromiso\", \"compromiso\", \"compromiso\", \"comuna\", \"comuna\", \"comuna\", \"conectividad\", \"conectividad\", \"congreso\", \"congreso\", \"congreso\", \"constitucional\", \"constituci\\u00f3n\", \"constituci\\u00f3n\", \"construcci\\u00f3n\", \"construcci\\u00f3n\", \"construcci\\u00f3n\", \"contender\", \"continente\", \"cop\", \"copiar\", \"copiar\", \"coquimbo\", \"coraje\", \"coraje\", \"coraje\", \"coraje\", \"coraje\", \"corbeta\", \"coronavirus\", \"corredor\", \"coser\", \"coser\", \"coser\", \"coser\", \"crecimiento\", \"crecimiento\", \"crecimiento\", \"crecimiento\", \"crimen\", \"crisis\", \"crisis\", \"crisis\", \"crisis\", \"crisis\", \"cr\\u00e9dito\", \"cuarentena\", \"cumbre\", \"cumbre\", \"c\\u00e1mara\", \"c\\u00e1mara\", \"c\\u00e1ncer\", \"c\\u00e1ncer\", \"delincuencia\", \"delincuente\", \"delito\", \"democracia\", \"democracia\", \"democracia\", \"deportista\", \"derecho\", \"derecho\", \"derecho\", \"desarrollar\", \"desarrollar\", \"desarrollar\", \"desarrollar\", \"desarrollar\", \"descarbonizaci\\u00f3n\", \"director\", \"director\", \"director\", \"discriminaci\\u00f3n\", \"dise\\u00f1ar\", \"doctorar\", \"doctorar\", \"doctorar\", \"drogar\", \"d\\u00eda\", \"d\\u00eda\", \"d\\u00eda\", \"d\\u00eda\", \"d\\u00eda\", \"eclipsar\", \"econom\\u00eda\", \"econom\\u00eda\", \"econom\\u00eda\", \"econom\\u00eda\", \"econom\\u00eda\", \"ecuador\", \"edad\", \"educaci\\u00f3n\", \"educaci\\u00f3n\", \"educaci\\u00f3n\", \"el\\u00e9ctrica\", \"embalse\", \"emergencia\", \"emergencia\", \"emergencia\", \"emisi\\u00f3n\", \"empleo\", \"empleo\", \"empleo\", \"empleo\", \"empresa\", \"empresa\", \"empresa\", \"empresa\", \"energ\\u00eda\", \"energ\\u00eda\", \"envidiar\", \"envidiar\", \"error\", \"error\", \"error\", \"error\", \"esforzar\", \"esforzar\", \"esforzar\", \"esforzar\", \"esforzar\", \"esmeralda\", \"estado\", \"estado\", \"estado\", \"estado\", \"estado\", \"estados\", \"estados\", \"estados\", \"estados\", \"excedente\", \"expectativa\", \"familia\", \"familia\", \"familia\", \"farmacia\", \"fonasa\", \"formar\", \"formar\", \"formar\", \"formar\", \"foro\", \"frente\", \"frente\", \"frente\", \"frente\", \"frente\", \"frontero\", \"frontero\", \"frontero\", \"frontero\", \"futuro\", \"futuro\", \"futuro\", \"futuro\", \"futuro\", \"gastar\", \"generaci\\u00f3n\", \"generaci\\u00f3n\", \"generaci\\u00f3n\", \"generaci\\u00f3n\", \"generaci\\u00f3n\", \"geriatra\", \"gloria\", \"gloria\", \"gobierno\", \"gobierno\", \"gobierno\", \"gobierno\", \"gracia\", \"gracia\", \"gracia\", \"gracia\", \"gracia\", \"guardiamarina\", \"habitante\", \"habitante\", \"habitante\", \"habitante\", \"have\", \"hect\\u00e1rea\", \"hero\\u00edsmo\", \"hero\\u00edsmo\", \"higgins\", \"higgins\", \"hippy\", \"historia\", \"historia\", \"historia\", \"historia\", \"hombre\", \"hombre\", \"hombre\", \"hombre\", \"hospicio\", \"hospital\", \"hospital\", \"hospital\", \"hospital\", \"hu\\u00e1scar\", \"h\\u00e9roe\", \"h\\u00e9roe\", \"important\", \"incendiar\", \"infraestructura\", \"infraestructura\", \"infraestructura\", \"infraestructura\", \"ingreso\", \"ingreso\", \"ingreso\", \"instagram\", \"integraci\\u00f3n\", \"integraci\\u00f3n\", \"integraci\\u00f3n\", \"interconectado\", \"internar\", \"invernadero\", \"inversi\\u00f3n\", \"inversi\\u00f3n\", \"inversi\\u00f3n\", \"inversi\\u00f3n\", \"inversi\\u00f3n\", \"iquique\", \"iquique\", \"isla\", \"isla\", \"isla\", \"joven\", \"joven\", \"joven\", \"joven\", \"juramentar\", \"justicia\", \"justicia\", \"justicia\", \"justicia\", \"kompuche\", \"latina\", \"latina\", \"latina\", \"legislaci\\u00f3n\", \"ley\", \"ley\", \"ley\", \"leyenda\", \"liquid\", \"lugar\", \"lugar\", \"lugar\", \"lugar\", \"l\\u00ednea\", \"macri\", \"maduro\", \"mando\", \"mari\", \"marino\", \"materia\", \"materia\", \"materia\", \"materia\", \"matriz\", \"matriz\", \"maule\", \"mayar\", \"mayar\", \"ma\\u00f1ana\", \"ma\\u00f1ana\", \"ma\\u00f1ana\", \"ma\\u00f1ana\", \"mercosur\", \"metro\", \"metro\", \"micro\", \"miedo\", \"miedo\", \"miedo\", \"mill\\u00f3n\", \"mill\\u00f3n\", \"mill\\u00f3n\", \"mill\\u00f3n\", \"mnuchin\", \"most\", \"mr\", \"much\", \"mujer\", \"mujer\", \"mujer\", \"mujer\", \"mundo\", \"mundo\", \"mundo\", \"mundo\", \"mundo\", \"m\\u00e9rito\", \"m\\u00e9rito\", \"narcotr\\u00e1fico\", \"naval\", \"ni\\u00f1o\", \"ni\\u00f1o\", \"nombre\", \"nombre\", \"obrar\", \"obrar\", \"obrar\", \"obrar\", \"of\", \"oficial\", \"oportunidad\", \"oportunidad\", \"oportunidad\", \"oportunidad\", \"oportunidad\", \"our\", \"pac\\u00edfico\", \"pac\\u00edfico\", \"pac\\u00edfico\", \"padre\", \"padre\", \"padre\", \"padre\", \"palabra\", \"palabra\", \"palabra\", \"palabra\", \"palestina\", \"pandemia\", \"paper\", \"paraguay\", \"parque\", \"parque\", \"parque\", \"partir\", \"partir\", \"partir\", \"partir\", \"par\\u00eds\", \"pasajero\", \"pasos\", \"patria\", \"patria\", \"patria\", \"patria\", \"patrio\", \"patrio\", \"patriotismo\", \"patriotismo\", \"paz\", \"paz\", \"paz\", \"paz\", \"pa\\u00eds\", \"pa\\u00eds\", \"pa\\u00eds\", \"pa\\u00eds\", \"pa\\u00eds\", \"peak\", \"pensionar\", \"pensionar\", \"personar\", \"personar\", \"personar\", \"personar\", \"per\\u00fa\", \"plan\", \"plan\", \"plan\", \"plan\", \"planeta\", \"plebiscito\", \"polpaico\", \"prat\", \"presidente\", \"presidente\", \"presidente\", \"presidente\", \"probidad\", \"profesor\", \"protecci\\u00f3n\", \"protecci\\u00f3n\", \"protecci\\u00f3n\", \"protecci\\u00f3n\", \"protecci\\u00f3n\", \"provincia\", \"proyectar\", \"proyectar\", \"proyectar\", \"proyectar\", \"puente\", \"puente\", \"puerto\", \"puerto\", \"puerto\", \"puerto\", \"puntajes\", \"quintero\", \"rada\", \"recesi\\u00f3n\", \"reforma\", \"reformar\", \"reformar\", \"regar\", \"regi\\u00f3n\", \"regi\\u00f3n\", \"regi\\u00f3n\", \"regi\\u00f3n\", \"regi\\u00f3n\", \"relacionar\", \"relacionar\", \"relacionar\", \"relaci\\u00f3n\", \"relaci\\u00f3n\", \"relaci\\u00f3n\", \"relaci\\u00f3n\", \"revoluci\\u00f3n\", \"revoluci\\u00f3n\", \"revoluci\\u00f3n\", \"revoluci\\u00f3n\", \"ruta\", \"ruta\", \"ruta\", \"sacrificio\", \"sacrificio\", \"sacrificio\", \"salud\", \"salud\", \"salud\", \"salud\", \"san\", \"san\", \"san\", \"sanitaria\", \"secretario\", \"secretario\", \"secretario\", \"seguridad\", \"seguridad\", \"seguridad\", \"seguridad\", \"sename\", \"servel\", \"se\\u00f1or\", \"se\\u00f1or\", \"se\\u00f1or\", \"se\\u00f1or\", \"se\\u00f1or\", \"sistema\", \"sistema\", \"sistema\", \"sistema\", \"social\", \"social\", \"sociedad\", \"sociedad\", \"sociedad\", \"socio\", \"socio\", \"sol\", \"sol\", \"sol\", \"sol\", \"steven\", \"subsidiar\", \"subsidiar\", \"subsidiar\", \"sustentabilidad\", \"tecnolog\\u00eda\", \"tecnolog\\u00eda\", \"tecnolog\\u00eda\", \"tecnolog\\u00eda\", \"tecnolog\\u00eda\", \"tel\\u00e9fono\", \"temer\", \"temer\", \"temer\", \"temer\", \"teniente\", \"terrorismo\", \"tesoro\", \"thank\", \"that\", \"the\", \"tiempo\", \"tiempo\", \"tiempo\", \"tiempo\", \"to\", \"together\", \"tpp\", \"trabajador\", \"trabajador\", \"trabajador\", \"trabajador\", \"trabajar\", \"trabajar\", \"trabajar\", \"trabajar\", \"tren\", \"tren\", \"unidos\", \"unidos\", \"unidos\", \"unidos\", \"universidad\", \"universidad\", \"universidad\", \"universidad\", \"universidad\", \"valdivia\", \"valpara\\u00edso\", \"valpara\\u00edso\", \"venezuela\", \"venezuela\", \"ventilador\", \"very\", \"vez\", \"vez\", \"vez\", \"vez\", \"vida\", \"vida\", \"vida\", \"vida\", \"vida\", \"violencia\", \"virtud\", \"virtud\", \"votaci\\u00f3n\", \"we\", \"welcome\", \"with\", \"you\", \"\\u00e9poca\", \"\\u00e9poca\", \"\\u00e9poca\", \"\\u00e9poca\", \"\\u00e9poca\", \"\\u00f1uble\"]}, \"R\": 30, \"lambda.step\": 0.01, \"plot.opts\": {\"xlab\": \"PC1\", \"ylab\": \"PC2\"}, \"topic.order\": [1, 2, 4, 3, 5]};\n",
              "\n",
              "function LDAvis_load_lib(url, callback){\n",
              "  var s = document.createElement('script');\n",
              "  s.src = url;\n",
              "  s.async = true;\n",
              "  s.onreadystatechange = s.onload = callback;\n",
              "  s.onerror = function(){console.warn(\"failed to load library \" + url);};\n",
              "  document.getElementsByTagName(\"head\")[0].appendChild(s);\n",
              "}\n",
              "\n",
              "if(typeof(LDAvis) !== \"undefined\"){\n",
              "   // already loaded: just create the visualization\n",
              "   !function(LDAvis){\n",
              "       new LDAvis(\"#\" + \"ldavis_el19371406826635835685901689824\", ldavis_el19371406826635835685901689824_data);\n",
              "   }(LDAvis);\n",
              "}else if(typeof define === \"function\" && define.amd){\n",
              "   // require.js is available: use it to load d3/LDAvis\n",
              "   require.config({paths: {d3: \"https://d3js.org/d3.v5\"}});\n",
              "   require([\"d3\"], function(d3){\n",
              "      window.d3 = d3;\n",
              "      LDAvis_load_lib(\"https://cdn.jsdelivr.net/gh/bmabey/pyLDAvis@3.3.1/pyLDAvis/js/ldavis.v3.0.0.js\", function(){\n",
              "        new LDAvis(\"#\" + \"ldavis_el19371406826635835685901689824\", ldavis_el19371406826635835685901689824_data);\n",
              "      });\n",
              "    });\n",
              "}else{\n",
              "    // require.js not available: dynamically load d3 & LDAvis\n",
              "    LDAvis_load_lib(\"https://d3js.org/d3.v5.js\", function(){\n",
              "         LDAvis_load_lib(\"https://cdn.jsdelivr.net/gh/bmabey/pyLDAvis@3.3.1/pyLDAvis/js/ldavis.v3.0.0.js\", function(){\n",
              "                 new LDAvis(\"#\" + \"ldavis_el19371406826635835685901689824\", ldavis_el19371406826635835685901689824_data);\n",
              "            })\n",
              "         });\n",
              "}\n",
              "</script>"
            ],
            "text/plain": [
              "PreparedData(topic_coordinates=              x         y  topics  cluster       Freq\n",
              "topic                                                \n",
              "0     -0.105983  0.025742       1        1  38.993052\n",
              "1     -0.032436 -0.121410       2        1  24.992140\n",
              "3     -0.112177 -0.103712       3        1  23.033791\n",
              "2     -0.084464  0.189853       4        1  11.478073\n",
              "4      0.335059  0.009526       5        1   1.502944, topic_info=            Term         Freq        Total Category  logprob  loglift\n",
              "51         chile  3371.000000  3371.000000  Default  30.0000  30.0000\n",
              "244       región  1648.000000  1648.000000  Default  29.0000  29.0000\n",
              "194  oportunidad  1113.000000  1113.000000  Default  28.0000  28.0000\n",
              "188         niño  1197.000000  1197.000000  Default  27.0000  27.0000\n",
              "351         país  3828.000000  3828.000000  Default  26.0000  26.0000\n",
              "..           ...          ...          ...      ...      ...      ...\n",
              "277        temer    22.617433   508.588351   Topic5  -4.9535   1.0848\n",
              "246     relación    16.872778   103.726270   Topic5  -5.2465   2.3817\n",
              "973       crisis    16.564651   138.012779   Topic5  -5.2649   2.0777\n",
              "298         vida    19.972540  2348.126831   Topic5  -5.0778  -0.5693\n",
              "673       frente    16.051260   312.499102   Topic5  -5.2964   1.2289\n",
              "\n",
              "[371 rows x 6 columns], token_table=      Topic      Freq      Term\n",
              "term                           \n",
              "412       1  0.991608     abuso\n",
              "2249      4  0.974621  academia\n",
              "375       1  0.357629   acuerdo\n",
              "375       2  0.580830   acuerdo\n",
              "375       4  0.060873   acuerdo\n",
              "...     ...       ...       ...\n",
              "311       2  0.392839     época\n",
              "311       3  0.084180     época\n",
              "311       4  0.074826     época\n",
              "311       5  0.215126     época\n",
              "5343      3  0.987351     ñuble\n",
              "\n",
              "[653 rows x 3 columns], R=30, lambda_step=0.01, plot_opts={'xlab': 'PC1', 'ylab': 'PC2'}, topic_order=[1, 2, 4, 3, 5])"
            ]
          },
          "metadata": {},
          "execution_count": 37
        }
      ]
    },
    {
      "cell_type": "markdown",
      "source": [
        "## La interpretación que nosotros le damos a cada tópico es la siguiente:\n",
        "\n",
        "\n",
        "*   Topico 1: Sociedad\n",
        "*   Topico 2: Relaciones exteriores\n",
        "*   Topico 3: Desarrollo regional\n",
        "*   Topico 4: Fuerzas armadas\n",
        "*   Topico 5: Contingencia\n",
        "\n"
      ],
      "metadata": {
        "id": "0nbTaoaWdBab"
      }
    },
    {
      "cell_type": "code",
      "source": [
        "topico1='sociedad'\n",
        "topico2='relaciones_exteriores'\n",
        "topico3='desarrollo_regional'\n",
        "topico4='fuerzas_armadas'\n",
        "topico5='contingencia'"
      ],
      "metadata": {
        "id": "4DvxVzGIk0zX"
      },
      "execution_count": null,
      "outputs": []
    },
    {
      "cell_type": "markdown",
      "source": [
        "## Predicción del modelo:\n",
        "\n",
        "De acuerdo a los parametros definidos para entrenar el modelo, generamos las predicciones para los documentos de validación y sus respectivos tópicos. "
      ],
      "metadata": {
        "id": "dBV4h0fifb8U"
      }
    },
    {
      "cell_type": "code",
      "source": [
        "most_probable_topic_test = []\n",
        "\n",
        "for indexed_doc in best_model[corpus_test]:\n",
        "    most_prob_topic, max_prob = indexed_doc[0][0]\n",
        "    for topic, prob in indexed_doc[0]:\n",
        "        if prob > max_prob:\n",
        "            max_prob = prob\n",
        "            most_prob_topic = topic\n",
        "    most_probable_topic_test.append(most_prob_topic)"
      ],
      "metadata": {
        "id": "pXvGHV0vHwv7"
      },
      "execution_count": null,
      "outputs": []
    },
    {
      "cell_type": "code",
      "source": [
        "doc=0\n",
        "for i in most_probable_topic_test:\n",
        "  doc = doc + 1 \n",
        "  print(f\"El documento de validación {doc}, pertenece al tópico {most_probable_topic_test[i]+1}\")"
      ],
      "metadata": {
        "colab": {
          "base_uri": "https://localhost:8080/"
        },
        "id": "eGZ_6E2agDCC",
        "outputId": "8907dcc9-340f-4b7e-b0a4-476088efd8e7"
      },
      "execution_count": null,
      "outputs": [
        {
          "output_type": "stream",
          "name": "stdout",
          "text": [
            "El documento de validación 1, pertenece al tópico 1\n",
            "El documento de validación 2, pertenece al tópico 1\n",
            "El documento de validación 3, pertenece al tópico 1\n",
            "El documento de validación 4, pertenece al tópico 1\n",
            "El documento de validación 5, pertenece al tópico 4\n",
            "El documento de validación 6, pertenece al tópico 3\n",
            "El documento de validación 7, pertenece al tópico 3\n",
            "El documento de validación 8, pertenece al tópico 1\n",
            "El documento de validación 9, pertenece al tópico 1\n",
            "El documento de validación 10, pertenece al tópico 1\n",
            "El documento de validación 11, pertenece al tópico 1\n",
            "El documento de validación 12, pertenece al tópico 1\n",
            "El documento de validación 13, pertenece al tópico 1\n",
            "El documento de validación 14, pertenece al tópico 4\n",
            "El documento de validación 15, pertenece al tópico 4\n",
            "El documento de validación 16, pertenece al tópico 1\n",
            "El documento de validación 17, pertenece al tópico 3\n",
            "El documento de validación 18, pertenece al tópico 4\n",
            "El documento de validación 19, pertenece al tópico 1\n",
            "El documento de validación 20, pertenece al tópico 1\n",
            "El documento de validación 21, pertenece al tópico 1\n",
            "El documento de validación 22, pertenece al tópico 1\n",
            "El documento de validación 23, pertenece al tópico 4\n",
            "El documento de validación 24, pertenece al tópico 4\n",
            "El documento de validación 25, pertenece al tópico 4\n",
            "El documento de validación 26, pertenece al tópico 3\n",
            "El documento de validación 27, pertenece al tópico 3\n",
            "El documento de validación 28, pertenece al tópico 1\n",
            "El documento de validación 29, pertenece al tópico 1\n",
            "El documento de validación 30, pertenece al tópico 1\n",
            "El documento de validación 31, pertenece al tópico 3\n",
            "El documento de validación 32, pertenece al tópico 1\n",
            "El documento de validación 33, pertenece al tópico 1\n",
            "El documento de validación 34, pertenece al tópico 1\n",
            "El documento de validación 35, pertenece al tópico 1\n",
            "El documento de validación 36, pertenece al tópico 3\n",
            "El documento de validación 37, pertenece al tópico 1\n",
            "El documento de validación 38, pertenece al tópico 1\n",
            "El documento de validación 39, pertenece al tópico 1\n",
            "El documento de validación 40, pertenece al tópico 1\n",
            "El documento de validación 41, pertenece al tópico 1\n",
            "El documento de validación 42, pertenece al tópico 1\n",
            "El documento de validación 43, pertenece al tópico 4\n",
            "El documento de validación 44, pertenece al tópico 1\n",
            "El documento de validación 45, pertenece al tópico 4\n",
            "El documento de validación 46, pertenece al tópico 3\n",
            "El documento de validación 47, pertenece al tópico 3\n",
            "El documento de validación 48, pertenece al tópico 1\n",
            "El documento de validación 49, pertenece al tópico 1\n",
            "El documento de validación 50, pertenece al tópico 1\n",
            "El documento de validación 51, pertenece al tópico 1\n",
            "El documento de validación 52, pertenece al tópico 4\n",
            "El documento de validación 53, pertenece al tópico 1\n",
            "El documento de validación 54, pertenece al tópico 1\n",
            "El documento de validación 55, pertenece al tópico 1\n",
            "El documento de validación 56, pertenece al tópico 1\n",
            "El documento de validación 57, pertenece al tópico 1\n",
            "El documento de validación 58, pertenece al tópico 4\n",
            "El documento de validación 59, pertenece al tópico 4\n",
            "El documento de validación 60, pertenece al tópico 1\n",
            "El documento de validación 61, pertenece al tópico 1\n",
            "El documento de validación 62, pertenece al tópico 3\n",
            "El documento de validación 63, pertenece al tópico 1\n",
            "El documento de validación 64, pertenece al tópico 4\n",
            "El documento de validación 65, pertenece al tópico 4\n",
            "El documento de validación 66, pertenece al tópico 1\n",
            "El documento de validación 67, pertenece al tópico 4\n",
            "El documento de validación 68, pertenece al tópico 1\n",
            "El documento de validación 69, pertenece al tópico 1\n",
            "El documento de validación 70, pertenece al tópico 3\n",
            "El documento de validación 71, pertenece al tópico 1\n",
            "El documento de validación 72, pertenece al tópico 1\n",
            "El documento de validación 73, pertenece al tópico 1\n",
            "El documento de validación 74, pertenece al tópico 4\n",
            "El documento de validación 75, pertenece al tópico 1\n",
            "El documento de validación 76, pertenece al tópico 1\n",
            "El documento de validación 77, pertenece al tópico 4\n",
            "El documento de validación 78, pertenece al tópico 1\n",
            "El documento de validación 79, pertenece al tópico 1\n",
            "El documento de validación 80, pertenece al tópico 1\n",
            "El documento de validación 81, pertenece al tópico 3\n",
            "El documento de validación 82, pertenece al tópico 1\n",
            "El documento de validación 83, pertenece al tópico 1\n",
            "El documento de validación 84, pertenece al tópico 4\n",
            "El documento de validación 85, pertenece al tópico 1\n",
            "El documento de validación 86, pertenece al tópico 1\n",
            "El documento de validación 87, pertenece al tópico 1\n",
            "El documento de validación 88, pertenece al tópico 1\n",
            "El documento de validación 89, pertenece al tópico 4\n",
            "El documento de validación 90, pertenece al tópico 4\n",
            "El documento de validación 91, pertenece al tópico 3\n",
            "El documento de validación 92, pertenece al tópico 1\n",
            "El documento de validación 93, pertenece al tópico 3\n",
            "El documento de validación 94, pertenece al tópico 4\n",
            "El documento de validación 95, pertenece al tópico 4\n",
            "El documento de validación 96, pertenece al tópico 1\n",
            "El documento de validación 97, pertenece al tópico 3\n",
            "El documento de validación 98, pertenece al tópico 1\n",
            "El documento de validación 99, pertenece al tópico 3\n",
            "El documento de validación 100, pertenece al tópico 4\n",
            "El documento de validación 101, pertenece al tópico 1\n",
            "El documento de validación 102, pertenece al tópico 1\n",
            "El documento de validación 103, pertenece al tópico 1\n",
            "El documento de validación 104, pertenece al tópico 1\n",
            "El documento de validación 105, pertenece al tópico 1\n",
            "El documento de validación 106, pertenece al tópico 4\n",
            "El documento de validación 107, pertenece al tópico 1\n",
            "El documento de validación 108, pertenece al tópico 1\n",
            "El documento de validación 109, pertenece al tópico 1\n",
            "El documento de validación 110, pertenece al tópico 1\n",
            "El documento de validación 111, pertenece al tópico 1\n",
            "El documento de validación 112, pertenece al tópico 1\n",
            "El documento de validación 113, pertenece al tópico 4\n",
            "El documento de validación 114, pertenece al tópico 3\n",
            "El documento de validación 115, pertenece al tópico 1\n",
            "El documento de validación 116, pertenece al tópico 3\n",
            "El documento de validación 117, pertenece al tópico 1\n",
            "El documento de validación 118, pertenece al tópico 3\n",
            "El documento de validación 119, pertenece al tópico 4\n",
            "El documento de validación 120, pertenece al tópico 3\n",
            "El documento de validación 121, pertenece al tópico 4\n",
            "El documento de validación 122, pertenece al tópico 4\n",
            "El documento de validación 123, pertenece al tópico 1\n",
            "El documento de validación 124, pertenece al tópico 1\n",
            "El documento de validación 125, pertenece al tópico 1\n",
            "El documento de validación 126, pertenece al tópico 3\n",
            "El documento de validación 127, pertenece al tópico 3\n",
            "El documento de validación 128, pertenece al tópico 1\n",
            "El documento de validación 129, pertenece al tópico 1\n",
            "El documento de validación 130, pertenece al tópico 4\n",
            "El documento de validación 131, pertenece al tópico 1\n",
            "El documento de validación 132, pertenece al tópico 1\n",
            "El documento de validación 133, pertenece al tópico 1\n",
            "El documento de validación 134, pertenece al tópico 4\n",
            "El documento de validación 135, pertenece al tópico 4\n",
            "El documento de validación 136, pertenece al tópico 1\n",
            "El documento de validación 137, pertenece al tópico 1\n",
            "El documento de validación 138, pertenece al tópico 1\n",
            "El documento de validación 139, pertenece al tópico 4\n",
            "El documento de validación 140, pertenece al tópico 1\n",
            "El documento de validación 141, pertenece al tópico 1\n",
            "El documento de validación 142, pertenece al tópico 1\n",
            "El documento de validación 143, pertenece al tópico 4\n",
            "El documento de validación 144, pertenece al tópico 1\n",
            "El documento de validación 145, pertenece al tópico 1\n",
            "El documento de validación 146, pertenece al tópico 1\n",
            "El documento de validación 147, pertenece al tópico 1\n",
            "El documento de validación 148, pertenece al tópico 4\n",
            "El documento de validación 149, pertenece al tópico 4\n",
            "El documento de validación 150, pertenece al tópico 3\n",
            "El documento de validación 151, pertenece al tópico 1\n",
            "El documento de validación 152, pertenece al tópico 1\n",
            "El documento de validación 153, pertenece al tópico 1\n",
            "El documento de validación 154, pertenece al tópico 1\n",
            "El documento de validación 155, pertenece al tópico 1\n",
            "El documento de validación 156, pertenece al tópico 1\n",
            "El documento de validación 157, pertenece al tópico 1\n",
            "El documento de validación 158, pertenece al tópico 1\n",
            "El documento de validación 159, pertenece al tópico 3\n",
            "El documento de validación 160, pertenece al tópico 1\n",
            "El documento de validación 161, pertenece al tópico 3\n",
            "El documento de validación 162, pertenece al tópico 1\n",
            "El documento de validación 163, pertenece al tópico 1\n",
            "El documento de validación 164, pertenece al tópico 4\n",
            "El documento de validación 165, pertenece al tópico 1\n",
            "El documento de validación 166, pertenece al tópico 1\n",
            "El documento de validación 167, pertenece al tópico 1\n",
            "El documento de validación 168, pertenece al tópico 1\n",
            "El documento de validación 169, pertenece al tópico 1\n",
            "El documento de validación 170, pertenece al tópico 1\n"
          ]
        }
      ]
    },
    {
      "cell_type": "code",
      "source": [
        "print('Tópico que le asigna el modelo:')\n",
        "print(most_probable_topic_test[0] + 1)\n",
        "print('Al siguiente documento:')\n",
        "print(processed_corpus_test[0])"
      ],
      "metadata": {
        "colab": {
          "base_uri": "https://localhost:8080/"
        },
        "id": "XRaSUpjjH_97",
        "outputId": "1fc102b3-e4d4-489f-ce1c-c20c555157a5"
      },
      "execution_count": null,
      "outputs": [
        {
          "output_type": "stream",
          "name": "stdout",
          "text": [
            "Tópico que le asigna el modelo:\n",
            "1\n",
            "Al siguiente documento:\n",
            "['tarde', 'bienvenidos', 'casa', 'moneda', 'casar', 'chileno', 'día', 'momento', 'octubre', 'año', 'lugar', 'zanjón', 'aguada', 'grupo', 'personar', 'liderazgo', 'ministro', 'familia', 'desarrollo', 'social', 'desarrollo', 'social', 'familia', 'aventurar', 'palabra', 'proyectar', 'nombrar', 'significar', 'compromiso', 'país', 'partir', 'día', 'personar', 'día', 'personar', 'ideo', 'capacidad', 'organización', 'sociedad', 'ministerios', 'ministros', 'compromiso', 'voluntad', 'importancia', 'trascendencia', 'labor', 'reunión', 'decena', 'salir', 'terreno', 'grupo', 'suponer', 'compromiso', 'entregar', 'liderazgo', 'ministro', 'miembro', 'ministerio', 'desarrollo', 'social', 'familia', 'documentar', 'día', 'verdad', 'trabajar', 'grupo', 'dudar', 'futuro', 'documentar', 'carne', 'iniciativo', 'fruto', 'trabajar', 'grupo', 'compromiso', 'país', 'contribución', 'chile', 'vez', 'pilar', 'clave', 'país', 'empleo', 'educación', 'familia', 'miembro', 'dudar', 'país', 'conjuntar', 'aforar', 'grupo', 'coser', 'tren', 'coser', 'estación', 'posibilidad', 'subirse', 'tren', 'proyectar', 'compromiso', 'país', 'través', 'mapa', 'vulnerabilidad', 'país', 'grupo', 'político', 'prepararlos', 'partir', 'proyecto', 'país', 'beneficiarse', 'proyecto', 'país', 'problema', 'grupo', 'propuesta', 'ideo', 'solucionar', 'ejemplo', 'solución', 'decena', 'chileno', 'chileno', 'condición', 'callar', 'través', 'programar', 'vivienda', 'primero', 'casar', 'acoger', 'personar', 'condición', 'callar', 'ejemplo', 'rehabilitación', 'preso', 'chile', 'personar', 'libertar', 'estudio', 'mayoría', 'libertar', 'caminar', 'delincuencia', 'mecanismo', 'libertar', 'esperanzar', 'oportunidad', 'través', 'trabajar', 'capacitación', 'educación', 'proyecto', 'r', 'día', 'oportunidad', 'capacitación', 'trabajar', 'verdad', 'pesar', 'error', 'error', 'obligación', 'oportunidad', 'obligación', 'oportunidad', 'programa', 'r', 'puesto', 'trabajar', 'año', 'ministro', 'meter', 'contar', 'ministros', 'demandar', 'personar', 'libertar', 'luz', 'final', 'túnel', 'ojo', 'corazón', 'programar', 'ministro', 'esfuerzo', 'cupo', 'esperanzar', 'soñar', 'ojo', 'chileno', 'chileno', 'libertar', 'niño', 'fila', 'proyectar', 'niño', 'protección', 'estado', 'estado', 'familia', 'entornar', 'sociedad', 'niño', 'fila', 'desafío', 'grupo', 'trabajar', 'través', 'subvención', 'proyectar', 'ley', 'subvención', 'hacer', 'cifrar', 'peso', 'sociedad', 'niño', 'niñez', 'obligación', 'inversión', 'niño', 'familia', 'sociedad', 'situación', 'familia', 'campamento', 'campamento', 'largar', 'país', 'conjuntar', 'programar', 'barrio', 'arriendo', 'formar', 'situación', 'vida', 'dignidad', 'campamento', 'ejemplo', 'fecundar', 'programar', 'compromiso', 'país', 'grupo', 'personar', 'listo', 'esperar', 'auge', 'procesar', 'marchar', 'tiempo', 'esperar', 'esforzar', 'listo', 'esperar', 'operación', 'ges', 'través', 'contribución', 'desafío', 'levantemos', 'chile', 'sociedad', 'chilena', 'cirugía', 'vascular', 'fundación', 'manos', 'fundación', 'gantz', 'clínica', 'condes', 'listo', 'esperar', 'ejemplo', 'personar', 'dolor', 'cadera', 'movilizarse', 'año', 'operación', 'vida', 'tiempo', 'sociedad', 'capacidad', 'sector', 'vez', 'sector', 'sociedad', 'verdad', 'compromiso', 'sector', 'compromiso', 'alma', 'sociedad', 'grupo', 'genuino', 'satisfacción', 'sociedad', 'cargar', 'hijo', 'lugar', 'prioridad', 'gobierno', 'necesidad', 'chileno', 'vez', 'corazón', 'prioridad', 'gobernar', 'bien', 'concepción', 'gobierno', 'hora', 'día', 'ministros', 'subsecretarios', 'día', 'subsecretarios', 'quejar', 'tiraje', 'chimenea', 'ministro', 'atención', 'concepción', 'sociedad', 'chile', 'bolsillo', 'alma', 'paíse', 'desarrollar', 'proyectar', 'desarrollar', 'libertar', 'iniciativo', 'emprendimiento', 'personar', 'estado', 'ser', 'obligación', 'derecho', 'obligación', 'oportunidad', 'derecho', 'quitarles', 'libertar', 'dignidad', 'sociedad', 'oportunidad', 'oportunidad', 'talento', 'sueño', 'proyecto', 'oportunidad', 'seguridad', 'vida', 'lenguaje', 'compromiso', 'país', 'frase', 'día', 'día', 'congreso', 'proyectar', 'ley', 'ministerio', 'desarrollo', 'social', 'familia', 'cambiar', 'nombrar', 'cambiar', 'filosofía', 'formar', 'problema', 'sociedad', 'familia', 'familia', 'naturaleza', 'centrar', 'corazón', 'político', 'fondo', 'político', 'familia', 'integridad', 'familia', 'familia', 'familia', 'tendencia', 'década', 'razón', 'poder', 'familia', 'lugar', 'valorar', 'familia', 'corazón', 'político', 'prioridad', 'gobierno', 'miembro', 'nacimiento', 'gobierno', 'mesar', 'gente', 'cobertura', 'mujer', 'mujer', 'subvención', 'educación', 'derecho', 'salar', 'cunar', 'miembro', 'familia', 'joven', 'adulto', 'adulto', 'problema', 'capacidad', 'largar', 'ciclar', 'vida', 'filosofía', 'ministerio', 'desarrollo', 'social', 'familia', 'ministro', 'moreno', 'responsabilidad', 'oportunidad', 'familia', 'vez', 'estudiar', 'opinión', 'chileno', 'familia', 'embargar', 'apoyar', 'familia', 'plenitud', 'labor', 'vez', 'estado', 'reemplazarlas', 'sociedad', 'personar', 'grupo', 'referenciar', 'grupo', 'referenciar', 'familia', 'estado', 'vez', 'familia', 'ejemplo', 'estado', 'decisión', 'control', 'educación', 'hijo', 'estado', 'vida', 'estado', 'cargar', 'adulto', 'suponer', 'estado', 'sector', 'familia', 'estado', 'familia', 'seno', 'miembro', 'familia', 'edad', 'asignación', 'asilar', 'anciano', 'filosofía', 'familia', 'rol', 'aspecto', 'vida', 'ver', 'calidad', 'vida', 'político', 'razón', 'congreso', 'aprobación', 'filosofía', 'ministerio', 'suponer', 'suerte', 'subsecretarias', 'subsecretario', 'ministro', 'partir', 'ministerio', 'sedar', 'moneda', 'formar', 'importancia', 'justicia', 'integración', 'país', 'referenciar', 'ideo', 'partir', 'grupo', 'compromiso', 'país', 'drama', 'chile', 'drogar', 'estudiar', 'senda', 'año', 'chile', 'lugar', 'país', 'américa', 'materia', 'consumir', 'drogar', 'marihuana', 'cocaína', 'pastar', 'basar', 'tranquilizante', 'recetar', 'edad', 'consumir', 'drogar', 'niño', 'adolescente', 'día', 'hoy', 'día', 'promediar', 'año', 'factor', 'partir', 'político', 'compromiso', 'consumir', 'drogar', 'partir', 'año', 'creencia', 'drogar', 'dañar', 'sociedad', 'país', 'sociedad', 'pediatría', 'sociedad', 'neurología', 'infantil', 'sociedad', 'psiquiatría', 'infantil', 'formar', 'literatura', 'drogar', 'edad', 'dañar', 'vez', 'drogar', 'capacidad', 'desarrollar', 'drogar', 'drogar', 'personar', 'matar', 'familia', 'proyecto', 'sueño', 'drogar', 'dolor', 'sufrimiento', 'muerte', 'entornar', 'familia', 'ser', 'formar', 'sociedad', 'razón', 'frente', 'realidad', 'actitud', 'voluntad', 'decisión', 'atractivo', 'placer', 'drogar', 'dolor', 'sufrimiento', 'muerte', 'enemigo', 'poder', 'familia', 'escuela', 'sociedad', 'comunidad', 'sociedad', 'gobierno', 'batallar', 'programar', 'elige', 'vivir', 'drogas', 'palabra', 'elige', 'decisión', 'término', 'personar', 'familia', 'niño', 'adolescente', 'drogas', 'vida', 'gobierno', 'herramienta', 'instrumento', 'plan', 'pilar', 'pilar', 'exceso', 'consumir', 'alcohol', 'drogar', 'familia', 'instrumento', 'familia', 'rol', 'padre', 'madre', 'tiempo', 'hijo', 'franqueza', 'sensibilidad', 'cariño', 'amigo', 'tiempo', 'experiencia', 'instrumentar', 'luchar', 'adicción', 'consumir', 'drogar', 'pilar', 'escuela', 'profesor', 'padre', 'niño', 'temer', 'verdad', 'tal', 'vez', 'argumentar', 'placer', 'verdad', 'dañar', 'lugar', 'alternativo', 'deportar', 'músico', 'cultura', 'recreación', 'niño', 'joven', 'caminar', 'caminar', 'pilar', 'programar', 'elige', 'vivir', 'drogas', 'liderazgo', 'liderazgo', 'hermanar', 'compañero', 'profesor', 'liderazgo', 'ayudar', 'niño', 'período', 'vulnerabilidad', 'niño', 'mediar', 'drogar', 'razón', 'programar', 'año', 'experiencia', 'planet', 'youth', 'país', 'norte', 'europa', 'islandia', 'país', 'mundo', 'chile', 'grupo', 'país', 'programar', 'dudar', 'rumbo', 'chile', 'materia', 'consumir', 'drogar', 'razón', 'programar', 'compromiso', 'sector', 'padre', 'madre', 'profesor', 'familia', 'gobierno', 'organización', 'sociedad', 'respaldar', 'comunidad', 'ilusionar', 'respectar', 'dañar', 'dolor', 'sufrimiento', 'muerte', 'drogar', 'niño', 'joven', 'niño', 'garrar', 'drogar', 'aliar', 'cruzar', 'dudar', 'familia', 'familia', 'mensaje', 'escuela', 'comunidad', 'suponer', 'compromiso', 'gobierno', 'año', 'presidente', 'islandia', 'oportunidad', 'programar', 'detallar', 'diagnóstico', 'realidad', 'comunidad', 'político', 'volear', 'partir', 'diagnóstico', 'político', 'realidad', 'comunidad', 'año', 'comuna', 'comuna', 'programar', 'pilotar', 'comuna', 'comuna', 'niño', 'adolescente', 'riesgo', 'garrar', 'drogar', 'comuna', 'chile', 'coser', 'atención', 'medio', 'comunicación', 'debatir', 'compatriota', 'batallar', 'palabra', 'integrante', 'grupo', 'trabajar', 'trabajar', 'día', 'jornada', 'compromiso', 'ideo', 'vez', 'ideo', 'propuesta', 'documento', 'sociedad', 'empresa', 'ong', 'sociedad', 'grupo', 'país', 'país', 'patrio', 'presidentes', 'gracia']\n"
          ]
        }
      ]
    },
    {
      "cell_type": "code",
      "source": [
        "query1 = input(\"Interpretación:\")"
      ],
      "metadata": {
        "colab": {
          "base_uri": "https://localhost:8080/"
        },
        "id": "ayRAZKQ7kh8a",
        "outputId": "6b13e72c-9bad-4b71-ea06-46221c0d7236"
      },
      "execution_count": null,
      "outputs": [
        {
          "name": "stdout",
          "output_type": "stream",
          "text": [
            "Interpretación:sociedad\n"
          ]
        }
      ]
    },
    {
      "cell_type": "code",
      "source": [
        "print('Tópico que le asigna el modelo:')\n",
        "print(most_probable_topic_test[1] + 1)\n",
        "print('Al siguiente documento:')\n",
        "print(processed_corpus_test[1])"
      ],
      "metadata": {
        "colab": {
          "base_uri": "https://localhost:8080/"
        },
        "id": "j27gqq8cmcUl",
        "outputId": "1826b835-7d8b-40c6-d455-b75b480a76ba"
      },
      "execution_count": null,
      "outputs": [
        {
          "output_type": "stream",
          "name": "stdout",
          "text": [
            "Tópico que le asigna el modelo:\n",
            "1\n",
            "Al siguiente documento:\n",
            "['queridas', 'chileno', 'noche', 'noche', 'compatriota', 'formar', 'padre', 'madre', 'profesor', 'niño', 'joven', 'presidente', 'chileno', 'padre', 'abuelo', 'condición', 'preocupación', 'incrementar', 'consumir', 'drogar', 'niño', 'niño', 'adolescente', 'iniciar', 'consumir', 'vez', 'edad', 'niño', 'adolescente', 'lugar', 'país', 'américa', 'consumir', 'marihuana', 'cocaína', 'pastar', 'basar', 'tranquilizante', 'recetar', 'consumir', 'adulto', 'dudar', 'epidemia', 'año', 'creencia', 'consumir', 'marihuana', 'drogar', 'salud', 'capacidad', 'intelectual', 'niño', 'adolescente', 'verdad', 'vez', 'sociedad', 'drogar', 'drogar', 'vida', 'familia', 'sueño', 'drogar', 'dolor', 'sufrimiento', 'adicto', 'familia', 'ser', 'drogar', 'libertar', 'voluntad', 'felicidad', 'capacidad', 'familia', 'ser', 'sociedad', 'término', 'capacidad', 'talento', 'realizarnos', 'personar', 'felicidad', 'síntesis', 'esclavo', 'razonar', 'relación', 'drogar', 'delincuencia', 'tiempo', 'toro', 'asta', 'drogar', 'gobierno', 'forzar', 'voluntad', 'narcotráfico', 'esfuerzo', 'garrar', 'drogar', 'partir', 'decisión', 'forzar', 'plan', 'elige', 'vivir', 'drogas', 'objetivar', 'consumir', 'drogar', 'partir', 'niño', 'niño', 'adolescente', 'batallar', 'presidente', 'gobierno', 'mayoría', 'padre', 'madre', 'chile', 'frente', 'maligno', 'contrario', 'instrumento', 'democracia', 'estado', 'derecho', 'hogar', 'escuela', 'callar', 'plaza', 'rincón', 'chile', 'tierra', 'cielo', 'mar', 'día', 'winston', 'churchill', 'queridos', 'compatriota', 'padre', 'poder', 'drogar', 'placer', 'adicción', 'dolor', 'sufrimiento', 'poder', 'poder', 'padre', 'madre', 'poder', 'familia', 'escuela', 'sociedad', 'poder', 'gobierno', 'poder', 'verdad', 'dañar', 'drogar', 'plan', 'elige', 'vivir', 'drogas', 'plan', 'planet', 'youth', 'islandia', 'país', 'plan', 'aportar', 'sociedades', 'médicas', 'científicas', 'chilenas', 'experiencia', 'sociedad', 'municipio', 'gobierno', 'plan', 'elige', 'vivir', 'drogas', 'consumir', 'drogar', 'niño', 'niño', 'adolescente', 'basar', 'diagnóstico', 'comunidad', 'diseñar', 'estrategia', 'comunidad', 'plan', 'pilar', 'familia', 'entregándoles', 'instrumento', 'niño', 'escuela', 'través', 'programar', 'alumno', 'padre', 'profesor', 'participación', 'compromiso', 'través', 'ofertar', 'sociedad', 'niño', 'adolescente', 'oportunidad', 'tiempo', 'liderazgo', 'familiar', 'compañero', 'escuela', 'amigo', 'labor', 'queridos', 'compatriota', 'candidato', 'madre', 'hijo', 'barrio', 'drogar', 'departamento', 'pisar', 'block', 'ventana', 'hijo', 'banda', 'narcotraficante', 'adicción', 'hijo', 'tragedia', 'niño', 'deportar', 'instrumentar', 'causar', 'niño', 'salvo', 'palabra', 'memoria', 'concienciar', 'niño', 'adolescente', 'drogar', 'caminar', 'caminar', 'alianza', 'familia', 'padre', 'escuela', 'profesor', 'gobierno', 'queridos', 'padre', 'madre', 'cecilia', 'noche', 'encarecidamente', 'cariño', 'franqueza', 'sensibilidad', 'hijo', 'tiempo', 'día', 'amigo', 'interesar', 'camino', 'vida', 'camino', 'drogar', 'pedirles', 'padre', 'madre', 'chile', 'noche', 'mujer', 'cecilia', 'hijo', 'esfuerzo', 'sacrificio', 'hijo', 'vida', 'hijo', 'nieto', 'aire', 'aportar', 'compromiso', 'abrazar', 'esperanzar', 'cariño', 'dios', 'cruzar', 'gracia', 'noche']\n"
          ]
        }
      ]
    },
    {
      "cell_type": "code",
      "source": [
        "query2 = input(\"Interpretación:\")"
      ],
      "metadata": {
        "colab": {
          "base_uri": "https://localhost:8080/"
        },
        "id": "69yE9I1imcci",
        "outputId": "9b9ad5bd-7bde-4477-eb5f-1f42fa13b766"
      },
      "execution_count": null,
      "outputs": [
        {
          "name": "stdout",
          "output_type": "stream",
          "text": [
            "Interpretación:drogadiccion\n"
          ]
        }
      ]
    },
    {
      "cell_type": "code",
      "source": [
        "print('Tópico que le asigna el modelo:')\n",
        "print(most_probable_topic_test[100] + 1)\n",
        "print('Al siguiente documento:')\n",
        "print(processed_corpus_test[100])"
      ],
      "metadata": {
        "colab": {
          "base_uri": "https://localhost:8080/"
        },
        "id": "5XE80Aynmmpt",
        "outputId": "c54d1a42-1956-48e9-e17f-f89697a3f540"
      },
      "execution_count": null,
      "outputs": [
        {
          "output_type": "stream",
          "name": "stdout",
          "text": [
            "Tópico que le asigna el modelo:\n",
            "1\n",
            "Al siguiente documento:\n",
            "['día', 'día', 'recuerdo', 'reflexionar', 'año', 'golpe', 'militar', 'septiembre', 'año', 'muerte', 'presidente', 'allende', 'bombardear', 'moneda', 'término', 'gobierno', 'unidad', 'popular', 'año', 'iniciar', 'gobierno', 'militar', 'año', 'quebrar', 'democracia', 'dudar', 'septiembre', 'fecho', 'chileno', 'interpretación', 'día', 'división', 'odio', 'chile', 'tiempo', 'lección', 'enseñanza', 'período', 'historia', 'dudar', 'lección', 'enseñanza', 'lugar', 'importancia', 'democracia', 'convivencia', 'chileno', 'septiembre', 'democracia', 'muerte', 'enfermo', 'tiempo', 'vez', 'circunstancia', 'contexto', 'sistemático', 'atropello', 'derecho', 'humano', 'período', 'país', 'embargar', 'preguntar', 'lección', 'democracia', 'septiembre', 'mal', 'enfermedad', 'democracia', 'enfermo', 'odiar', 'violencia', 'descalificación', 'intolerancia', 'sectarismo', 'sector', 'violencia', 'instrumentar', 'luchar', 'conquistar', 'poder', 'democracia', 'democracia', 'valor', 'voto', 'balar', 'chile', 'modelo', 'mayoría', 'chileno', 'época', 'amistar', 'partir', 'república', 'respetar', 'capacidad', 'diálogo', 'acuerdo', 'seguridad', 'compatriota', 'adversario', 'enemigo', 'septiembre', 'advenimiento', 'régimen', 'secuela', 'pérdida', 'libertad', 'atropello', 'derecho', 'humano', 'embargar', 'sociedad', 'sabiduría', 'grandeza', 'error', 'izquierda', 'país', 'violencia', 'democracia', 'derecha', 'país', 'atropello', 'derecho', 'humano', 'democracia', 'evolución', 'país', 'día', 'desafío', 'sociedad', 'futuro', 'sociedad', 'error', 'lección', 'cargar', 'enseñanza', 'formar', 'democracia', 'tiempo', 'septiembre', 'basar', 'generosidad', 'sabiduría', 'grandeza', 'diálogo', 'acuerdo', 'voluntad', 'año', 'chileno', 'desafío', 'transición', 'transición', 'libertar', 'democracia', 'formar', 'historia', 'transición', 'mediar', 'crisis', 'caos', 'violencia', 'chile', 'gracia', 'sabiduría', 'grandeza', 'mayoría', 'caminar', 'constitución', 'palabra', 'constitución', 'comer', 'embargar', 'visión', 'transición', 'democracia', 'transición', 'historia', 'país', 'historia', 'historia', 'historia', 'definición', 'cambiar', 'futuro', 'librar', 'pincelar', 'camino', 'futuro', 'compatriota', 'formar', 'democracia', 'transición', 'desafiar', 'país', 'década', 'país', 'país', 'pobreza', 'país', 'unidad', 'grandeza', 'democracia', 'objetivar', 'transición', 'presentar', 'futuro', 'transición', 'frente', 'día', 'hijo', 'nieto', 'contar', 'acto', 'gestión', 'resultar', 'travesío', 'chile', 'pobreza', 'derecho', 'fallarles', 'derecho', 'legarles', 'hijo', 'nieto', 'odio', 'querellar', 'dañar', 'pasar', 'derecho', 'fallarles', 'travesío', 'desafiar', 'obligación', 'legarles', 'hijo', 'nieto', 'chile', 'chile', 'chile', 'chile', 'misión', 'generación', 'misión', 'corazón', 'mayoría', 'chileno', 'misión', 'paso', 'gobierno', 'día', 'vez', 'impresión', 'forzar', 'lección', 'compatriota', 'legítimo', 'padre', 'hurtado', 'patria', 'montaña', 'naturaleza', 'misión', 'misión', 'misión', 'chileno', 'poblar', 'misión', 'lugar', 'lugar', 'cuota', 'beneficio', 'día', 'chileno', 'compatriota', 'vestir', 'septiembre', 'año', 'golpe', 'militar', 'factor', 'unidad', 'aprendizaje', 'enseñanza', 'país', 'historia', 'error', 'vez', 'palacio', 'moneda', 'casar', 'chileno', 'compatriota', 'responsabilidad', 'cargo', 'elección', 'vestir', 'misión', 'desafiar', 'división', 'rencor', 'vez', 'caminar', 'historia', 'vez', 'vez', 'chile', 'amargo', 'vez', 'triunfo', 'septiembre', 'momento', 'reflexión', 'recuerdo', 'suponer', 'familiar', 'vida', 'septiembre', 'gracia']\n"
          ]
        }
      ]
    },
    {
      "cell_type": "code",
      "source": [
        "query3 = input(\"Interpretación:\")"
      ],
      "metadata": {
        "colab": {
          "base_uri": "https://localhost:8080/"
        },
        "id": "cCivIpgKmmpu",
        "outputId": "9d2d09c8-dbd5-4afa-ad3e-432e95cad0b8"
      },
      "execution_count": null,
      "outputs": [
        {
          "name": "stdout",
          "output_type": "stream",
          "text": [
            "Interpretación:fuerzas_armadas\n"
          ]
        }
      ]
    },
    {
      "cell_type": "code",
      "source": [
        "print('Tópico que le asigna el modelo:')\n",
        "print(most_probable_topic_test[160] + 1)\n",
        "print('Al siguiente documento:')\n",
        "print(processed_corpus_test[160])"
      ],
      "metadata": {
        "colab": {
          "base_uri": "https://localhost:8080/"
        },
        "id": "2-OtT5Ndmskg",
        "outputId": "3815aa45-10d4-489e-f753-c2a45439c0bb"
      },
      "execution_count": null,
      "outputs": [
        {
          "output_type": "stream",
          "name": "stdout",
          "text": [
            "Tópico que le asigna el modelo:\n",
            "5\n",
            "Al siguiente documento:\n",
            "['momento', 'alegría', 'esperanzar', 'día', 'fin', 'región', 'ñuble', 'esperanzar', 'región', 'largar', 'cunar', 'hombre', 'mujer', 'región', 'país', 'hombre', 'arturo', 'prat', 'bernardo', 'higgins', 'artista', 'violeta', 'parra', 'nicanor', 'parra', 'claudio', 'arrau', 'ñuble', 'chile', 'largar', 'historia', 'región', 'forzar', 'destinar', 'mano', 'plan', 'desarrollo', 'región', 'ñuble', 'habitante', 'región', 'motor', 'agricultura', 'región', 'potenciar', 'tratados', 'comercio', 'patrimonio', 'clima', 'sol', 'aguar', 'región', 'potenciar', 'mesar', 'compatriota', 'mundo', 'región', 'potencial', 'materia', 'energía', 'suponer', 'región', 'región', 'cunar', 'tradición', 'historia', 'costumbre', 'leyenda', 'región', 'ñuble', 'país', 'habitante', 'región', 'fuerza', 'región', 'habitante', 'problema', 'potencialidad', 'temor', 'sueño', 'proyecto', 'inversión', 'región', 'ejemplo', 'embalsar', 'punilla', 'hectárea', 'elementar', 'habitante', 'agricultura', 'actividad', 'región', 'ñuble', 'liceos', 'bicentenarios', 'conectividad', 'través', 'carretero', 'través', 'carretero', 'razonar', 'bienvenido', 'presidente', 'chile', 'región', 'ustedes', 'padre', 'madre', 'hijo', 'formar', 'problema', 'razonar', 'habitante', 'región', 'ñuble', 'presidente', 'intendente', 'día', 'responsabilidad', 'martín', 'arrau', 'gobernador', 'alcalde', 'seremis', 'diputar', 'senador', 'misión', 'región', 'presagiar', 'mañana', 'sol', 'fin', 'futuro', 'futuro', 'oportunidad', 'habitante', 'vida', 'región', 'ñuble']\n"
          ]
        }
      ]
    },
    {
      "cell_type": "code",
      "source": [
        "query4 = input(\"Interpretación:\")"
      ],
      "metadata": {
        "colab": {
          "base_uri": "https://localhost:8080/"
        },
        "id": "QV2PI8h2mskh",
        "outputId": "672359b0-9f7c-4216-ceca-381bc4dcfa4e"
      },
      "execution_count": null,
      "outputs": [
        {
          "name": "stdout",
          "output_type": "stream",
          "text": [
            "Interpretación:desarrollo_regional\n"
          ]
        }
      ]
    },
    {
      "cell_type": "code",
      "source": [
        "print('Tópico que le asigna el modelo:')\n",
        "print(most_probable_topic_test[58] + 1)\n",
        "print('Al siguiente documento:')\n",
        "print(processed_corpus_test[58])"
      ],
      "metadata": {
        "colab": {
          "base_uri": "https://localhost:8080/"
        },
        "id": "DBkclNSSmtEO",
        "outputId": "1de688c6-e78c-4560-93c5-8421f228da21"
      },
      "execution_count": null,
      "outputs": [
        {
          "output_type": "stream",
          "name": "stdout",
          "text": [
            "Tópico que le asigna el modelo:\n",
            "3\n",
            "Al siguiente documento:\n",
            "['pedro', 'carcuro', 'pie', 'deportista', 'deportista', 'chile', 'país', 'deportista', 'misión', 'ministerio', 'deporte', 'millón', 'razonar', 'deportista', 'dirigente', 'deportar', 'cuerpo', 'salud', 'alma', 'partir', 'palabra', 'éxito', 'palabra', 'trabajar', 'diccionario', 'casualidad', 'talento', 'talento', 'compromiso', 'esforzar', 'sacrificio', 'talento', 'deportar', 'elite', 'país', 'juegos', 'suramericanos', 'cochabamba', 'partir', 'ciclar', 'juegos', 'panamericanos', 'lima', 'juegos', 'olímpicos', 'tokio', 'año', 'juegos', 'panamericanos', 'chile', 'delegación', 'chile', 'evento', 'preguntar', 'ministro', 'pillarla', 'mujer', 'hombre', 'uy', 'pillar', 'intención', 'mujer', 'hombre', 'orgullo', 'esperanzar', 'ilusionar', 'país', 'deportista', 'medalla', 'frente', 'alto', 'chile', 'gobierno', 'chile', 'compromiso', 'deportar', 'deportar', 'deportar', 'rincón', 'país', 'niño', 'mujer', 'hombre', 'trabajador', 'edad', 'región', 'chile', 'esforzar', 'deportar', 'chile', 'país', 'deportista', 'hacer', 'chileno', 'país', 'fábrica', 'enfermedad', 'sacrificio', 'personar', 'desafiar', 'gobierno', 'deportar', 'elite', 'deportista', 'fuente', 'inspiración', 'niño', 'niño', 'caminar', 'futuro', 'deportar', 'competencia', 'cochabamba', 'chile', 'país', 'deportista', 'desafiar', 'delegación', 'juegos', 'suramericanos', 'delegación', 'medalla', 'pecho', 'suponer', 'visión', 'trabajar', 'equipar', 'chile', 'camiseta', 'día', 'casualidad', 'rojo', 'rojo', 'rojo', 'abanderar', 'satisfacción', 'alegría', 'campeón', 'olimpiadas', 'lugar', 'nivel', 'medalla', 'orar', 'juegos', 'bolivarianos', 'bandera', 'chile', 'fernanda', 'honor', 'responsabilidad', 'aniversario', 'combate', 'naval', 'iquique', 'hombre', 'iquique', 'marinar', 'héroe', 'patriotismo', 'entregar', 'desafío', 'combatir', 'cochabamba', 'orgullo', 'esperanzar', 'partir', 'cochabamba', 'oportunidad', 'lugar', 'felicitarlos', 'esforzar', 'sacrificio', 'hora', 'entrenamiento', 'familia', 'cuerpo', 'alma', 'deportar', 'familia', 'familia', 'partir', 'triunfo', 'triunfar', 'alto', 'bandera', 'chile', 'corazón', 'orgullo', 'deportista', 'elite', 'país', 'palabra', 'esperanzar', 'apoyar', 'nombrar', 'chile', 'cochabamba', 'vida', 'oportunidad', 'preparación', 'juegos', 'panamericanos', 'juegos', 'olímpicos', 'ejemplo', 'inspiración', 'millón', 'millón', 'niño', 'niño', 'día', 'salón', 'salón', 'montt', 'varas', 'presidente', 'montt', 'ministro', 'chile', 'fin', 'chile', 'país', 'país', 'deportista', 'gracia']\n"
          ]
        }
      ]
    },
    {
      "cell_type": "code",
      "source": [
        "query5 = input(\"Interpretación:\")"
      ],
      "metadata": {
        "colab": {
          "base_uri": "https://localhost:8080/"
        },
        "id": "zYW-wHbjmtEO",
        "outputId": "4dcbdb32-f080-4a06-9b88-93b4c01c664b"
      },
      "execution_count": null,
      "outputs": [
        {
          "name": "stdout",
          "output_type": "stream",
          "text": [
            "Interpretación:deporte\n"
          ]
        }
      ]
    },
    {
      "cell_type": "code",
      "source": [
        "print('Tópico que le asigna el modelo:')\n",
        "print(most_probable_topic_test[12] + 1)\n",
        "print('Al siguiente documento:')\n",
        "print(processed_corpus_test[12])"
      ],
      "metadata": {
        "colab": {
          "base_uri": "https://localhost:8080/"
        },
        "id": "OzoHhKkXmtPS",
        "outputId": "c455ef70-1ab0-4d18-8804-4ff8fc4dac55"
      },
      "execution_count": null,
      "outputs": [
        {
          "output_type": "stream",
          "name": "stdout",
          "text": [
            "Tópico que le asigna el modelo:\n",
            "1\n",
            "Al siguiente documento:\n",
            "['día', 'lugar', 'gracia', 'dios', 'mañana', 'sol', 'invierno', 'ministra', 'alcalde', 'diputar', 'melero', 'desbordes', 'pardo', 'suponer', 'cariño', 'maría', 'angélica', 'vallejos', 'biblia', 'fruto', 'conocer', 'liceos', 'bicentenario', 'año', 'fruto', 'ideo', 'concepto', 'liceo', 'bicentenario', 'educación', 'educación', 'tiempo', 'año', 'coser', 'admisión', 'colegio', 'colegio', 'calidad', 'educación', 'debatir', 'prioridad', 'ministra', 'cubillos', 'calidad', 'educación', 'corazón', 'debatir', 'calidad', 'educación', 'nivelar', 'educación', 'educación', 'educación', 'calidad', 'educación', 'objetivar', 'educación', 'instrumentar', 'educación', 'alumno', 'liceo', 'día', 'puerta', 'mundo', 'oportunidad', 'educación', 'vez', 'mundo', 'frustración', 'calidad', 'educación', 'corazón', 'centrar', 'debatir', 'ministra', 'marcela', 'cubillos', 'calidad', 'educación', 'liceos', 'bicentenario', 'aportar', 'compromiso', 'voluntad', 'liderazgo', 'calidad', 'educación', 'corazón', 'concepto', 'liceos', 'bicentenario', 'gobierno', 'decir', 'liceo', 'año', 'calidad', 'compromiso', 'liceos', 'bicentenario', 'maría', 'angélica', 'personar', 'misión', 'compromiso', 'vocación', 'asiento', 'historia', 'director', 'padre', 'profesor', 'calidad', 'educación', 'chile', 'compromiso', 'vocación', 'actitud', 'diferenciar', 'diferenciar', 'liceos', 'bicentenario', 'liceos', 'bicentenario', 'resultar', 'lugar', 'familia', 'liceos', 'bicentenario', 'sabiduría', 'padre', 'hijo', 'impresionarme', 'padre', 'madre', 'hijo', 'hijo', 'padre', 'criterio', 'liceos', 'bicentenario', 'padre', 'estudiante', 'profesor', 'directivo', 'director', 'director', 'procesar', 'familia', 'liceos', 'bicentenario', 'casualidad', 'capricho', 'nombrar', 'liceo', 'pesar', 'casar', 'santa', 'teresita', 'andes', 'nombrar', 'ministro', 'nombrar', 'inglés', 'ministro', 'padre', 'sabiduría', 'padre', 'educación', 'hijo', 'liceos', 'bicentenario', 'educación', 'calidad', 'liceos', 'bicentenario', 'rendimiento', 'probar', 'simce', 'liceos', 'bicentenario', 'promediar', 'crecer', 'restar', 'liceo', 'resultar', 'colegio', 'padre', 'liceos', 'bicentenario', 'categoría', 'padre', 'resultar', 'psu', 'liceos', 'bicentenario', 'promediar', 'país', 'estudiante', 'liceo', 'santa', 'teresita', 'andes', 'educación', 'padre', 'padre', 'madre', 'hijo', 'gobernar', 'garantizarles', 'familia', 'misión', 'desafiar', 'materia', 'educación', 'coser', 'padre', 'liceos', 'bicentenario', 'niño', 'profesor', 'director', 'ejemplo', 'promediar', 'asistencia', 'alumno', 'liceos', 'bicentenarios', 'año', 'vez', 'día', 'colegio', 'tomar', 'acostumbrarnos', 'día', 'colegio', 'niño', 'profesor', 'razón', 'liceos', 'bicentenario', 'vocación', 'educación', 'liceos', 'bicentenario', 'liceo', 'inclusión', 'estudiante', 'promediar', 'promediar', 'estudiante', 'sector', 'temer', 'resultar', 'liceos', 'bicentenario', 'nivel', 'estudiante', 'liceos', 'bicentenario', 'alumno', 'calidad', 'culpar', 'estructurar', 'responsabilidad', 'liceos', 'bicentenario', 'educación', 'director', 'liceo', 'padre', 'profesor', 'alumno', 'calidad', 'nivelar', 'razón', 'decisión', 'liceos', 'bicentenario', 'gobierno', 'liceos', 'bicentenario', 'año', 'liceo', 'gobierno', 'año', 'hacer', 'día', 'concursar', 'liceo', 'bicentenario', 'educación', 'calidad', 'año', 'incorporar', 'liceos', 'bicentenario', 'gente', 'educación', 'calidad', 'niño', 'liceos', 'bicentenario', 'sector', 'educación', 'técnico', 'humanista', 'calidad', 'expresión', 'educación', 'razón', 'día', 'concursar', 'liceos', 'bicentenario', 'marzo', 'año', 'oportunidad', 'liceo', 'largar', 'país', 'requisito', 'liceo', 'bicentenario', 'clavar', 'liceos', 'bicentenario', 'clavar', 'compromiso', 'coser', 'mérito', 'mérito', 'vida', 'ideo', 'mérito', 'igualdad', 'error', 'mérito', 'mediocridad', 'mérito', 'igualdad', 'oportunidad', 'elemento', 'liceos', 'bicentenario', 'compromiso', 'mérito', 'inclusión', 'liceos', 'bicentenario', 'meter', 'vida', 'cielo', 'meter', 'mirar', 'optimismo', 'ambición', 'pie', 'tierra', 'ilusionar', 'combinación', 'meter', 'realismo', 'liceos', 'bicentenario', 'experiencia', 'salar', 'clase', 'lugar', 'salar', 'clase', 'lugar', 'clavar', 'sistema', 'salar', 'clase', 'bombo', 'molotov', 'violencia', 'sociedad', 'puñado', 'delincuente', 'liceo', 'país', 'éxito', 'liceo', 'instituto', 'nacional', 'violencia', 'respetar', 'interior', 'salar', 'clase', 'liceos', 'bicentenario', 'problema', 'readaptarlo', 'reenseñarlo', 'incorporarse', 'maría', 'angélica', 'ejemplo', 'liderazgo', 'liceos', 'liderazgo', 'personar', 'misión', 'educación', 'calidad', 'asentir', 'coser', 'liceo', 'santa', 'teresita', 'andes', 'liceos', 'bicentenario', 'compatriota', 'compromiso', 'educación', 'calidad', 'niño', 'niño', 'educación', 'calidad', 'regar', 'plantar', 'talento', 'sueño', 'misión', 'educación', 'calidad', 'sociedad', 'conocimiento', 'información', 'pasar', 'falto', 'educación', 'pobreza', 'futuro', 'falto', 'educación', 'miseria', 'niño', 'país', 'talento', 'violencia', 'caminar', 'gobiernos', 'plenitud', 'desafiar', 'educación', 'calidad', 'niño', 'joven', 'país', 'gracia']\n"
          ]
        }
      ]
    },
    {
      "cell_type": "code",
      "source": [
        "query6 = input(\"Interpretación:\")"
      ],
      "metadata": {
        "colab": {
          "base_uri": "https://localhost:8080/"
        },
        "id": "0WLyR4zImtPT",
        "outputId": "778802f0-7ad3-4e6c-c2fb-47e1b22b5fee"
      },
      "execution_count": null,
      "outputs": [
        {
          "name": "stdout",
          "output_type": "stream",
          "text": [
            "Interpretación:educacion\n"
          ]
        }
      ]
    },
    {
      "cell_type": "code",
      "source": [
        "print('Tópico que le asigna el modelo:')\n",
        "print(most_probable_topic_test[44] + 1)\n",
        "print('Al siguiente documento:')\n",
        "print(processed_corpus_test[44])"
      ],
      "metadata": {
        "colab": {
          "base_uri": "https://localhost:8080/"
        },
        "id": "9OKCvm50mtYf",
        "outputId": "05323336-eec5-42a5-d5db-ae8b8d44011e"
      },
      "execution_count": null,
      "outputs": [
        {
          "output_type": "stream",
          "name": "stdout",
          "text": [
            "Tópico que le asigna el modelo:\n",
            "3\n",
            "Al siguiente documento:\n",
            "['día', 'verdad', 'orgullo', 'emoción', 'alegría', 'mujer', 'cecilia', 'españa', 'soltero', 'oportunidad', 'partir', 'disfrutarlos', 'hora', 'noche', 'casar', 'partir', 'partir', 'selección', 'partir', 'dudar', 'partir', 'frente', 'uruguay', 'uruguayo', 'meterles', 'gol', 'tiempo', 'compatriota', 'alegría', 'emoción', 'muchacho', 'año', 'cúspide', 'carrera', 'mundial', 'fútbol', 'chile', 'tocayo', 'sebastián', 'oportunidad', 'equipar', 'subcampeón', 'verdad', 'partir', 'dudar', 'partir', 'argentina', 'ecuador', 'chile', 'campeón', 'gol', 'gol', 'paraguay', 'gol', 'ecuatoriano', 'argentino', 'casar', 'tiempo', 'selección', 'sub', 'subcampeón', 'américa', 'año', 'década', 'desafiar', 'brasil', 'lugar', 'japón', 'meter', 'esperanzar', 'mesar', 'hernán', 'caputto', 'líder', 'estratega', 'entretiempo', 'uruguay', 'inspiración', 'transpiración', 'vida', 'inspiración', 'transpiración', 'talento', 'creatividad', 'abundancia', 'trabajar', 'esforzar', 'sacrificio', 'partir', 'palabra', 'éxito', 'palabra', 'trabajar', 'diccionario', 'vida', 'esforzarse', 'triunfo', 'orgullo', 'felicidad', 'rol', 'joven', 'joven', 'paradigma', 'ejemplo', 'alegría', 'entusiasmar', 'roja', 'campeonato', 'perú', 'deportar', 'embajador', 'deportar', 'millón', 'niño', 'joven', 'deportar', 'deportar', 'coser', 'cancha', 'trabajar', 'equipar', 'compañerismo', 'lealtad', 'equipar', 'deportar', 'valorar', 'cancha', 'valorar', 'cancha', 'compatriota', 'cancha', 'lealtad', 'trabajar', 'compañerismo', 'fijarse', 'esforzarse', 'oportunidad', 'vez', 'pelota', 'pasar', 'vida', 'compatriota', 'resultar', 'brasil', 'meter', 'coser', 'emoción', 'alegría', 'gol', 'consejo', 'gabinete', 'consejo', 'gabinete', 'gol', 'ministros', 'gol', 'mejor', 'ejemplo', 'suerte', 'periodo', 'tiempo', 'mesar', 'noviembre', 'chile', 'sub', 'mundial', 'brasil', 'gracia']\n"
          ]
        }
      ]
    },
    {
      "cell_type": "code",
      "source": [
        "query7 = input(\"Interpretación:\")"
      ],
      "metadata": {
        "colab": {
          "base_uri": "https://localhost:8080/"
        },
        "id": "j3ynQMogmtYg",
        "outputId": "abf70102-d5c0-41bd-a873-138893048bf6"
      },
      "execution_count": null,
      "outputs": [
        {
          "name": "stdout",
          "output_type": "stream",
          "text": [
            "Interpretación:futbol\n"
          ]
        }
      ]
    },
    {
      "cell_type": "code",
      "source": [
        "print('Tópico que le asigna el modelo:')\n",
        "print(most_probable_topic_test[66] + 1)\n",
        "print('Al siguiente documento:')\n",
        "print(processed_corpus_test[66])"
      ],
      "metadata": {
        "colab": {
          "base_uri": "https://localhost:8080/"
        },
        "id": "t3ij4I79mtgN",
        "outputId": "919ee3f0-1f24-432f-c450-116a4776a02e"
      },
      "execution_count": null,
      "outputs": [
        {
          "output_type": "stream",
          "name": "stdout",
          "text": [
            "Tópico que le asigna el modelo:\n",
            "3\n",
            "Al siguiente documento:\n",
            "['gracia', 'verdad', 'reunión', 'cop', 'santiago', 'oportunidad', 'cursar', 'mundo', 'respectar', 'generación', 'desafío', 'generación', 'desafiar', 'respectar', 'cambiar', 'calentamiento', 'verdad', 'batallar', 'vida', 'ser', 'criatura', 'planeta', 'tiempo', 'vez', 'planeta', 'suponer', 'tiempo', 'liderazgo', 'coser', 'ciudadano', 'país', 'mundo', 'misión', 'tiempo', 'dificultad', 'día', 'dificultad', 'problema', 'economía', 'guerra', 'potenciar', 'problema', 'cambiar', 'vez', 'crisis', 'dificultad', 'complejo', 'desafío', 'liderazgo', 'interesar', 'competencia', 'grupo', 'casar', 'interesar', 'ecuación', 'supervivencia', 'vez', 'revistar', 'fotografiar', 'planeta', 'tierra', 'titular', 'salvemos', 'planeta', 'tierra', 'planeta', 'tierra', 'riesgo', 'planeta', 'tierra', 'millón', 'año', 'tipo', 'catástrofe', 'realidad', 'riesgo', 'sobrevivencia', 'raza', 'planeta', 'resultar', 'informar', 'situación', 'vez', 'ejemplo', 'informar', 'unidos', 'ciencia', 'naciones', 'unidas', 'semana', 'año', 'año', 'historia', 'humanidad', 'nivel', 'océano', 'nivelar', 'emisión', 'carbonar', 'dirección', 'frente', 'opción', 'consecuencia', 'opción', 'opción', 'desafiar', 'historia', 'día', 'nueva', 'york', 'comunidad', 'gobernar', 'contar', 'responsabilidad', 'cambiar', 'actitud', 'cambiar', 'compromiso', 'ejemplo', 'secretario', 'general', 'naciones', 'unidas', 'coalición', 'ambición', 'climática', 'semana', 'país', 'convertirse', 'carbonar', 'chile', 'chile', 'dirección', 'instrumento', 'matriz', 'sistema', 'transportar', 'basar', 'combustible', 'electricidad', 'estándar', 'eficiencia', 'sector', 'esforzar', 'reforestación', 'nivel', 'cantidad', 'bosque', 'instrumento', 'año', 'osaka', 'cumbre', 'g', 'país', 'compromiso', 'italia', 'francia', 'alemania', 'reino', 'unido', 'país', 'ciudad', 'empresa', 'compromiso', 'convertirse', 'carbonar', 'chile', 'país', 'mundo', 'bolsa', 'bolsa', 'plástico', 'segundar', 'producirse', 'promediar', 'minuto', 'año', 'biodegradarse', 'año', 'océano', 'tierra', 'realidad', 'cursar', 'momento', 'bolsa', 'pez', 'océano', 'tendencia', 'mediar', 'ambientar', 'biodiversidad', 'planeta', 'tierra', 'compromiso', 'compromiso', 'hijo', 'niño', 'nieto', 'generación', 'derecho', 'planeta', 'tierra', 'generación', 'consecuencia', 'cambiar', 'calentamiento', 'tragedia', 'responsabilidad', 'cumbre', 'bosque', 'océano', 'secretario', 'general', 'naciones', 'unidas', 'respectar', 'cambiar', 'cambiar', 'actitud', 'escéptico', 'respectar', 'respectar', 'cambiar', 'calentamiento', 'derecho', 'escéptico', 'deber', 'deber', 'mundo', 'joven', 'mensaje', 'accionar', 'cop', 'chile', 'diciembre', 'año', 'progresar', 'cursar', 'historia', 'tragedia', 'clima', 'calentamiento', 'tiempo', 'tiempo', 'gracia']\n"
          ]
        }
      ]
    },
    {
      "cell_type": "code",
      "source": [
        "query8 = input(\"Interpretación:\")"
      ],
      "metadata": {
        "colab": {
          "base_uri": "https://localhost:8080/"
        },
        "id": "loeeAKKEmtgN",
        "outputId": "68a18805-734c-4f9f-8aec-f561d13598bf"
      },
      "execution_count": null,
      "outputs": [
        {
          "name": "stdout",
          "output_type": "stream",
          "text": [
            "Interpretación:relaciones_exteriores\n"
          ]
        }
      ]
    },
    {
      "cell_type": "code",
      "source": [
        "print('Tópico que le asigna el modelo:')\n",
        "print(most_probable_topic_test[70] + 1)\n",
        "print('Al siguiente documento:')\n",
        "print(processed_corpus_test[70])"
      ],
      "metadata": {
        "colab": {
          "base_uri": "https://localhost:8080/"
        },
        "id": "riy4IFCjmtm7",
        "outputId": "9cf49302-a16d-4176-f4a0-c689815e55a0"
      },
      "execution_count": null,
      "outputs": [
        {
          "output_type": "stream",
          "name": "stdout",
          "text": [
            "Tópico que le asigna el modelo:\n",
            "1\n",
            "Al siguiente documento:\n",
            "['día', 'bienvenido', 'pablo', 'félix', 'familia', 'organización', 'chileno', 'chileno', 'tiempo', 'proyectar', 'ley', 'identidad', 'género', 'principio', 'valorar', 'presidente', 'gobierno', 'personar', 'personar', 'dignidad', 'derecho', 'deber', 'consecuencia', 'personar', 'libertar', 'creatividad', 'motor', 'sociedad', 'arquitecto', 'vida', 'concepto', 'libertar', 'dignidad', 'ser', 'ley', 'identidad', 'género', 'pasar', 'dirección', 'deuda', 'sociedad', 'prejuicio', 'discriminación', 'compromiso', 'dignidad', 'obligación', 'tiempo', 'discusión', 'año', 'congreso', 'partir', 'ley', 'institucionalidad', 'lugar', 'edad', 'autonomía', 'voluntad', 'cambiar', 'sexo', 'acordar', 'voluntad', 'acordar', 'libertar', 'personar', 'año', 'ley', 'consentimiento', 'padre', 'juez', 'familia', 'lugar', 'edad', 'año', 'cambiar', 'sexo', 'condición', 'trans', 'estado', 'instancia', 'escuela', 'acceso', 'salud', 'acompañamiento', 'estado', 'padre', 'familia', 'etapa', 'vida', 'forzar', 'claridad', 'dudar', 'ley', 'experiencia', 'discriminatorio', 'solución', 'cambiar', 'alma', 'corazón', 'chileno', 'respetarnos', 'querernos', 'diversidad', 'igualdad', 'dignidad', 'ser', 'ser', 'constitución', 'artículo', 'º', 'personar', 'dignidad', 'derecho', 'marcar', 'ley', 'identidad', 'género', 'personar', 'tiempo', 'aporte', 'proyectar', 'ley', 'identidad', 'género', 'día', 'luz', 'sol', 'gobierno', 'preocupación', 'responsabilidad', 'prudencia', 'sensibilidad', 'temer', 'opinión', 'vez', 'formar', 'presidente', 'república', 'sociedad', 'fe', 'constitución', 'pasar', 'constitución', 'dignidad', 'dignidad', 'derecho', 'deber', 'guiar', 'gobierno', 'chile', 'mundo', 'personar', 'identidad', 'género', 'corazón', 'alma', 'respectar', 'identidad', 'identidad', 'registro', 'civil', 'reconocimiento', 'protección', 'derecho', 'dignidad', 'personar', 'problema', 'naturaleza', 'realidad', 'fe', 'principio', 'constitución', 'igualdad', 'dignidad', 'derecho', 'deber', 'razón', 'creencia', 'dignidad', 'consecuencia', 'derecho', 'deber', 'oportunidad', 'coincidencia', 'diferenciar', 'fin', 'cabo', 'diversidad', 'partir', 'riqueza', 'sociedad', 'sociedad', 'ser', 'razón', 'invitarlos', 'protagonista', 'futuro', 'optimismo', 'dudar', 'sociedad', 'chile', 'materia', 'respetar', 'dignidad', 'diversidad', 'chile', 'década', 'chile', 'país', 'ejemplo', 'américa', 'latina', 'desarrollar', 'desarrollar', 'organismo', 'ejemplo', 'materia', 'respetar', 'dignidad', 'diversidad', 'ser', 'razón', 'perjuicio', 'discusión', 'polémico', 'transcurso', 'debatir', 'ley', 'presidente', 'chile', 'convicción', 'pasar', 'dirección', 'pasar', 'sociedad', 'constitución', 'vida', 'dignidad', 'derecho', 'deber', 'gracia']\n"
          ]
        }
      ]
    },
    {
      "cell_type": "code",
      "source": [
        "query9 = input(\"Interpretación:\")"
      ],
      "metadata": {
        "colab": {
          "base_uri": "https://localhost:8080/"
        },
        "id": "IHSpJH8jmtm8",
        "outputId": "251962a7-740f-4acc-b777-382b44618863"
      },
      "execution_count": null,
      "outputs": [
        {
          "name": "stdout",
          "output_type": "stream",
          "text": [
            "Interpretación:sociedad\n"
          ]
        }
      ]
    },
    {
      "cell_type": "code",
      "source": [
        "print('Tópico que le asigna el modelo:')\n",
        "print(most_probable_topic_test[87] + 1)\n",
        "print('Al siguiente documento:')\n",
        "print(processed_corpus_test[87])"
      ],
      "metadata": {
        "colab": {
          "base_uri": "https://localhost:8080/"
        },
        "id": "nyLnTXjwmttH",
        "outputId": "ee96f980-eb80-488b-cf3e-2e7942ab5b7f"
      },
      "execution_count": null,
      "outputs": [
        {
          "output_type": "stream",
          "name": "stdout",
          "text": [
            "Tópico que le asigna el modelo:\n",
            "1\n",
            "Al siguiente documento:\n",
            "['día', 'futuro', 'entusiasmar', 'esperanzar', 'hoy', 'día', 'pasar', 'avanzar', 'tecnología', 'revolución', 'sociedad', 'conocimiento', 'información', 'consentimiento', 'voluntad', 'preguntar', 'respuesta', 'revolución', 'sociedad', 'conocimiento', 'información', 'ola', 'opción', 'subirnos', 'surfearla', 'fuerza', 'beneficiar', 'espalda', 'consecuencia', 'sociedad', 'conocimiento', 'información', 'mundo', 'país', 'asumir', 'favor', 'país', 'espalda', 'prepararnos', 'ola', 'medir', 'materia', 'ciberseguridad', 'ola', 'poder', 'surfearla', 'beneficiar', 'reformar', 'partir', 'revolución', 'tiempo', 'puerta', 'razón', 'día', 'presidencial', 'ciberseguridad', 'proyectar', 'ley', 'delitos', 'informáticos', 'partir', 'política', 'nacional', 'ciberseguridad', 'proyectar', 'protección', 'datos', 'personales', 'congreso', 'urgencia', 'coordinación', 'infraestructura', 'capacidad', 'defensa', 'frente', 'amenazar', 'revolución', 'país', 'sistema', 'tecnología', 'dudar', 'primera', 'ministra', 'país', 'líder', 'materia', 'girar', 'naciones', 'frente', 'infraestructura', 'tecnología', 'tiempo', 'seguridad', 'instructivo', 'prevención', 'automóvil', 'revolución', 'suponer', 'automóvil', 'día', 'carretero', 'puente', 'túnel', 'tiempo', 'ley', 'tránsito', 'semáforo', 'disco', 'pare', 'contrario', 'automóvil', 'elementar', 'calidad', 'vida', 'enemigo', 'día', 'revolución', 'pasar', 'virus', 'pandemia', 'fiebre', 'fiebre', 'mundo', 'época', 'hoy', 'día', 'virus', 'virus', 'virus', 'cibercrimen', 'seguridad', 'sobrevivencia', 'sociedad', 'día', 'tecnología', 'medio', 'cibercrimen', 'día', 'amenazar', 'cantidad', 'ciberataques', 'mundo', 'continente', 'país', 'riesgo', 'día', 'sector', 'fuerzas', 'armadas', 'sector', 'sociedad', 'darse', 'contar', 'volumen', 'información', 'volumen', 'información', 'dudar', 'situación', 'vulnerabilidad', 'sociedad', 'temer', 'país', 'diagnóstico', 'institución', 'sector', 'fuerzas', 'armadas', 'orden', 'sector', 'ataque', 'dañar', 'ejemplo', 'ataque', 'sector', 'robar', 'información', 'tarjeta', 'crédito', 'coser', 'ataque', 'alertar', 'luz', 'punto', 'gobierno', 'cargar', 'temer', 'temer', 'continente', 'conversación', 'país', 'país', 'diagnóstico', 'concienciar', 'importancia', 'mal', 'tecnología', 'revolución', 'contactar', 'organismo', 'país', 'mundo', 'banco', 'mundial', 'fondo', 'monetario', 'internacional', 'hacer', 'mesar', 'acuerdo', 'protocolo', 'materia', 'fuerza', 'argentina', 'visitar', 'oportunidad', 'abril', 'brasil', 'organización', 'estados', 'americanos', 'españa', 'acuerdo', 'estados', 'unidos', 'francia', 'alemania', 'reino', 'unido', 'girar', 'europa', 'día', 'don', 'jorge', 'atton', 'asesor', 'coordinador', 'estrategia', 'cibercrimen', 'defensa', 'resiliencia', 'sociedad', 'frente', 'tipo', 'peligrar', 'amenazar', 'dudar', 'velocidad', 'tiempo', 'razón', 'través', 'presidencial', 'organismo', 'servicio', 'personar', 'cargar', 'responsable', 'ciberseguridad', 'organismo', 'personar', 'mapa', 'vulnerabilidad', 'consecuencia', 'diagnóstico', 'riesgo', 'plan', 'acción', 'meter', 'objetivo', 'fecho', 'sistema', 'formar', 'capacidad', 'ciberataques', 'adecuarse', 'capacidad', 'ataque', 'tal', 'vez', 'cambiar', 'cultura', 'personar', 'sistema', 'personar', 'beneficiario', 'sistema', 'cultura', 'concienciar', 'riesgo', 'peligrar', 'sociedad', 'capacidad', 'almacenamiento', 'procesamiento', 'transmisión', 'dato', 'compromiso', 'funcionario', 'compromiso', 'funcionario', 'sector', 'compromiso', 'ciudadano', 'ciberseguridad', 'plan', 'capacitación', 'sector', 'cultura', 'personar', 'concienciar', 'peligrar', 'semana', 'normativo', 'materia', 'ciberseguridad', 'cargar', 'secretaría', 'general', 'presidencia', 'responsable', 'luz', 'experiencia', 'avanzar', 'acción', 'ciberataques', 'capacidad', 'defensa', 'materia', 'disposición', 'órgano', 'administración', 'pública', 'guiar', 'líneo', 'programa', 'mejoramiento', 'gestión', 'pmg', 'cultura', 'mundo', 'velocidad', 'rayar', 'mundo', 'tecnología', 'mundo', 'aprovecharse', 'tecnología', 'dañar', 'manera', 'proyectar', 'ley', 'marco', 'ciberseguridad', 'proyectar', 'ley', 'defensa', 'sociedad', 'frente', 'enemigo', 'cambiar', 'gobernanza', 'medio', 'mecanismo', 'procedimiento', 'cultura', 'sociedad', 'suponer', 'proyectar', 'ley', 'delitos', 'informáticos', 'normativo', 'progresar', 'tecnología', 'ley', 'chile', 'mundo', 'internet', 'datar', 'policía', 'investigaciones', 'delito', 'respectar', 'año', 'crecimiento', 'atajar', 'frenar', 'preocupación', 'compromiso', 'revolución', 'mundo', 'servicio', 'enemigo', 'ciudadano', 'gobierno', 'ley', 'figurar', 'experiencia', 'adecuándonos', 'norma', 'convenio', 'budapest', 'marcar', 'norma', 'criterio', 'orientación', 'materia', 'partir', 'política', 'nacional', 'ciberseguridad', 'ley', 'marco', 'materia', 'sector', 'sociedad', 'proyectar', 'delito', 'sancionar', 'delito', 'consecuencia', 'delito', 'sancionar', 'ejemplo', 'delito', 'perturbación', 'acceso', 'base', 'dato', 'interceptación', 'intervención', 'sistema', 'delito', 'daño', 'dato', 'falsificación', 'fraude', 'comerciar', 'abusar', 'dispositivo', 'marcar', 'convenio', 'budapest', 'proyectar', 'ministerio', 'interior', 'seguridad', 'pública', 'querellar', 'coser', 'día', 'casar', 'delito', 'servicio', 'utilidad', 'calidad', 'vida', 'ciudadano', 'proyectar', 'ley', 'dudar', 'conjuntar', 'político', 'seguridad', 'materia', 'sociedad', 'ciberseguridad', 'realidad', 'país', 'colaboración', 'país', 'convenio', 'problema', 'colaboración', 'país', 'delantero', 'país', 'materia', 'país', 'estados', 'unidos', 'alemania', 'francia', 'plenitud', 'revolución', 'sociedad', 'conocimiento', 'información', 'tiempo', 'ingenuidad', 'prudencia', 'responsabilidad', 'revolución', 'servicio', 'calidad', 'vida', 'chileno', 'monstruo', 'leviatán', 'ministro', 'materia', 'coordinador', 'jorge', 'atton', 'segundar', 'tiempo', 'tiempo', 'tiempo', 'cabeza', 'revolución', 'dudar', 'calidad', 'vida', 'gracia']\n"
          ]
        }
      ]
    },
    {
      "cell_type": "code",
      "source": [
        "query10 = input(\"Interpretación:\")"
      ],
      "metadata": {
        "colab": {
          "base_uri": "https://localhost:8080/"
        },
        "id": "DIUO6A_NmttH",
        "outputId": "43db2ee0-c9f9-47b4-aa37-acb375e23d42"
      },
      "execution_count": null,
      "outputs": [
        {
          "name": "stdout",
          "output_type": "stream",
          "text": [
            "Interpretación:tecnologia\n"
          ]
        }
      ]
    },
    {
      "cell_type": "code",
      "source": [
        "print('Tópico que le asigna el modelo:')\n",
        "print(most_probable_topic_test[88] + 1)\n",
        "print('Al siguiente documento:')\n",
        "print(processed_corpus_test[88])"
      ],
      "metadata": {
        "colab": {
          "base_uri": "https://localhost:8080/"
        },
        "id": "dLKCfQLemtz6",
        "outputId": "5f72d5dd-2365-409c-bcc4-37a0445e8c5f"
      },
      "execution_count": null,
      "outputs": [
        {
          "output_type": "stream",
          "name": "stdout",
          "text": [
            "Tópico que le asigna el modelo:\n",
            "3\n",
            "Al siguiente documento:\n",
            "['bienvenido', 'secretario', 'defensa', 'estados', 'unidos', 'delegación', 'oportunidad', 'temer', 'agenda', 'estados', 'unidos', 'chile', 'temer', 'temer', 'continente', 'temer', 'naturaleza', 'intención', 'país', 'relación', 'estados', 'unidos', 'amigo', 'causar', 'valorar', 'principio', 'compromiso', 'democracia', 'respetar', 'derecho', 'humano', 'estado', 'derecho', 'paz', 'punto', 'vestir', 'dudar', 'relación', 'estados', 'unidos', 'desafío', 'misionar', 'secretario', 'defensa', 'delegación', 'delegación', 'temer', 'ejemplo', 'colaboración', 'materia', 'tiempo', 'guerra', 'tiempo', 'paz', 'fuerzas', 'armadas', 'rol', 'soberanía', 'integridad', 'rol', 'ciudadano', 'tiempo', 'desastre', 'catástrofe', 'país', 'colaboración', 'estados', 'unidos', 'chile', 'área', 'país', 'centroamérica', 'caribe', 'reunión', 'presidentes', 'país', 'zona', 'temporada', 'huracán', 'chile', 'estados', 'unidos', 'país', 'adversidad', 'desastre', 'temer', 'sobremanera', 'estados', 'unidos', 'temer', 'ciberseguridad', 'ciberdefensa', 'país', 'américa', 'latina', 'tiempo', 'programar', 'fuerzas', 'armadas', 'capacidad', 'frontero', 'integridad', 'esfuerzo', 'paz', 'marina', 'ejercicio', 'rimpac', 'formar', 'presidente', 'marina', 'relación', 'campo', 'relacionar', 'terreno', 'terreno', 'colaboración', 'desafío', 'cambiar', 'globalización', 'revolución', 'miembro', 'gobierno', 'estados', 'unidos', 'oportunidad', 'conversarlo', 'presidente', 'trump', 'relación', 'estados', 'unidos', 'relación', 'amistar', 'relación', 'colaboración', 'relación', 'deber', 'obligación', 'señor', 'secretario', 'chile', 'relacionar', 'estados', 'unidos', 'página', 'relacionar', 'estados', 'unidos', 'chile', 'gracia']\n"
          ]
        }
      ]
    },
    {
      "cell_type": "code",
      "source": [
        "query11 = input(\"Interpretación:\")"
      ],
      "metadata": {
        "colab": {
          "base_uri": "https://localhost:8080/"
        },
        "id": "v7CIJllXmtz6",
        "outputId": "849aee86-7e1f-4804-a9b7-a1b2c88ff4f5"
      },
      "execution_count": null,
      "outputs": [
        {
          "name": "stdout",
          "output_type": "stream",
          "text": [
            "Interpretación:contingencia\n"
          ]
        }
      ]
    },
    {
      "cell_type": "code",
      "source": [
        "print('Tópico que le asigna el modelo:')\n",
        "print(most_probable_topic_test[93] + 1)\n",
        "print('Al siguiente documento:')\n",
        "print(processed_corpus_test[93])"
      ],
      "metadata": {
        "colab": {
          "base_uri": "https://localhost:8080/"
        },
        "id": "ctBltd1Jmt6S",
        "outputId": "b4176d0e-22fd-4eaf-a0eb-552fb6ff32d1"
      },
      "execution_count": null,
      "outputs": [
        {
          "output_type": "stream",
          "name": "stdout",
          "text": [
            "Tópico que le asigna el modelo:\n",
            "3\n",
            "Al siguiente documento:\n",
            "['tarde', 'honor', 'visitar', 'asunción', 'gobierno', 'momento', 'satisfacción', 'presidenta', 'república', 'croacia', 'kolinda', 'grabar', 'kitarovic', 'secretaria', 'estado', 'delegación', 'croacia', 'presidenta', 'apreciar', 'país', 'embajador', 'croacia', 'oportunidad', 'profundidad', 'país', 'acuerdo', 'agenda', 'colaboración', 'campar', 'período', 'fuente', 'colaboración', 'oportunidad', 'presidenta', 'campo', 'croacia', 'valorar', 'compromiso', 'democracia', 'libertar', 'estado', 'derecho', 'respetar', 'derecho', 'humano', 'visión', 'integración', 'mundo', 'dudar', 'colaboración', 'república', 'croacia', 'república', 'chile', 'relacionar', 'tiempo', 'chile', 'país', 'américa', 'latina', 'cuartar', 'naciente', 'república', 'croacia', 'diputar', 'don', 'baldo', 'prokurica', 'rol', 'campar', 'relacionar', 'año', 'verdad', 'amistar', 'cercanía', 'siglo', 'visitar', 'visitar', 'coser', 'común', 'chile', 'presidenta', 'colaboración', 'comunidad', 'croata', 'descendiente', 'croata', 'chile', 'patrio', 'biblia', 'fruto', 'conocer', 'verdad', 'aportar', 'comunidad', 'croata', 'país', 'área', 'quehacer', 'cultura', 'ciencia', 'político', 'presidenta', 'aportar', 'reclamar', 'ciudadano', 'país', 'vez', 'adversidad', 'instante', 'ola', 'freír', 'croacia', 'inundación', 'deslizamiento', 'aluvión', 'adversidad', 'alma', 'pueblo', 'historia', 'obstáculo', 'maremoto', 'terremoto', 'catástrofe', 'aluvión', 'guerra', 'tiempo', 'dolor', 'pérdida', 'democracia', 'forzar', 'sabiduría', 'ponernos', 'pie', 'día', 'croacia', 'chile', 'democracia', 'futuro', 'esperanzar', 'gracias', 'presidenta', 'chile', 'delegación', 'país']\n"
          ]
        }
      ]
    },
    {
      "cell_type": "code",
      "source": [
        "query12 = input(\"Interpretación:\")"
      ],
      "metadata": {
        "colab": {
          "base_uri": "https://localhost:8080/"
        },
        "id": "G4elqpggmt6S",
        "outputId": "3a194dc5-2322-4d18-eafc-c9a095dc1c1f"
      },
      "execution_count": null,
      "outputs": [
        {
          "name": "stdout",
          "output_type": "stream",
          "text": [
            "Interpretación:relaciones_exteriores\n"
          ]
        }
      ]
    },
    {
      "cell_type": "code",
      "source": [
        "print('Tópico que le asigna el modelo:')\n",
        "print(most_probable_topic_test[95] + 1)\n",
        "print('Al siguiente documento:')\n",
        "print(processed_corpus_test[95])"
      ],
      "metadata": {
        "colab": {
          "base_uri": "https://localhost:8080/"
        },
        "id": "RWChZaEwmuA3",
        "outputId": "31945e1b-6a22-4a53-abdb-064f2284b09f"
      },
      "execution_count": null,
      "outputs": [
        {
          "output_type": "stream",
          "name": "stdout",
          "text": [
            "Tópico que le asigna el modelo:\n",
            "1\n",
            "Al siguiente documento:\n",
            "['tarde', 'preocupación', 'chileno', 'seguridad', 'orden', 'consecuencia', 'prioridad', 'compromiso', 'gobierno', 'delincuencia', 'narcotráfico', 'crimen', 'terrorismo', 'forzar', 'ley', 'policía', 'razón', 'frente', 'enemigo', 'profesional', 'centímetro', 'ventaja', 'actitud', 'chileno', 'carabinero', 'policía', 'investigaciones', 'necesidad', 'combatirlos', 'rigor', 'forzar', 'eficacia', 'partir', 'motivación', 'proyectar', 'modernización', 'carabineros', 'congreso', 'proyectar', 'ley', 'comisión', 'seguridad', 'senado', 'día', 'senador', 'comisión', 'seguridad', 'trámite', 'ley', 'instrumento', 'capacidad', 'carabineros', 'policía', 'investigaciones', 'sistema', 'inteligencia', 'partir', 'transparencia', 'probidad', 'usar', 'recurso', 'partir', 'darle', 'eficacia', 'potenciar', 'capacidad', 'delincuencia', 'crimen', 'terrorismo', 'proyecto', 'ley', 'inteligencia', 'enemigo', 'sociedad', 'ley', 'control', 'armar', 'rol', 'municipio', 'seguridad', 'coordinación', 'policía', 'fiscal', 'poder', 'judicial', 'congreso', 'proyectar', 'ley', 'especialización', 'carabineros', 'labor', 'policía', 'investigaciones', 'labor', 'proyectar', 'ley', 'carrera', 'carabineros', 'policía', 'investigaciones', 'ver', 'criterio', 'ingresar', 'formación', 'evaluación', 'ascenso', 'miembro', 'carabineros', 'chile', 'vez', 'apreciar', 'reconocimiento', 'gratitud', 'labor', 'carabinero', 'largar', 'país', 'vez', 'sacrificio', 'abnegación', 'vida', 'carabineros', 'chile', 'vida', 'tranquilidad', 'seguridad', 'fin', 'semana', 'rondar', 'rondar', 'gobierno', 'personar', 'región', 'chile', 'delito', 'orden', 'detención', 'golpe', 'delincuencia', 'narcotráfico', 'país', 'oportunidad', 'carabinero', 'paseo', 'ahumada', 'personar', 'arrestar', 'orden', 'arraigar', 'país', 'penar', 'legislación', 'integridad', 'seguridad', 'carabinero', 'carabinero', 'chile', 'labor', 'carabinero', 'carabinero', 'cumplimiento', 'labor', 'vida', 'integridad', 'paz', 'seguridad', 'compatriota', 'razón', 'vez', 'gobierno', 'carabineros', 'chile', 'cumplimiento', 'labor', 'marcar', 'ley', 'marcar', 'ley', 'carabineros', 'chile', 'labor', 'forzar', 'defenderse', 'circunstancia', 'razonar', 'claridad', 'gobierno', 'carabinero', 'vacilación', 'dudar', 'sociedad', 'eficacia', 'delincuencia', 'narcotráfico', 'terrorismo', 'crimen', 'carabinero', 'autoridad', 'gobierno', 'ciudadano', 'reunión', 'día', 'moneda', 'comisión', 'seguridad', 'senado', 'partir', 'carabinero', 'claridad', 'responsable', 'agresión', 'severidad', 'orden', 'carabinero', 'chile', 'advertencia', 'compatriota', 'carabineros', 'policía', 'investigaciones', 'labor', 'delincuencia', 'crimen', 'narcotráfico', 'terrorismo', 'paz', 'tranquilidad', 'seguridad', 'compatriota', 'gracia']\n"
          ]
        }
      ]
    },
    {
      "cell_type": "code",
      "source": [
        "query13 = input(\"Interpretación:\")"
      ],
      "metadata": {
        "colab": {
          "base_uri": "https://localhost:8080/"
        },
        "id": "GAfsYyYtmuA4",
        "outputId": "e1425f67-0406-4a99-f534-00bdc7a59682"
      },
      "execution_count": null,
      "outputs": [
        {
          "name": "stdout",
          "output_type": "stream",
          "text": [
            "Interpretación:fuerzas_armadas\n"
          ]
        }
      ]
    },
    {
      "cell_type": "code",
      "source": [
        "print('Tópico que le asigna el modelo:')\n",
        "print(most_probable_topic_test[81] + 1)\n",
        "print('Al siguiente documento:')\n",
        "print(processed_corpus_test[81])"
      ],
      "metadata": {
        "colab": {
          "base_uri": "https://localhost:8080/"
        },
        "id": "0OlIkDh1muGt",
        "outputId": "a4fa25f5-8223-4b0b-ab74-44cfbb5b0054"
      },
      "execution_count": null,
      "outputs": [
        {
          "output_type": "stream",
          "name": "stdout",
          "text": [
            "Tópico que le asigna el modelo:\n",
            "1\n",
            "Al siguiente documento:\n",
            "['tarde', 'lugar', 'gratitud', 'alma', 'corazón', 'cabeza', 'proyectar', 'compromiso', 'país', 'saludo', 'comunidad', 'empresario', 'miembro', 'organización', 'suponer', 'ministro', 'proyectar', 'ministro', 'alfredo', 'moreno', 'responsabilidad', 'iniciativo', 'palabra', 'misión', 'chile', 'país', 'pobreza', 'igualdad', 'oportunidad', 'movilidad', 'desigualdad', 'coser', 'pasar', 'década', 'ingresar', 'cápita', 'usd', 'usd', 'paridad', 'nivelar', 'día', 'país', 'españa', 'italia', 'nueva', 'zelandia', 'ejemplo', 'crecimiento', 'instrumentar', 'fin', 'fin', 'desarrollar', 'desarrollar', 'pan', 'hombre', 'democracia', 'institución', 'convivencia', 'seguridad', 'hogar', 'familia', 'medioambiente', 'naturaleza', 'tren', 'suponer', 'tren', 'locomotora', 'combustible', 'tren', 'avanzar', 'chileno', 'chileno', 'tren', 'desarrollar', 'ejemplo', 'grupo', 'millón', 'chileno', 'chileno', 'educación', 'educación', 'sociedad', 'conocimiento', 'información', 'revolución', 'tecnológica', 'personar', 'educación', 'tren', 'pasajero', 'vera', 'caminar', 'componente', 'proyectar', 'compromiso', 'país', 'subirse', 'tren', 'desarrollar', 'tarea', 'tarea', 'país', 'verdad', 'país', 'sociedad', 'razón', 'proyectar', 'fuerza', 'esfuerzo', 'corazón', 'desarrollar', 'chile', 'desarrollar', 'hogar', 'país', 'ideo', 'país', 'caminar', 'desarrollar', 'desigualdad', 'país', 'desarrollar', 'nivel', 'distribución', 'ingresar', 'nivel', 'esencia', 'proyectar', 'crecimiento', 'inversión', 'innovación', 'emprendimiento', 'productividad', 'contrario', 'tren', 'tren', 'pasajero', 'subirse', 'tren', 'millón', 'millón', 'chileno', 'chileno', 'circunstancia', 'medio', 'subirse', 'tren', 'pilar', 'pobreza', 'igualdad', 'oportunidad', 'empleo', 'calidad', 'educación', 'familia', 'pilar', 'sociedad', 'sociedad', 'proyectar', 'compromiso', 'país', 'mapa', 'vulnerabilidad', 'grupo', 'chileno', 'chileno', 'medio', 'poder', 'beneficiarse', 'país', 'desarrollar', 'objetivar', 'identificarlos', 'político', 'vulnerabilidad', 'carencia', 'tren', 'desarrollar', 'alma', 'corazón', 'proyectar', 'compromiso', 'país', 'soñar', 'proyecto', 'noble', 'lado', 'crítico', 'lado', 'escepticismo', 'soñar', 'razón', 'soñar', 'soñar', 'mayoría', 'chileno', 'chileno', 'palabra', 'palabra', 'agradecerles', 'fondo', 'corazón', 'experiencia', 'dudar', 'obstáculo', 'dificultad', 'camino', 'cumbre', 'pavimentar', 'obstáculo', 'mujer', 'víctor', 'hugo', 'razón', 'víctor', 'hugo', 'futuro', 'significar', 'cobarde', 'miedo', 'pusilánime', 'misión', 'día', 'chile', 'audacia', 'valentía', 'compromiso', 'voluntad', 'chile', 'chileno', 'partir', 'proyectar', 'chile', 'formar', 'saber', 'lugar', 'saber', 'lugar', 'beneficiarse', 'logro', 'proyectar', 'razón', 'proyecto', 'proyecto', 'proyecto', 'día', 'historia', 'frustración', 'cursar', 'historia', 'futuro', 'país', 'antepasado', 'país', 'país', 'país', 'país', 'aportar', 'capacidad', 'gestión', 'compromiso', 'experiencia', 'voluntad', 'mesar', 'trabajar', 'ministro', 'estado', 'deber', 'responsabilidad', 'contrario', 'confusión', 'partir', 'sociedad', 'proyectar', 'trascender', 'estado', 'sociedad', 'académico', 'organización', 'empresario', 'conducción', 'estado', 'deber', 'responsabilidad', 'fuerza', 'chile', 'década', 'país', 'país', 'américa', 'latina', 'desarrollar', 'pobreza', 'sociedad', 'igualdad', 'oportunidad', 'movilidad', 'solidaridad', 'gracia']\n"
          ]
        }
      ]
    },
    {
      "cell_type": "code",
      "source": [
        "query14 = input(\"Interpretación:\")"
      ],
      "metadata": {
        "colab": {
          "base_uri": "https://localhost:8080/"
        },
        "id": "ZMULhpKwmuGt",
        "outputId": "5e0967fa-2438-437c-af34-dec6a0701d3e"
      },
      "execution_count": null,
      "outputs": [
        {
          "name": "stdout",
          "output_type": "stream",
          "text": [
            "Interpretación:sociedad\n"
          ]
        }
      ]
    },
    {
      "cell_type": "code",
      "source": [
        "print('Tópico que le asigna el modelo:')\n",
        "print(most_probable_topic_test[62] + 1)\n",
        "print('Al siguiente documento:')\n",
        "print(processed_corpus_test[62])"
      ],
      "metadata": {
        "colab": {
          "base_uri": "https://localhost:8080/"
        },
        "id": "xWpEKlgVmuMq",
        "outputId": "9055cc8b-1e40-4a67-bb84-96383010e0dd"
      },
      "execution_count": null,
      "outputs": [
        {
          "output_type": "stream",
          "name": "stdout",
          "text": [
            "Tópico que le asigna el modelo:\n",
            "1\n",
            "Al siguiente documento:\n",
            "['día', 'señor', 'ministro', 'señor', 'subsecretario', 'parlamentarios', 'dirigentes', 'dirigirme', 'trabajador', 'país', 'gobierno', 'año', 'gobernar', 'balance', 'tiempo', 'compromiso', 'tiempo', 'cuenta', 'palabra', 'objetivo', 'compatriota', 'cargar', 'urgencia', 'decisión', 'coraje', 'orden', 'casar', 'materia', 'migración', 'pie', 'igualdad', 'derecho', 'obligación', 'dignidad', 'hombre', 'mujer', 'tolerancia', 'cero', 'tipo', 'violencia', 'maltratar', 'abusar', 'mujer', 'niño', 'fila', 'carabineros', 'chile', 'eficacia', 'delincuencia', 'urgencia', 'urgencia', 'chile', 'marchar', 'país', 'dinamismo', 'liderazgo', 'crecimiento', 'creación', 'empleo', 'inversión', 'productividad', 'innovación', 'emprendimiento', 'año', 'año', 'chile', 'chile', 'marchar', 'tasar', 'crecimiento', 'empleo', 'calidad', 'salario', 'inversión', 'productividad', 'gobierno', 'día', 'forzar', 'prioridad', 'compatriota', 'modernización', 'modernización', 'crecimiento', 'emplear', 'salario', 'modernización', 'empleo', 'derecho', 'trabajador', 'reformar', 'pensionar', 'mejoría', 'pensionar', 'partir', 'ley', 'vigencia', 'millón', 'chileno', 'chileno', 'verdad', 'año', 'compatriota', 'desafío', 'año', 'delincuencia', 'narcotráfico', 'terrorismo', 'forzar', 'voluntad', 'eficacia', 'delincuencia', 'tranquilidad', 'avanzar', 'clase', 'corazón', 'prioridad', 'gobierno', 'día', 'programa', 'clase', 'media', 'protegida', 'atención', 'clase', 'clase', 'país', 'década', 'basar', 'esforzar', 'mérito', 'talento', 'razón', 'economía', 'liderazgo', 'dinamismo', 'capacidad', 'clase', 'temor', 'día', 'temor', 'enfermedad', 'destinar', 'temor', 'pérdida', 'emplear', 'temor', 'acto', 'delincuencia', 'temor', 'educación', 'hijo', 'temor', 'vejez', 'programa', 'clase', 'media', 'protegida', 'temor', 'miembro', 'clase', 'tiempo', 'gobierno', 'formar', 'día', 'ponerse', 'pie', 'prioridad', 'chile', 'marchar', 'empleo', 'salario', 'pymes', 'desafío', 'futuro', 'seguridad', 'clase', 'chile', 'marchar', 'prioridad', 'año', 'mensaje', 'espíritu', 'gobierno', 'día', 'país', 'seguridad', 'basar', 'diálogo', 'acuerdo', 'voluntad', 'colaboración', 'decisión', 'compromiso', 'gobierno', 'diálogo', 'colaboración', 'chileno', 'gobierno', 'oposición', 'luchar', 'contrario', 'acuerdo', 'razonar', 'país', 'opinión', 'ciudadanía', 'premiar', 'voluntad', 'diálogo', 'colaboración', 'acuerdo', 'día', 'reformar', 'gobierno', 'mundo', 'economía', 'trabajar', 'capacitación', 'país', 'mundo', 'personar', 'etapa', 'vida', 'restar', 'vida', 'es', 'decir', 'vida', 'conocimiento', 'historia', 'día', 'procesar', 'aprendizaje', 'día', 'tiempo', 'mundo', 'velocidad', 'rayar', 'modernización', 'sistema', 'capacitación', 'sistema', 'capacitación', 'informe', 'pesar', 'millón', 'dólar', 'trabajador', 'impactar', 'empleabilidad', 'capacidad', 'emplear', 'salario', 'capacidad', 'salario', 'día', 'pasar', 'modernización', 'sistema', 'capacitación', 'país', 'empleabilidad', 'decir', 'poder', 'empleo', 'productividad', 'salario', 'calidad', 'vida', 'trabajador', 'legislación', 'objetivo', 'empleo', 'político', 'emplear', 'gobernar', 'trabajador', 'empleo', 'coser', 'empleo', 'político', 'objetivar', 'político', 'mundo', 'trabajar', 'mundo', 'familia', 'trabajar', 'familia', 'acceso', 'amigo', 'deportar', 'cultura', 'recreación', 'político', 'compatibilización', 'mundo', 'lugar', 'político', 'eficacia', 'oportunidad', 'derecho', 'trabajador', 'razón', 'trabajar', 'trabajar', 'formar', 'ganarse', 'vida', 'formar', 'sentirnos', 'integrarnos', 'sociedad', 'familia', 'país', 'modernización', 'sence', 'día', 'dirección', 'sence', 'día', 'año', 'necesidad', 'comisión', 'larrañaga', 'comisión', 'nacional', 'productividad', 'formar', 'sence', 'sistema', 'capacitación', 'resultar', 'decir', 'resultar', 'productividad', 'empleabilidad', 'acceso', 'trabajo', 'salario', 'basar', 'insumo', 'sistema', 'sistema', 'preferencia', 'resultar', 'trabajador', 'trabajo', 'productividad', 'salariar', 'premiar', 'partir', 'estado', 'través', 'franquicia', 'sence', 'sistema', 'copagos', 'estado', 'partir', 'empresa', 'cofinanciamiento', 'formar', 'interesar', 'estado', 'empresa', 'capacitación', 'coser', 'gratis', 'vez', 'franquicia', 'personar', 'día', 'personar', 'trabajar', 'trabajador', 'pymes', 'vez', 'acceso', 'capacitación', 'adulto', 'sistema', 'capacitación', 'tiempo', 'sociedad', 'facultad', 'facultad', 'control', 'gobierno', 'capacitación', 'sistema', 'capacitación', 'salario', 'empleabilidad', 'fortuna', 'sistema', 'trabajador', 'educarse', 'desarrollarse', 'productividad', 'salario', 'oportunidad', 'empleo', 'eje', 'sence', 'mundo', 'futuro', 'mundo', 'pasar', 'razón', 'reformar', 'pasar', 'modernización', 'formar', 'derecho', 'oportunidad', 'trabajador', 'vez', 'formar', 'contrario', 'capacidad', 'trabajador', 'productividad', 'salario', 'empleo', 'trabajador', 'chile', 'estado', 'capacitación', 'decir', 'personar', 'espacio', 'capacitación', 'capacitación', 'día', 'vez', 'tarea', 'demandar', 'necesidad', 'grupo', 'mujer', 'programación', 'demandar', 'programador', 'sociedad', 'emplear', 'inmediato', 'salario', 'salario', 'promediar', 'país', 'ayudar', 'trabajador', 'emplear', 'salariar', 'empresa', 'país', 'futuro', 'pie', 'reformar', 'millón', 'niño', 'joven', 'educación', 'millón', 'estudiante', 'educación', 'millón', 'trabajador', 'educación', 'sence', 'cargar', 'desafío', 'futuro', 'estudio', 'mitad', 'trabajo', 'día', 'chile', 'robótico', 'tecnología', 'ola', 'revolución', 'robótico', 'tecnología', 'frente', 'ola', 'opción', 'subirnos', 'ola', 'forzar', 'calidad', 'vida', 'trabajador', 'sence', 'mundo', 'revolución', 'revolución', 'trabajador', 'ciudadano', 'clase', 'sociedad', 'conocimiento', 'información', 'desafiar', 'trabajador', 'educación', 'procesar', 'niño', 'joven', 'trabajador', 'mujer', 'pymes', 'adulto', 'gracia']\n"
          ]
        }
      ]
    },
    {
      "cell_type": "code",
      "source": [
        "query15 = input(\"Interpretación:\")"
      ],
      "metadata": {
        "colab": {
          "base_uri": "https://localhost:8080/"
        },
        "id": "mJaj4lVZmuMq",
        "outputId": "5f8bf5db-1c52-416a-a40b-8349107f535e"
      },
      "execution_count": null,
      "outputs": [
        {
          "name": "stdout",
          "output_type": "stream",
          "text": [
            "Interpretación:sociedad\n"
          ]
        }
      ]
    },
    {
      "cell_type": "markdown",
      "source": [
        "Realizada la interpretación manual de 15 documentos aleatorios podemos concluir lo siguiente:\n",
        "\n",
        "Interpretaciones:\n",
        "\n",
        "4 similitudes entre el modelo y la interpretación manual.\n",
        "11 diferencias entre el modelo y la interpretación manual.\n",
        "\n",
        "En resumen, un 27% de las interpretaciones manuales coincidieron con la predicción del modelo.\n",
        "\n",
        "\n",
        "\n",
        "\n",
        "\n",
        "\n"
      ],
      "metadata": {
        "id": "WO8p1jiJrE9Q"
      }
    },
    {
      "cell_type": "markdown",
      "source": [
        "## Conclusión:\n",
        "\n",
        "El pre-procesamiento y limpieza que se realiza a los documentos es preponderante para los resultados del modelo, ya que, en las pruebas que realizamos inicialmente no incluimos expresiones regulares, ni realizamos etiquetado de palabras y lograr interpretar un tópico del resultado del modelo fue complejo.\n",
        "\n",
        "Los topicos tienden a estar juntos dado que las temáticas o contexto de los discursos en general estan relacionados.\n",
        "\n",
        "El máximo valor de coherencia no necesariamente es la mejor elección de la cantidad de tópicos, ya que, en nuestro modelo al utilizar el valor máximo de coherencia los tópicos quedaban traslapados unos con otros.\n",
        "\n",
        "Finalmente consideramos que la interpretación del tópico es un tanto subjetiva y depende netamente de la persona que lo realiza.\n"
      ],
      "metadata": {
        "id": "bmI5o0p3sSf8"
      }
    }
  ]
}